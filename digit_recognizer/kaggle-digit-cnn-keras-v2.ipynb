{
 "cells": [
  {
   "cell_type": "markdown",
   "metadata": {},
   "source": [
    "<h1 id=\"Kaggle-Digit-Recognizer \">Kaggle Digit Recognizer&nbsp;</h1>\n",
    "\n",
    "<h2 id=\"MNIST-Image-Classification with-Keras-CNN-model\">MNIST Image Classification&nbsp;with Keras CNN model</h2>\n",
    "\n",
    "<p>conditions:</p>\n",
    "\n",
    "<ol>\n",
    "\t<li>Image input from local data, normalized and reshape input to [-1, HEIGHT, WIDTH, 1]</li>\n",
    "\t<li>data&nbsp;augmentation</li>\n",
    "\t<li>CNN model, ir = 0.001 with decrease schedule</li>\n",
    "\t<li>train for 20 &nbsp;- 30 epochs</li>\n",
    "\t<li>ensemble learning</li>\n",
    "</ol>\n",
    "\n",
    "<p>&nbsp;</p>\n",
    "\n",
    "<p>&nbsp;</p>\n"
   ]
  },
  {
   "cell_type": "code",
   "execution_count": 4,
   "metadata": {},
   "outputs": [
    {
     "name": "stdout",
     "output_type": "stream",
     "text": [
      "1.13.1\n"
     ]
    }
   ],
   "source": [
    "import numpy as np\n",
    "import pandas as pd\n",
    "import matplotlib.pyplot as plt\n",
    "from PIL import Image\n",
    "import pydot\n",
    "import os\n",
    "import json\n",
    "\n",
    "from sklearn.model_selection import train_test_split\n",
    "\n",
    "\n",
    "import tensorflow as tf\n",
    "print(tf.__version__)\n",
    "\n",
    "from tensorflow import keras\n",
    "from tensorflow.keras.preprocessing.image import ImageDataGenerator\n",
    "from tensorflow.keras.callbacks import LearningRateScheduler"
   ]
  },
  {
   "cell_type": "markdown",
   "metadata": {},
   "source": [
    "<h2 id=\"Exploring-and-processing data\">Exploring and processing&nbsp;data</h2>\n"
   ]
  },
  {
   "cell_type": "code",
   "execution_count": 15,
   "metadata": {},
   "outputs": [],
   "source": [
    "train = pd.read_csv('data/train.csv')\n",
    "test = pd.read_csv('data/test.csv')\n",
    "sample_submission = pd.read_csv('data/sample_submission.csv')"
   ]
  },
  {
   "cell_type": "code",
   "execution_count": 16,
   "metadata": {
    "scrolled": true
   },
   "outputs": [
    {
     "data": {
      "text/html": [
       "<div>\n",
       "<style scoped>\n",
       "    .dataframe tbody tr th:only-of-type {\n",
       "        vertical-align: middle;\n",
       "    }\n",
       "\n",
       "    .dataframe tbody tr th {\n",
       "        vertical-align: top;\n",
       "    }\n",
       "\n",
       "    .dataframe thead th {\n",
       "        text-align: right;\n",
       "    }\n",
       "</style>\n",
       "<table border=\"1\" class=\"dataframe\">\n",
       "  <thead>\n",
       "    <tr style=\"text-align: right;\">\n",
       "      <th></th>\n",
       "      <th>label</th>\n",
       "      <th>pixel0</th>\n",
       "      <th>pixel1</th>\n",
       "      <th>pixel2</th>\n",
       "      <th>pixel3</th>\n",
       "      <th>pixel4</th>\n",
       "      <th>pixel5</th>\n",
       "      <th>pixel6</th>\n",
       "      <th>pixel7</th>\n",
       "      <th>pixel8</th>\n",
       "      <th>...</th>\n",
       "      <th>pixel774</th>\n",
       "      <th>pixel775</th>\n",
       "      <th>pixel776</th>\n",
       "      <th>pixel777</th>\n",
       "      <th>pixel778</th>\n",
       "      <th>pixel779</th>\n",
       "      <th>pixel780</th>\n",
       "      <th>pixel781</th>\n",
       "      <th>pixel782</th>\n",
       "      <th>pixel783</th>\n",
       "    </tr>\n",
       "  </thead>\n",
       "  <tbody>\n",
       "    <tr>\n",
       "      <th>0</th>\n",
       "      <td>1</td>\n",
       "      <td>0</td>\n",
       "      <td>0</td>\n",
       "      <td>0</td>\n",
       "      <td>0</td>\n",
       "      <td>0</td>\n",
       "      <td>0</td>\n",
       "      <td>0</td>\n",
       "      <td>0</td>\n",
       "      <td>0</td>\n",
       "      <td>...</td>\n",
       "      <td>0</td>\n",
       "      <td>0</td>\n",
       "      <td>0</td>\n",
       "      <td>0</td>\n",
       "      <td>0</td>\n",
       "      <td>0</td>\n",
       "      <td>0</td>\n",
       "      <td>0</td>\n",
       "      <td>0</td>\n",
       "      <td>0</td>\n",
       "    </tr>\n",
       "    <tr>\n",
       "      <th>1</th>\n",
       "      <td>0</td>\n",
       "      <td>0</td>\n",
       "      <td>0</td>\n",
       "      <td>0</td>\n",
       "      <td>0</td>\n",
       "      <td>0</td>\n",
       "      <td>0</td>\n",
       "      <td>0</td>\n",
       "      <td>0</td>\n",
       "      <td>0</td>\n",
       "      <td>...</td>\n",
       "      <td>0</td>\n",
       "      <td>0</td>\n",
       "      <td>0</td>\n",
       "      <td>0</td>\n",
       "      <td>0</td>\n",
       "      <td>0</td>\n",
       "      <td>0</td>\n",
       "      <td>0</td>\n",
       "      <td>0</td>\n",
       "      <td>0</td>\n",
       "    </tr>\n",
       "    <tr>\n",
       "      <th>2</th>\n",
       "      <td>1</td>\n",
       "      <td>0</td>\n",
       "      <td>0</td>\n",
       "      <td>0</td>\n",
       "      <td>0</td>\n",
       "      <td>0</td>\n",
       "      <td>0</td>\n",
       "      <td>0</td>\n",
       "      <td>0</td>\n",
       "      <td>0</td>\n",
       "      <td>...</td>\n",
       "      <td>0</td>\n",
       "      <td>0</td>\n",
       "      <td>0</td>\n",
       "      <td>0</td>\n",
       "      <td>0</td>\n",
       "      <td>0</td>\n",
       "      <td>0</td>\n",
       "      <td>0</td>\n",
       "      <td>0</td>\n",
       "      <td>0</td>\n",
       "    </tr>\n",
       "    <tr>\n",
       "      <th>3</th>\n",
       "      <td>4</td>\n",
       "      <td>0</td>\n",
       "      <td>0</td>\n",
       "      <td>0</td>\n",
       "      <td>0</td>\n",
       "      <td>0</td>\n",
       "      <td>0</td>\n",
       "      <td>0</td>\n",
       "      <td>0</td>\n",
       "      <td>0</td>\n",
       "      <td>...</td>\n",
       "      <td>0</td>\n",
       "      <td>0</td>\n",
       "      <td>0</td>\n",
       "      <td>0</td>\n",
       "      <td>0</td>\n",
       "      <td>0</td>\n",
       "      <td>0</td>\n",
       "      <td>0</td>\n",
       "      <td>0</td>\n",
       "      <td>0</td>\n",
       "    </tr>\n",
       "    <tr>\n",
       "      <th>4</th>\n",
       "      <td>0</td>\n",
       "      <td>0</td>\n",
       "      <td>0</td>\n",
       "      <td>0</td>\n",
       "      <td>0</td>\n",
       "      <td>0</td>\n",
       "      <td>0</td>\n",
       "      <td>0</td>\n",
       "      <td>0</td>\n",
       "      <td>0</td>\n",
       "      <td>...</td>\n",
       "      <td>0</td>\n",
       "      <td>0</td>\n",
       "      <td>0</td>\n",
       "      <td>0</td>\n",
       "      <td>0</td>\n",
       "      <td>0</td>\n",
       "      <td>0</td>\n",
       "      <td>0</td>\n",
       "      <td>0</td>\n",
       "      <td>0</td>\n",
       "    </tr>\n",
       "  </tbody>\n",
       "</table>\n",
       "<p>5 rows × 785 columns</p>\n",
       "</div>"
      ],
      "text/plain": [
       "   label  pixel0  pixel1  pixel2  pixel3  pixel4  pixel5  pixel6  pixel7  \\\n",
       "0      1       0       0       0       0       0       0       0       0   \n",
       "1      0       0       0       0       0       0       0       0       0   \n",
       "2      1       0       0       0       0       0       0       0       0   \n",
       "3      4       0       0       0       0       0       0       0       0   \n",
       "4      0       0       0       0       0       0       0       0       0   \n",
       "\n",
       "   pixel8  ...  pixel774  pixel775  pixel776  pixel777  pixel778  pixel779  \\\n",
       "0       0  ...         0         0         0         0         0         0   \n",
       "1       0  ...         0         0         0         0         0         0   \n",
       "2       0  ...         0         0         0         0         0         0   \n",
       "3       0  ...         0         0         0         0         0         0   \n",
       "4       0  ...         0         0         0         0         0         0   \n",
       "\n",
       "   pixel780  pixel781  pixel782  pixel783  \n",
       "0         0         0         0         0  \n",
       "1         0         0         0         0  \n",
       "2         0         0         0         0  \n",
       "3         0         0         0         0  \n",
       "4         0         0         0         0  \n",
       "\n",
       "[5 rows x 785 columns]"
      ]
     },
     "execution_count": 16,
     "metadata": {},
     "output_type": "execute_result"
    }
   ],
   "source": [
    "train.head()"
   ]
  },
  {
   "cell_type": "code",
   "execution_count": 17,
   "metadata": {},
   "outputs": [
    {
     "data": {
      "text/plain": [
       "42000"
      ]
     },
     "execution_count": 17,
     "metadata": {},
     "output_type": "execute_result"
    }
   ],
   "source": [
    "train.label.count()"
   ]
  },
  {
   "cell_type": "code",
   "execution_count": 18,
   "metadata": {},
   "outputs": [],
   "source": [
    "train_images = train.drop(labels = [\"label\"],axis = 1)\n",
    "train_labels = train[\"label\"]\n"
   ]
  },
  {
   "cell_type": "code",
   "execution_count": 19,
   "metadata": {},
   "outputs": [],
   "source": [
    "train_images = train_images.to_numpy()/255.0\n",
    "test_images = test.to_numpy()/255.0\n"
   ]
  },
  {
   "cell_type": "code",
   "execution_count": 20,
   "metadata": {},
   "outputs": [],
   "source": [
    "HEIGHT = 28\n",
    "WIDTH = 28\n",
    "NCLASSES = 10"
   ]
  },
  {
   "cell_type": "code",
   "execution_count": 21,
   "metadata": {},
   "outputs": [
    {
     "data": {
      "text/plain": [
       "1    4684\n",
       "7    4401\n",
       "3    4351\n",
       "9    4188\n",
       "2    4177\n",
       "6    4137\n",
       "0    4132\n",
       "4    4072\n",
       "8    4063\n",
       "5    3795\n",
       "Name: label, dtype: int64"
      ]
     },
     "execution_count": 21,
     "metadata": {},
     "output_type": "execute_result"
    }
   ],
   "source": [
    "train_labels.value_counts()"
   ]
  },
  {
   "cell_type": "code",
   "execution_count": 22,
   "metadata": {
    "scrolled": true
   },
   "outputs": [
    {
     "data": {
      "image/png": "[encoded data removed]",
      "text/plain": [
       "<Figure size 1440x360 with 20 Axes>"
      ]
     },
     "metadata": {
      "needs_background": "light"
     },
     "output_type": "display_data"
    }
   ],
   "source": [
    "i = 50\n",
    "plt.figure(figsize=(20,5))\n",
    "for IMGNO in range(i,i+20):  \n",
    "    plt.subplot(2, 10, IMGNO-i+1)\n",
    "    plt.imshow(train_images[IMGNO].reshape(HEIGHT, WIDTH), cmap=plt.cm.binary)\n",
    "    plt.title(\"label = %d\" % train_labels[IMGNO],y=0.9)\n",
    "    plt.axis('off')"
   ]
  },
  {
   "cell_type": "code",
   "execution_count": 14,
   "metadata": {},
   "outputs": [],
   "source": [
    "train_images = train_images.reshape(-1,HEIGHT,WIDTH,1)\n",
    "test_images = test_images.reshape(-1,HEIGHT,WIDTH,1)\n",
    "\n",
    "train_labels = keras.utils.to_categorical(train_labels, num_classes = NCLASSES)"
   ]
  },
  {
   "cell_type": "code",
   "execution_count": 10,
   "metadata": {},
   "outputs": [
    {
     "data": {
      "text/plain": [
       "array([[0., 1., 0., 0., 0., 0., 0., 0., 0., 0.],\n",
       "       [1., 0., 0., 0., 0., 0., 0., 0., 0., 0.],\n",
       "       [0., 1., 0., 0., 0., 0., 0., 0., 0., 0.],\n",
       "       [0., 0., 0., 0., 1., 0., 0., 0., 0., 0.],\n",
       "       [1., 0., 0., 0., 0., 0., 0., 0., 0., 0.]], dtype=float32)"
      ]
     },
     "execution_count": 10,
     "metadata": {},
     "output_type": "execute_result"
    }
   ],
   "source": [
    "train_labels[:5]"
   ]
  },
  {
   "cell_type": "code",
   "execution_count": 12,
   "metadata": {},
   "outputs": [
    {
     "data": {
      "text/plain": [
       "37800"
      ]
     },
     "execution_count": 12,
     "metadata": {},
     "output_type": "execute_result"
    }
   ],
   "source": [
    "X_train, X_val, Y_train, Y_val = train_test_split(train_images, train_labels, test_size = 0.1)\n",
    "\n",
    "len(Y_train)"
   ]
  },
  {
   "cell_type": "markdown",
   "metadata": {},
   "source": [
    "## Data augmentation"
   ]
  },
  {
   "cell_type": "code",
   "execution_count": 13,
   "metadata": {},
   "outputs": [],
   "source": [
    "datagen = ImageDataGenerator(\n",
    "        rotation_range=10,  \n",
    "        zoom_range = 0.10,  \n",
    "        width_shift_range=0.1, \n",
    "        height_shift_range=0.1)\n",
    "\n",
    "datagen.fit(X_train)"
   ]
  },
  {
   "cell_type": "markdown",
   "metadata": {},
   "source": [
    "## CNN model with Keras functional API\n"
   ]
  },
  {
   "cell_type": "code",
   "execution_count": 14,
   "metadata": {},
   "outputs": [],
   "source": [
    "def get_model():\n",
    "\n",
    "    X = keras.layers.Input(shape = (HEIGHT, WIDTH, 1))\n",
    "\n",
    "    c1 = keras.layers.Conv2D(filters = 16, kernel_size = 5, strides = 1, padding = 'same', activation = 'relu')(X)   # shape = (batch_size, HEIGHT, WIDTH, nfil1)\n",
    "\n",
    "    #c1 = keras.layers.BatchNormalization()(c1)          \n",
    "                      \n",
    "    p1 = keras.layers.MaxPool2D(pool_size = 2, strides = 2)(c1)                                                       # shape = (batch_size, HEIGHT // 2, WIDTH // 2, nfil1)\n",
    "    \n",
    "    c2 = keras.layers.Conv2D(filters = 32, kernel_size = 5, strides = 1, padding = 'same', activation = 'relu')(p1)    # shape = (batch_size, HEIGHT // 2, WIDTH // 2, nfil2)\n",
    "    \n",
    "    #c2 = keras.layers.BatchNormalization()(c2)   \n",
    "\n",
    "    p2 = keras.layers.MaxPool2D(pool_size = 2, strides = 2)(c2)                                                        # shape = (batch_size, HEIGHT // 4, WIDTH // 4, nfil2)\n",
    "\n",
    "    c3 = keras.layers.Conv2D(filters = 64, kernel_size = 3, strides = 1, padding = 'same', activation = 'relu')(p2)    # shape = (batch_size, HEIGHT // 2, WIDTH // 2, nfil2)\n",
    "\n",
    "    #c3 = keras.layers.BatchNormalization()(c3)      \n",
    "\n",
    "    p3 = keras.layers.MaxPool2D(pool_size = 2, strides = 2)(c3)                                                      # shape = (batch_size, HEIGHT // 4, WIDTH // 4, nfil2)\n",
    "\n",
    "    p3 = keras.layers.Flatten()(p3)                                                                               # shape = (batch_size, HEIGHT // 4 * WIDTH // 4 * nfil2)\n",
    "\n",
    "    h3 = keras.layers.Dense(units = 64, activation = 'relu')(p3)\n",
    "    \n",
    "    #h3 = keras.layers.BatchNormalization()(h3)               \n",
    "    \n",
    "    h3 = keras.layers.Dropout(rate = 0.25)(h3)\n",
    "\n",
    "    output = keras.layers.Dense(units = NCLASSES, activation = 'softmax')(h3)\n",
    "  \n",
    "    #output = keras.layers.BatchNormalization()(output)\n",
    "\n",
    "    model = keras.Model(inputs=X, outputs=output)\n",
    "    \n",
    "    model.compile(optimizer=keras.optimizers.Adam(lr=0.001), loss=\"categorical_crossentropy\", metrics=[\"accuracy\"])\n",
    "    \n",
    "    return model"
   ]
  },
  {
   "cell_type": "code",
   "execution_count": 15,
   "metadata": {
    "scrolled": true
   },
   "outputs": [
    {
     "name": "stdout",
     "output_type": "stream",
     "text": [
      "WARNING:tensorflow:From C:\\Users\\huangf\\Anaconda3\\envs\\ML\\lib\\site-packages\\tensorflow\\python\\ops\\resource_variable_ops.py:435: colocate_with (from tensorflow.python.framework.ops) is deprecated and will be removed in a future version.\n",
      "Instructions for updating:\n",
      "Colocations handled automatically by placer.\n",
      "WARNING:tensorflow:From C:\\Users\\huangf\\Anaconda3\\envs\\ML\\lib\\site-packages\\tensorflow\\python\\keras\\layers\\core.py:143: calling dropout (from tensorflow.python.ops.nn_ops) with keep_prob is deprecated and will be removed in a future version.\n",
      "Instructions for updating:\n",
      "Please use `rate` instead of `keep_prob`. Rate should be set to `rate = 1 - keep_prob`.\n",
      "_________________________________________________________________\n",
      "Layer (type)                 Output Shape              Param #   \n",
      "=================================================================\n",
      "input_1 (InputLayer)         (None, 28, 28, 1)         0         \n",
      "_________________________________________________________________\n",
      "conv2d (Conv2D)              (None, 28, 28, 16)        416       \n",
      "_________________________________________________________________\n",
      "max_pooling2d (MaxPooling2D) (None, 14, 14, 16)        0         \n",
      "_________________________________________________________________\n",
      "conv2d_1 (Conv2D)            (None, 14, 14, 32)        12832     \n",
      "_________________________________________________________________\n",
      "max_pooling2d_1 (MaxPooling2 (None, 7, 7, 32)          0         \n",
      "_________________________________________________________________\n",
      "conv2d_2 (Conv2D)            (None, 7, 7, 64)          18496     \n",
      "_________________________________________________________________\n",
      "max_pooling2d_2 (MaxPooling2 (None, 3, 3, 64)          0         \n",
      "_________________________________________________________________\n",
      "flatten (Flatten)            (None, 576)               0         \n",
      "_________________________________________________________________\n",
      "dense (Dense)                (None, 64)                36928     \n",
      "_________________________________________________________________\n",
      "dropout (Dropout)            (None, 64)                0         \n",
      "_________________________________________________________________\n",
      "dense_1 (Dense)              (None, 10)                650       \n",
      "=================================================================\n",
      "Total params: 69,322\n",
      "Trainable params: 69,322\n",
      "Non-trainable params: 0\n",
      "_________________________________________________________________\n",
      "None\n"
     ]
    }
   ],
   "source": [
    "print(get_model().summary())\n",
    "\n",
    "#keras.utils.plot_model(model, to_file='digit-cnn-keras_graph.png')\n",
    "\n",
    "#display(Image.open('digit-cnn-keras_graph.png'))"
   ]
  },
  {
   "cell_type": "markdown",
   "metadata": {},
   "source": [
    "<h2 id=\"train-model\">Train 10 models</h2>\n"
   ]
  },
  {
   "cell_type": "code",
   "execution_count": 16,
   "metadata": {},
   "outputs": [
    {
     "name": "stdout",
     "output_type": "stream",
     "text": [
      "WARNING:tensorflow:From C:\\Users\\huangf\\Anaconda3\\envs\\ML\\lib\\site-packages\\tensorflow\\python\\ops\\math_ops.py:3066: to_int32 (from tensorflow.python.ops.math_ops) is deprecated and will be removed in a future version.\n",
      "Instructions for updating:\n",
      "Use tf.cast instead.\n",
      "4200/4200 [==============================] - 3s 800us/sample - loss: 0.1011 - acc: 0.9695\n",
      "4200/4200 [==============================] - 3s 632us/sample - loss: 0.0672 - acc: 0.9771\n",
      "4200/4200 [==============================] - 2s 595us/sample - loss: 0.0546 - acc: 0.9829\n",
      "4200/4200 [==============================] - 2s 558us/sample - loss: 0.0424 - acc: 0.9862\n",
      "4200/4200 [==============================] - 2s 569us/sample - loss: 0.0386 - acc: 0.9879\n",
      "4200/4200 [==============================] - 2s 558us/sample - loss: 0.0437 - acc: 0.9876\n",
      "4200/4200 [==============================] - 2s 554us/sample - loss: 0.0337 - acc: 0.9881\n",
      "4200/4200 [==============================] - 2s 565us/sample - loss: 0.0373 - acc: 0.9890\n",
      "4200/4200 [==============================] - 2s 558us/sample - loss: 0.0326 - acc: 0.9893\n",
      "4200/4200 [==============================] - 2s 580us/sample - loss: 0.0334 - acc: 0.9907\n",
      "4200/4200 [==============================] - 2s 558us/sample - loss: 0.0359 - acc: 0.9890\n",
      "4200/4200 [==============================] - 3s 599us/sample - loss: 0.0318 - acc: 0.9900\n",
      "4200/4200 [==============================] - 2s 562us/sample - loss: 0.0311 - acc: 0.9914\n",
      "4200/4200 [==============================] - 3s 609us/sample - loss: 0.0443 - acc: 0.9871\n",
      "4200/4200 [==============================] - 2s 560us/sample - loss: 0.0283 - acc: 0.9912\n",
      "4200/4200 [==============================] - 2s 584us/sample - loss: 0.0324 - acc: 0.9905\n",
      "4200/4200 [==============================] - 2s 565us/sample - loss: 0.0338 - acc: 0.9890\n",
      "4200/4200 [==============================] - 2s 569us/sample - loss: 0.0297 - acc: 0.9910\n",
      "4200/4200 [==============================] - 2s 569us/sample - loss: 0.0332 - acc: 0.9902\n",
      "4200/4200 [==============================] - 2s 558us/sample - loss: 0.0276 - acc: 0.9907\n",
      "4200/4200 [==============================] - 2s 558us/sample - loss: 0.0301 - acc: 0.9912\n",
      "4200/4200 [==============================] - 2s 554us/sample - loss: 0.0232 - acc: 0.9933\n",
      "4200/4200 [==============================] - 2s 558us/sample - loss: 0.0233 - acc: 0.9921\n",
      "4200/4200 [==============================] - 2s 558us/sample - loss: 0.0292 - acc: 0.9924\n",
      "4200/4200 [==============================] - 3s 606us/sample - loss: 0.0240 - acc: 0.9931\n",
      "4200/4200 [==============================] - 2s 558us/sample - loss: 0.0292 - acc: 0.9924\n",
      "4200/4200 [==============================] - 2s 569us/sample - loss: 0.0250 - acc: 0.9943\n",
      "4200/4200 [==============================] - 2s 554us/sample - loss: 0.0253 - acc: 0.9933\n",
      "4200/4200 [==============================] - 2s 558us/sample - loss: 0.0240 - acc: 0.9938\n",
      "4200/4200 [==============================] - 2s 562us/sample - loss: 0.0260 - acc: 0.9924\n",
      "CNN 1: Epochs=30, Train accuracy=0.99286, Validation accuracy=0.99429\n",
      "4200/4200 [==============================] - 2s 588us/sample - loss: 0.1102 - acc: 0.9669\n",
      "4200/4200 [==============================] - 2s 573us/sample - loss: 0.0685 - acc: 0.9788\n",
      "4200/4200 [==============================] - 2s 558us/sample - loss: 0.0617 - acc: 0.9814\n",
      "4200/4200 [==============================] - 2s 569us/sample - loss: 0.0539 - acc: 0.9826\n",
      "4200/4200 [==============================] - 2s 562us/sample - loss: 0.0499 - acc: 0.9857\n",
      "4200/4200 [==============================] - 2s 562us/sample - loss: 0.0405 - acc: 0.9888\n",
      "4200/4200 [==============================] - 2s 562us/sample - loss: 0.0418 - acc: 0.9890\n",
      "4200/4200 [==============================] - 2s 584us/sample - loss: 0.0438 - acc: 0.9883\n",
      "4200/4200 [==============================] - 2s 558us/sample - loss: 0.0383 - acc: 0.9876\n",
      "4200/4200 [==============================] - 3s 599us/sample - loss: 0.0424 - acc: 0.9879\n",
      "4200/4200 [==============================] - 2s 562us/sample - loss: 0.0441 - acc: 0.9871\n",
      "4200/4200 [==============================] - 2s 558us/sample - loss: 0.0390 - acc: 0.9895\n",
      "4200/4200 [==============================] - 2s 577us/sample - loss: 0.0335 - acc: 0.9910\n",
      "4200/4200 [==============================] - 2s 562us/sample - loss: 0.0419 - acc: 0.9893\n",
      "4200/4200 [==============================] - 2s 565us/sample - loss: 0.0359 - acc: 0.9914\n",
      "4200/4200 [==============================] - 2s 569us/sample - loss: 0.0364 - acc: 0.9902\n",
      "4200/4200 [==============================] - 2s 565us/sample - loss: 0.0349 - acc: 0.9926\n",
      "4200/4200 [==============================] - 2s 565us/sample - loss: 0.0342 - acc: 0.9919\n",
      "4200/4200 [==============================] - 3s 610us/sample - loss: 0.0331 - acc: 0.9914\n",
      "4200/4200 [==============================] - 2s 558us/sample - loss: 0.0338 - acc: 0.9912s - \n",
      "4200/4200 [==============================] - 2s 562us/sample - loss: 0.0347 - acc: 0.9917\n",
      "4200/4200 [==============================] - 2s 565us/sample - loss: 0.0361 - acc: 0.9905\n",
      "4200/4200 [==============================] - 2s 558us/sample - loss: 0.0344 - acc: 0.9919\n",
      "4200/4200 [==============================] - 2s 573us/sample - loss: 0.0326 - acc: 0.9926\n",
      "4200/4200 [==============================] - 2s 576us/sample - loss: 0.0350 - acc: 0.9926\n",
      "4200/4200 [==============================] - 2s 565us/sample - loss: 0.0317 - acc: 0.9919\n",
      "4200/4200 [==============================] - 2s 562us/sample - loss: 0.0301 - acc: 0.9931\n",
      "4200/4200 [==============================] - 3s 614us/sample - loss: 0.0313 - acc: 0.9921\n",
      "4200/4200 [==============================] - 2s 562us/sample - loss: 0.0341 - acc: 0.9910\n",
      "4200/4200 [==============================] - 2s 591us/sample - loss: 0.0338 - acc: 0.9924\n",
      "CNN 2: Epochs=30, Train accuracy=0.99241, Validation accuracy=0.99310\n",
      "4200/4200 [==============================] - 2s 573us/sample - loss: 0.1152 - acc: 0.9643\n",
      "4200/4200 [==============================] - 2s 595us/sample - loss: 0.0885 - acc: 0.9738\n",
      "4200/4200 [==============================] - 2s 562us/sample - loss: 0.0527 - acc: 0.9821\n",
      "4200/4200 [==============================] - 3s 606us/sample - loss: 0.0494 - acc: 0.9879\n",
      "4200/4200 [==============================] - 2s 565us/sample - loss: 0.0420 - acc: 0.9886\n",
      "4200/4200 [==============================] - 2s 562us/sample - loss: 0.0387 - acc: 0.9883\n",
      "4200/4200 [==============================] - 2s 562us/sample - loss: 0.0337 - acc: 0.9898\n",
      "4200/4200 [==============================] - 2s 562us/sample - loss: 0.0337 - acc: 0.9888\n",
      "4200/4200 [==============================] - 2s 562us/sample - loss: 0.0371 - acc: 0.9893\n",
      "4200/4200 [==============================] - 2s 584us/sample - loss: 0.0318 - acc: 0.9898\n",
      "4200/4200 [==============================] - 2s 569us/sample - loss: 0.0250 - acc: 0.9926\n",
      "4200/4200 [==============================] - 2s 558us/sample - loss: 0.0271 - acc: 0.9907\n",
      "4200/4200 [==============================] - 2s 569us/sample - loss: 0.0316 - acc: 0.9912\n",
      "4200/4200 [==============================] - 2s 558us/sample - loss: 0.0247 - acc: 0.9921\n",
      "4200/4200 [==============================] - 2s 580us/sample - loss: 0.0239 - acc: 0.9924\n",
      "4200/4200 [==============================] - 2s 580us/sample - loss: 0.0280 - acc: 0.9919\n",
      "4200/4200 [==============================] - 3s 632us/sample - loss: 0.0254 - acc: 0.9907\n",
      "4200/4200 [==============================] - 2s 573us/sample - loss: 0.0220 - acc: 0.9931\n",
      "4200/4200 [==============================] - 3s 658us/sample - loss: 0.0227 - acc: 0.9926\n",
      "4200/4200 [==============================] - 2s 580us/sample - loss: 0.0243 - acc: 0.9933\n",
      "4200/4200 [==============================] - 3s 629us/sample - loss: 0.0228 - acc: 0.9933\n",
      "4200/4200 [==============================] - 2s 577us/sample - loss: 0.0218 - acc: 0.9945\n",
      "4200/4200 [==============================] - 3s 635us/sample - loss: 0.0216 - acc: 0.9938\n",
      "4200/4200 [==============================] - 2s 576us/sample - loss: 0.0192 - acc: 0.9945\n",
      "4200/4200 [==============================] - 3s 629us/sample - loss: 0.0250 - acc: 0.9938\n",
      "4200/4200 [==============================] - 2s 587us/sample - loss: 0.0197 - acc: 0.9938\n",
      "4200/4200 [==============================] - 3s 648us/sample - loss: 0.0236 - acc: 0.9921\n",
      "4200/4200 [==============================] - 2s 578us/sample - loss: 0.0214 - acc: 0.9940\n",
      "4200/4200 [==============================] - 2s 580us/sample - loss: 0.0215 - acc: 0.9938\n",
      "4200/4200 [==============================] - 2s 562us/sample - loss: 0.0229 - acc: 0.9945\n",
      "CNN 3: Epochs=30, Train accuracy=0.99220, Validation accuracy=0.99452\n",
      "4200/4200 [==============================] - 2s 584us/sample - loss: 0.1390 - acc: 0.9564\n",
      "4200/4200 [==============================] - 2s 569us/sample - loss: 0.0862 - acc: 0.9740\n",
      "4200/4200 [==============================] - 2s 565us/sample - loss: 0.0658 - acc: 0.9795\n",
      "4200/4200 [==============================] - 2s 562us/sample - loss: 0.0487 - acc: 0.9840\n",
      "4200/4200 [==============================] - 2s 565us/sample - loss: 0.0548 - acc: 0.9843\n",
      "4200/4200 [==============================] - 2s 562us/sample - loss: 0.0491 - acc: 0.9848\n",
      "4200/4200 [==============================] - 3s 603us/sample - loss: 0.0490 - acc: 0.9838\n",
      "4200/4200 [==============================] - 2s 562us/sample - loss: 0.0416 - acc: 0.9890\n",
      "4200/4200 [==============================] - 3s 599us/sample - loss: 0.0429 - acc: 0.9893\n",
      "4200/4200 [==============================] - 2s 559us/sample - loss: 0.0358 - acc: 0.9902\n",
      "4200/4200 [==============================] - 2s 565us/sample - loss: 0.0370 - acc: 0.9876\n",
      "4200/4200 [==============================] - 2s 569us/sample - loss: 0.0355 - acc: 0.9902\n",
      "4200/4200 [==============================] - 2s 563us/sample - loss: 0.0392 - acc: 0.9905\n",
      "4200/4200 [==============================] - 2s 554us/sample - loss: 0.0308 - acc: 0.9907\n",
      "4200/4200 [==============================] - 2s 566us/sample - loss: 0.0330 - acc: 0.9905\n",
      "4200/4200 [==============================] - 2s 562us/sample - loss: 0.0300 - acc: 0.9919\n",
      "4200/4200 [==============================] - 2s 558us/sample - loss: 0.0313 - acc: 0.9917\n",
      "4200/4200 [==============================] - 2s 588us/sample - loss: 0.0281 - acc: 0.9929\n",
      "4200/4200 [==============================] - 2s 586us/sample - loss: 0.0328 - acc: 0.9921\n",
      "4200/4200 [==============================] - 3s 621us/sample - loss: 0.0330 - acc: 0.9914\n",
      "4200/4200 [==============================] - 2s 559us/sample - loss: 0.0249 - acc: 0.9929\n",
      "4200/4200 [==============================] - 2s 563us/sample - loss: 0.0325 - acc: 0.9905\n",
      "4200/4200 [==============================] - 2s 558us/sample - loss: 0.0322 - acc: 0.9933\n",
      "4200/4200 [==============================] - 2s 566us/sample - loss: 0.0321 - acc: 0.9924\n",
      "4200/4200 [==============================] - 2s 562us/sample - loss: 0.0305 - acc: 0.9926\n",
      "4200/4200 [==============================] - 2s 558us/sample - loss: 0.0271 - acc: 0.9936\n",
      "4200/4200 [==============================] - 2s 584us/sample - loss: 0.0296 - acc: 0.9936\n",
      "4200/4200 [==============================] - 2s 565us/sample - loss: 0.0310 - acc: 0.9933\n",
      "4200/4200 [==============================] - 3s 629us/sample - loss: 0.0258 - acc: 0.9931\n",
      "4200/4200 [==============================] - 2s 572us/sample - loss: 0.0278 - acc: 0.9933\n",
      "CNN 4: Epochs=30, Train accuracy=0.99214, Validation accuracy=0.99357\n",
      "4200/4200 [==============================] - 3s 602us/sample - loss: 0.1143 - acc: 0.9655\n",
      "4200/4200 [==============================] - 2s 565us/sample - loss: 0.0680 - acc: 0.9788\n",
      "4200/4200 [==============================] - 2s 567us/sample - loss: 0.0634 - acc: 0.9810\n",
      "4200/4200 [==============================] - 2s 562us/sample - loss: 0.0556 - acc: 0.9829\n",
      "4200/4200 [==============================] - 2s 573us/sample - loss: 0.0529 - acc: 0.9838\n",
      "4200/4200 [==============================] - 2s 562us/sample - loss: 0.0454 - acc: 0.9874\n",
      "4200/4200 [==============================] - 2s 558us/sample - loss: 0.0449 - acc: 0.9879\n",
      "4200/4200 [==============================] - 2s 558us/sample - loss: 0.0470 - acc: 0.9867\n",
      "4200/4200 [==============================] - 2s 591us/sample - loss: 0.0454 - acc: 0.9881\n",
      "4200/4200 [==============================] - 2s 569us/sample - loss: 0.0467 - acc: 0.9895\n",
      "4200/4200 [==============================] - 3s 606us/sample - loss: 0.0460 - acc: 0.9869\n",
      "4200/4200 [==============================] - 2s 565us/sample - loss: 0.0481 - acc: 0.9860\n",
      "4200/4200 [==============================] - 2s 577us/sample - loss: 0.0410 - acc: 0.9895\n",
      "4200/4200 [==============================] - 2s 554us/sample - loss: 0.0446 - acc: 0.9874\n",
      "4200/4200 [==============================] - 2s 554us/sample - loss: 0.0433 - acc: 0.9898\n",
      "4200/4200 [==============================] - 2s 558us/sample - loss: 0.0431 - acc: 0.9898\n",
      "4200/4200 [==============================] - 2s 554us/sample - loss: 0.0425 - acc: 0.9895\n",
      "4200/4200 [==============================] - 2s 595us/sample - loss: 0.0440 - acc: 0.9883\n",
      "4200/4200 [==============================] - 2s 572us/sample - loss: 0.0381 - acc: 0.9907\n",
      "4200/4200 [==============================] - 3s 621us/sample - loss: 0.0460 - acc: 0.9893\n",
      "4200/4200 [==============================] - 2s 562us/sample - loss: 0.0388 - acc: 0.9910\n",
      "4200/4200 [==============================] - 3s 616us/sample - loss: 0.0448 - acc: 0.9890\n",
      "4200/4200 [==============================] - 2s 565us/sample - loss: 0.0420 - acc: 0.9905\n",
      "4200/4200 [==============================] - 2s 568us/sample - loss: 0.0383 - acc: 0.9907\n",
      "4200/4200 [==============================] - 2s 562us/sample - loss: 0.0412 - acc: 0.9907\n",
      "4200/4200 [==============================] - 2s 559us/sample - loss: 0.0412 - acc: 0.9910\n",
      "4200/4200 [==============================] - 2s 558us/sample - loss: 0.0426 - acc: 0.9905\n",
      "4200/4200 [==============================] - 3s 606us/sample - loss: 0.0458 - acc: 0.9902\n",
      "4200/4200 [==============================] - 2s 580us/sample - loss: 0.0405 - acc: 0.9907\n",
      "4200/4200 [==============================] - 2s 558us/sample - loss: 0.0393 - acc: 0.9919\n",
      "CNN 5: Epochs=30, Train accuracy=0.99368, Validation accuracy=0.99190\n",
      "4200/4200 [==============================] - 2s 595us/sample - loss: 0.1075 - acc: 0.9660\n",
      "4200/4200 [==============================] - 2s 565us/sample - loss: 0.0706 - acc: 0.9762\n",
      "4200/4200 [==============================] - 2s 558us/sample - loss: 0.0587 - acc: 0.9805\n",
      "4200/4200 [==============================] - 2s 558us/sample - loss: 0.0545 - acc: 0.9836\n",
      "4200/4200 [==============================] - 2s 562us/sample - loss: 0.0538 - acc: 0.9838\n",
      "4200/4200 [==============================] - 2s 558us/sample - loss: 0.0412 - acc: 0.9876\n",
      "4200/4200 [==============================] - 3s 610us/sample - loss: 0.0472 - acc: 0.9864\n",
      "4200/4200 [==============================] - 2s 563us/sample - loss: 0.0438 - acc: 0.9876\n",
      "4200/4200 [==============================] - 3s 669us/sample - loss: 0.0475 - acc: 0.9867\n",
      "4200/4200 [==============================] - 2s 562us/sample - loss: 0.0396 - acc: 0.9874\n",
      "4200/4200 [==============================] - 3s 614us/sample - loss: 0.0378 - acc: 0.9881\n",
      "4200/4200 [==============================] - 2s 566us/sample - loss: 0.0381 - acc: 0.9886\n",
      "4200/4200 [==============================] - 2s 562us/sample - loss: 0.0321 - acc: 0.9895s - loss\n",
      "4200/4200 [==============================] - 2s 562us/sample - loss: 0.0474 - acc: 0.9883\n",
      "4200/4200 [==============================] - 2s 558us/sample - loss: 0.0342 - acc: 0.9910\n",
      "4200/4200 [==============================] - 2s 562us/sample - loss: 0.0339 - acc: 0.9912\n",
      "4200/4200 [==============================] - 2s 577us/sample - loss: 0.0291 - acc: 0.9912\n",
      "4200/4200 [==============================] - 2s 565us/sample - loss: 0.0392 - acc: 0.9883\n",
      "4200/4200 [==============================] - 2s 562us/sample - loss: 0.0361 - acc: 0.9919\n",
      "4200/4200 [==============================] - 3s 617us/sample - loss: 0.0318 - acc: 0.9921\n",
      "4200/4200 [==============================] - 2s 554us/sample - loss: 0.0349 - acc: 0.9900\n",
      "4200/4200 [==============================] - 2s 573us/sample - loss: 0.0374 - acc: 0.9900\n",
      "4200/4200 [==============================] - 2s 559us/sample - loss: 0.0368 - acc: 0.9898\n",
      "4200/4200 [==============================] - 2s 563us/sample - loss: 0.0314 - acc: 0.9902\n"
     ]
    },
    {
     "name": "stdout",
     "output_type": "stream",
     "text": [
      "4200/4200 [==============================] - 2s 563us/sample - loss: 0.0312 - acc: 0.9917\n",
      "4200/4200 [==============================] - 2s 557us/sample - loss: 0.0332 - acc: 0.9912\n",
      "4200/4200 [==============================] - 3s 625us/sample - loss: 0.0317 - acc: 0.9917\n",
      "4200/4200 [==============================] - 2s 562us/sample - loss: 0.0331 - acc: 0.9910\n",
      "4200/4200 [==============================] - 2s 572us/sample - loss: 0.0341 - acc: 0.9910\n",
      "4200/4200 [==============================] - 2s 562us/sample - loss: 0.0305 - acc: 0.9910\n",
      "CNN 6: Epochs=30, Train accuracy=0.99206, Validation accuracy=0.99214\n",
      "4200/4200 [==============================] - 2s 591us/sample - loss: 0.0921 - acc: 0.9681\n",
      "4200/4200 [==============================] - 2s 568us/sample - loss: 0.0573 - acc: 0.9836\n",
      "4200/4200 [==============================] - 2s 561us/sample - loss: 0.0467 - acc: 0.9850\n",
      "4200/4200 [==============================] - 2s 561us/sample - loss: 0.0358 - acc: 0.9888\n",
      "4200/4200 [==============================] - 2s 562us/sample - loss: 0.0287 - acc: 0.9924\n",
      "4200/4200 [==============================] - 2s 561us/sample - loss: 0.0442 - acc: 0.9869\n",
      "4200/4200 [==============================] - 3s 607us/sample - loss: 0.0234 - acc: 0.9921\n",
      "4200/4200 [==============================] - 2s 558us/sample - loss: 0.0238 - acc: 0.9929\n",
      "4200/4200 [==============================] - 3s 627us/sample - loss: 0.0239 - acc: 0.9926\n",
      "4200/4200 [==============================] - 2s 562us/sample - loss: 0.0229 - acc: 0.9943\n",
      "4200/4200 [==============================] - 2s 584us/sample - loss: 0.0207 - acc: 0.9943\n",
      "4200/4200 [==============================] - 2s 558us/sample - loss: 0.0258 - acc: 0.9936\n",
      "4200/4200 [==============================] - 2s 562us/sample - loss: 0.0210 - acc: 0.9940\n",
      "4200/4200 [==============================] - 2s 565us/sample - loss: 0.0241 - acc: 0.9931\n",
      "4200/4200 [==============================] - 2s 569us/sample - loss: 0.0241 - acc: 0.9938\n",
      "4200/4200 [==============================] - 2s 568us/sample - loss: 0.0250 - acc: 0.9929\n",
      "4200/4200 [==============================] - 2s 559us/sample - loss: 0.0230 - acc: 0.9945\n",
      "4200/4200 [==============================] - 2s 562us/sample - loss: 0.0220 - acc: 0.9945\n",
      "4200/4200 [==============================] - 2s 565us/sample - loss: 0.0225 - acc: 0.9945\n",
      "4200/4200 [==============================] - 2s 591us/sample - loss: 0.0225 - acc: 0.9948\n",
      "4200/4200 [==============================] - 3s 599us/sample - loss: 0.0213 - acc: 0.9943\n",
      "4200/4200 [==============================] - 2s 587us/sample - loss: 0.0250 - acc: 0.9938\n",
      "4200/4200 [==============================] - 2s 565us/sample - loss: 0.0215 - acc: 0.9940\n",
      "4200/4200 [==============================] - 3s 619us/sample - loss: 0.0206 - acc: 0.9950\n",
      "4200/4200 [==============================] - 2s 569us/sample - loss: 0.0247 - acc: 0.9936s - loss: 0\n",
      "4200/4200 [==============================] - 3s 599us/sample - loss: 0.0206 - acc: 0.9943\n",
      "4200/4200 [==============================] - 2s 561us/sample - loss: 0.0220 - acc: 0.9948\n",
      "4200/4200 [==============================] - 2s 569us/sample - loss: 0.0215 - acc: 0.9943\n",
      "4200/4200 [==============================] - 2s 573us/sample - loss: 0.0213 - acc: 0.9948\n",
      "4200/4200 [==============================] - 2s 565us/sample - loss: 0.0237 - acc: 0.9943\n",
      "CNN 7: Epochs=30, Train accuracy=0.99320, Validation accuracy=0.99500\n",
      "4200/4200 [==============================] - 2s 595us/sample - loss: 0.1044 - acc: 0.9688\n",
      "4200/4200 [==============================] - 3s 625us/sample - loss: 0.0650 - acc: 0.9805\n",
      "4200/4200 [==============================] - 2s 577us/sample - loss: 0.0527 - acc: 0.9833\n",
      "4200/4200 [==============================] - 3s 606us/sample - loss: 0.0454 - acc: 0.9857\n",
      "4200/4200 [==============================] - 2s 565us/sample - loss: 0.0463 - acc: 0.9860\n",
      "4200/4200 [==============================] - 3s 621us/sample - loss: 0.0348 - acc: 0.9886\n",
      "4200/4200 [==============================] - 2s 565us/sample - loss: 0.0335 - acc: 0.9893\n",
      "4200/4200 [==============================] - 3s 614us/sample - loss: 0.0359 - acc: 0.9888s - lo - ETA: 0s - loss: 0.0364 - acc: 0\n",
      "4200/4200 [==============================] - 2s 569us/sample - loss: 0.0302 - acc: 0.9900\n",
      "4200/4200 [==============================] - 2s 573us/sample - loss: 0.0260 - acc: 0.9926\n",
      "4200/4200 [==============================] - 2s 560us/sample - loss: 0.0355 - acc: 0.9881\n",
      "4200/4200 [==============================] - 2s 565us/sample - loss: 0.0266 - acc: 0.9924\n",
      "4200/4200 [==============================] - 2s 560us/sample - loss: 0.0256 - acc: 0.9917\n",
      "4200/4200 [==============================] - 2s 589us/sample - loss: 0.0235 - acc: 0.9929\n",
      "4200/4200 [==============================] - 2s 562us/sample - loss: 0.0267 - acc: 0.9926\n",
      "4200/4200 [==============================] - 2s 565us/sample - loss: 0.0238 - acc: 0.9933\n",
      "4200/4200 [==============================] - 2s 563us/sample - loss: 0.0287 - acc: 0.9924\n",
      "4200/4200 [==============================] - 2s 565us/sample - loss: 0.0232 - acc: 0.9936\n",
      "4200/4200 [==============================] - 2s 556us/sample - loss: 0.0236 - acc: 0.9933\n",
      "4200/4200 [==============================] - 2s 562us/sample - loss: 0.0230 - acc: 0.9926\n",
      "4200/4200 [==============================] - 2s 570us/sample - loss: 0.0229 - acc: 0.9940\n",
      "4200/4200 [==============================] - 2s 565us/sample - loss: 0.0216 - acc: 0.9936\n",
      "4200/4200 [==============================] - 2s 587us/sample - loss: 0.0239 - acc: 0.9936\n",
      "4200/4200 [==============================] - 2s 562us/sample - loss: 0.0252 - acc: 0.9931\n",
      "4200/4200 [==============================] - 3s 625us/sample - loss: 0.0239 - acc: 0.9940\n",
      "4200/4200 [==============================] - 2s 565us/sample - loss: 0.0204 - acc: 0.9940\n",
      "4200/4200 [==============================] - 3s 603us/sample - loss: 0.0227 - acc: 0.9938\n",
      "4200/4200 [==============================] - 3s 621us/sample - loss: 0.0228 - acc: 0.9936\n",
      "4200/4200 [==============================] - 2s 580us/sample - loss: 0.0202 - acc: 0.9943\n",
      "4200/4200 [==============================] - 2s 562us/sample - loss: 0.0214 - acc: 0.9945\n",
      "CNN 8: Epochs=30, Train accuracy=0.99140, Validation accuracy=0.99452\n",
      "4200/4200 [==============================] - 3s 649us/sample - loss: 0.1210 - acc: 0.9600\n",
      "4200/4200 [==============================] - 2s 564us/sample - loss: 0.0795 - acc: 0.9757\n",
      "4200/4200 [==============================] - 3s 620us/sample - loss: 0.0547 - acc: 0.9850\n",
      "4200/4200 [==============================] - 2s 569us/sample - loss: 0.0365 - acc: 0.9907s - l\n",
      "4200/4200 [==============================] - 3s 625us/sample - loss: 0.0390 - acc: 0.9876\n",
      "4200/4200 [==============================] - 2s 568us/sample - loss: 0.0397 - acc: 0.9883\n",
      "4200/4200 [==============================] - 2s 574us/sample - loss: 0.0293 - acc: 0.9924\n",
      "4200/4200 [==============================] - 2s 565us/sample - loss: 0.0362 - acc: 0.9895\n",
      "4200/4200 [==============================] - 2s 573us/sample - loss: 0.0297 - acc: 0.9912\n",
      "4200/4200 [==============================] - 2s 565us/sample - loss: 0.0293 - acc: 0.9926\n",
      "4200/4200 [==============================] - 2s 565us/sample - loss: 0.0324 - acc: 0.9912\n",
      "4200/4200 [==============================] - 2s 576us/sample - loss: 0.0329 - acc: 0.9912\n",
      "4200/4200 [==============================] - 2s 565us/sample - loss: 0.0268 - acc: 0.9929\n",
      "4200/4200 [==============================] - 2s 562us/sample - loss: 0.0263 - acc: 0.9938\n",
      "4200/4200 [==============================] - 2s 566us/sample - loss: 0.0310 - acc: 0.9926\n",
      "4200/4200 [==============================] - 2s 565us/sample - loss: 0.0275 - acc: 0.9929\n",
      "4200/4200 [==============================] - 2s 573us/sample - loss: 0.0234 - acc: 0.9945\n",
      "4200/4200 [==============================] - 3s 603us/sample - loss: 0.0254 - acc: 0.9940\n",
      "4200/4200 [==============================] - 2s 568us/sample - loss: 0.0271 - acc: 0.9929\n",
      "4200/4200 [==============================] - 3s 625us/sample - loss: 0.0231 - acc: 0.9938\n",
      "4200/4200 [==============================] - 2s 558us/sample - loss: 0.0260 - acc: 0.9933\n",
      "4200/4200 [==============================] - 3s 617us/sample - loss: 0.0228 - acc: 0.9945\n",
      "4200/4200 [==============================] - 2s 565us/sample - loss: 0.0239 - acc: 0.9931\n",
      "4200/4200 [==============================] - 2s 569us/sample - loss: 0.0238 - acc: 0.9943\n",
      "4200/4200 [==============================] - 2s 589us/sample - loss: 0.0265 - acc: 0.9945s - loss: \n",
      "4200/4200 [==============================] - 2s 566us/sample - loss: 0.0237 - acc: 0.9943\n",
      "4200/4200 [==============================] - 3s 750us/sample - loss: 0.0239 - acc: 0.9936\n",
      "4200/4200 [==============================] - 3s 647us/sample - loss: 0.0233 - acc: 0.9943\n",
      "4200/4200 [==============================] - 2s 573us/sample - loss: 0.0239 - acc: 0.9948\n",
      "4200/4200 [==============================] - 2s 568us/sample - loss: 0.0234 - acc: 0.9943\n",
      "CNN 9: Epochs=30, Train accuracy=0.99130, Validation accuracy=0.99476\n",
      "4200/4200 [==============================] - 3s 610us/sample - loss: 0.0877 - acc: 0.9719\n",
      "4200/4200 [==============================] - 2s 569us/sample - loss: 0.0623 - acc: 0.9800\n",
      "4200/4200 [==============================] - 3s 632us/sample - loss: 0.0457 - acc: 0.9850\n",
      "4200/4200 [==============================] - 3s 603us/sample - loss: 0.0434 - acc: 0.9862\n",
      "4200/4200 [==============================] - 2s 576us/sample - loss: 0.0368 - acc: 0.9881\n",
      "4200/4200 [==============================] - 2s 569us/sample - loss: 0.0399 - acc: 0.9862\n",
      "4200/4200 [==============================] - 2s 595us/sample - loss: 0.0277 - acc: 0.9902\n",
      "4200/4200 [==============================] - 2s 573us/sample - loss: 0.0295 - acc: 0.9910\n",
      "4200/4200 [==============================] - 2s 591us/sample - loss: 0.0256 - acc: 0.9926\n",
      "4200/4200 [==============================] - 2s 571us/sample - loss: 0.0289 - acc: 0.9914\n",
      "4200/4200 [==============================] - 3s 629us/sample - loss: 0.0266 - acc: 0.9924\n",
      "4200/4200 [==============================] - 2s 569us/sample - loss: 0.0267 - acc: 0.9926\n",
      "4200/4200 [==============================] - 3s 629us/sample - loss: 0.0248 - acc: 0.9931s - l\n",
      "4200/4200 [==============================] - 2s 582us/sample - loss: 0.0252 - acc: 0.9929\n",
      "4200/4200 [==============================] - 2s 566us/sample - loss: 0.0246 - acc: 0.9921\n",
      "4200/4200 [==============================] - 2s 584us/sample - loss: 0.0261 - acc: 0.9921\n",
      "4200/4200 [==============================] - 2s 569us/sample - loss: 0.0216 - acc: 0.9931\n",
      "4200/4200 [==============================] - 3s 637us/sample - loss: 0.0241 - acc: 0.9919\n",
      "4200/4200 [==============================] - 3s 718us/sample - loss: 0.0231 - acc: 0.9931\n",
      "4200/4200 [==============================] - 3s 648us/sample - loss: 0.0238 - acc: 0.9919\n",
      "4200/4200 [==============================] - 3s 637us/sample - loss: 0.0218 - acc: 0.9929\n",
      "4200/4200 [==============================] - 3s 656us/sample - loss: 0.0194 - acc: 0.9931\n",
      "4200/4200 [==============================] - 3s 659us/sample - loss: 0.0206 - acc: 0.9929\n",
      "4200/4200 [==============================] - 3s 664us/sample - loss: 0.0192 - acc: 0.9933s - l\n",
      "4200/4200 [==============================] - 3s 709us/sample - loss: 0.0219 - acc: 0.9929\n",
      "4200/4200 [==============================] - 3s 665us/sample - loss: 0.0226 - acc: 0.9931\n",
      "4200/4200 [==============================] - 3s 672us/sample - loss: 0.0188 - acc: 0.9948\n",
      "4200/4200 [==============================] - 3s 657us/sample - loss: 0.0182 - acc: 0.9945\n",
      "4200/4200 [==============================] - 3s 662us/sample - loss: 0.0198 - acc: 0.9938\n",
      "4200/4200 [==============================] - 3s 670us/sample - loss: 0.0184 - acc: 0.9933\n",
      "CNN 10: Epochs=30, Train accuracy=0.99209, Validation accuracy=0.99476\n"
     ]
    }
   ],
   "source": [
    "# with augmentation\n",
    "\n",
    "annealer = LearningRateScheduler(lambda x: 1e-3 * 0.95 ** x)\n",
    "\n",
    "batch_size = 100\n",
    "epochs = 30\n",
    "\n",
    "# run the same models ${ens} times\n",
    "ens = 10\n",
    "\n",
    "history = [0] * ens\n",
    "model = [0]*ens\n",
    "\n",
    "for en in range(len(model)):\n",
    "    model[en] = get_model()\n",
    "    X_train, X_val, Y_train, Y_val = train_test_split(train_images, train_labels, test_size = 0.1)\n",
    "    \n",
    "    history[en] = model[en].fit_generator(datagen.flow(X_train,Y_train, batch_size=batch_size),\n",
    "                              epochs = epochs, \n",
    "                              validation_data = (X_val,Y_val),\n",
    "                              verbose = 0, \n",
    "                              steps_per_epoch=X_train.shape[0] // batch_size,\n",
    "                              callbacks=[annealer])\n",
    "    \n",
    "    print(\"CNN {0:d}: Epochs={1:d}, Train accuracy={2:.5f}, Validation accuracy={3:.5f}\".format(\n",
    "        en+1,epochs,max(history[en].history['acc']),max(history[en].history['val_acc']) ))"
   ]
  },
  {
   "cell_type": "code",
   "execution_count": 17,
   "metadata": {
    "scrolled": true
   },
   "outputs": [
    {
     "data": {
      "image/png": "[encoded data removed]",
      "text/plain": [
       "<Figure size 432x288 with 1 Axes>"
      ]
     },
     "metadata": {
      "needs_background": "light"
     },
     "output_type": "display_data"
    },
    {
     "name": "stdout",
     "output_type": "stream",
     "text": [
      "loss: 0.0260   \n"
     ]
    }
   ],
   "source": [
    "plt.plot(history[0].history['loss'])\n",
    "plt.plot(history[0].history['val_loss'])\n",
    "plt.title('model loss')\n",
    "plt.ylabel('loss')\n",
    "plt.xlabel('epoch')\n",
    "plt.legend(['train', 'val'], loc='upper left')\n",
    "plt.show()\n",
    "\n",
    "print(\"loss: {0:.4f}   \".format(history[0].history['val_loss'][-1]))"
   ]
  },
  {
   "cell_type": "code",
   "execution_count": 18,
   "metadata": {
    "scrolled": false
   },
   "outputs": [
    {
     "data": {
      "image/png": "[encoded data removed]",
      "text/plain": [
       "<Figure size 432x288 with 1 Axes>"
      ]
     },
     "metadata": {
      "needs_background": "light"
     },
     "output_type": "display_data"
    },
    {
     "name": "stdout",
     "output_type": "stream",
     "text": [
      "Acc: 0.9924  \n"
     ]
    }
   ],
   "source": [
    "plt.plot(history[0].history['acc'])\n",
    "plt.plot(history[0].history['val_acc'])\n",
    "plt.title('model accuracy')\n",
    "plt.ylabel('accuracy')\n",
    "plt.xlabel('epoch')\n",
    "plt.legend(['train', 'val'], loc='upper left')\n",
    "plt.show()\n",
    "\n",
    "print(\"Acc: {0:.4f}  \".format(history[0].history['val_acc'][-1],))"
   ]
  },
  {
   "cell_type": "markdown",
   "metadata": {},
   "source": [
    "## Prediction"
   ]
  },
  {
   "cell_type": "code",
   "execution_count": 19,
   "metadata": {},
   "outputs": [
    {
     "name": "stdout",
     "output_type": "stream",
     "text": [
      "28000/28000 [==============================] - 15s 535us/sample\n",
      "28000/28000 [==============================] - 15s 528us/sample\n",
      "28000/28000 [==============================] - 15s 523us/sample\n",
      "28000/28000 [==============================] - 15s 535us/sample\n",
      "28000/28000 [==============================] - 15s 530us/sample\n",
      "28000/28000 [==============================] - 15s 535us/sample\n",
      "28000/28000 [==============================] - 15s 527us/sample\n",
      "28000/28000 [==============================] - 15s 524us/sample\n",
      "28000/28000 [==============================] - 15s 531us/sample\n",
      "28000/28000 [==============================] - 15s 528us/sample\n"
     ]
    }
   ],
   "source": [
    "# ensemble predictions\n",
    "pred = np.zeros( (test_images.shape[0],NCLASSES) ) \n",
    "for en in range(ens):\n",
    "    pred = pred + model[en].predict(test_images,batch_size=2000,verbose=1)\n",
    "pred = np.argmax(pred,axis = 1)"
   ]
  },
  {
   "cell_type": "code",
   "execution_count": 20,
   "metadata": {
    "scrolled": true
   },
   "outputs": [
    {
     "data": {
      "image/png": "[encoded data removed]",
      "text/plain": [
       "<Figure size 1440x360 with 20 Axes>"
      ]
     },
     "metadata": {
      "needs_background": "light"
     },
     "output_type": "display_data"
    }
   ],
   "source": [
    "i=0\n",
    "plt.figure(figsize=(20,5))\n",
    "for IMGNO in range(i,i+20):  \n",
    "    plt.subplot(2, 10, IMGNO-i+1)\n",
    "    plt.imshow(test_images[IMGNO].reshape((28,28)),cmap=plt.cm.binary)\n",
    "    plt.title(\"pred = %d\" % pred[IMGNO],y=0.9)\n",
    "    plt.axis('off')\n",
    "#plt.subplots_adjust(wspace=0.3, hspace=-0.1)\n",
    "plt.show()"
   ]
  },
  {
   "cell_type": "code",
   "execution_count": 21,
   "metadata": {},
   "outputs": [
    {
     "data": {
      "text/plain": [
       "array([2, 0, 9, 0, 3, 7, 0, 3, 0, 3], dtype=int64)"
      ]
     },
     "execution_count": 21,
     "metadata": {},
     "output_type": "execute_result"
    }
   ],
   "source": [
    "pred[:10]"
   ]
  },
  {
   "cell_type": "markdown",
   "metadata": {},
   "source": [
    "## Output"
   ]
  },
  {
   "cell_type": "code",
   "execution_count": 22,
   "metadata": {},
   "outputs": [
    {
     "data": {
      "text/html": [
       "<div>\n",
       "<style scoped>\n",
       "    .dataframe tbody tr th:only-of-type {\n",
       "        vertical-align: middle;\n",
       "    }\n",
       "\n",
       "    .dataframe tbody tr th {\n",
       "        vertical-align: top;\n",
       "    }\n",
       "\n",
       "    .dataframe thead th {\n",
       "        text-align: right;\n",
       "    }\n",
       "</style>\n",
       "<table border=\"1\" class=\"dataframe\">\n",
       "  <thead>\n",
       "    <tr style=\"text-align: right;\">\n",
       "      <th></th>\n",
       "      <th>ImageId</th>\n",
       "      <th>Label</th>\n",
       "    </tr>\n",
       "  </thead>\n",
       "  <tbody>\n",
       "    <tr>\n",
       "      <th>0</th>\n",
       "      <td>1</td>\n",
       "      <td>2</td>\n",
       "    </tr>\n",
       "    <tr>\n",
       "      <th>1</th>\n",
       "      <td>2</td>\n",
       "      <td>0</td>\n",
       "    </tr>\n",
       "    <tr>\n",
       "      <th>2</th>\n",
       "      <td>3</td>\n",
       "      <td>9</td>\n",
       "    </tr>\n",
       "    <tr>\n",
       "      <th>3</th>\n",
       "      <td>4</td>\n",
       "      <td>0</td>\n",
       "    </tr>\n",
       "    <tr>\n",
       "      <th>4</th>\n",
       "      <td>5</td>\n",
       "      <td>3</td>\n",
       "    </tr>\n",
       "  </tbody>\n",
       "</table>\n",
       "</div>"
      ],
      "text/plain": [
       "   ImageId  Label\n",
       "0        1      2\n",
       "1        2      0\n",
       "2        3      9\n",
       "3        4      0\n",
       "4        5      3"
      ]
     },
     "execution_count": 22,
     "metadata": {},
     "output_type": "execute_result"
    }
   ],
   "source": [
    "output = pd.DataFrame({ 'ImageId' : np.arange(len(pred))+1, 'Label': pred })\n",
    "output.head()"
   ]
  },
  {
   "cell_type": "code",
   "execution_count": 23,
   "metadata": {},
   "outputs": [],
   "source": [
    "output.to_csv('data/sub_digit_v02_ens10_30ep.csv', index = False)\n"
   ]
  },
  {
   "cell_type": "code",
   "execution_count": 25,
   "metadata": {},
   "outputs": [],
   "source": [
    "# save models\n",
    "\n",
    "for en in range(len(model)):\n",
    "    model[en].save('data/model_digit_v02_ens10_30ep_' + '{:02d}'.format(en) + '.h5')\n",
    "    \n",
    "# load model example: model = keras.models.load_model('model.h5')    "
   ]
  },
  {
   "cell_type": "code",
   "execution_count": 70,
   "metadata": {},
   "outputs": [],
   "source": [
    "#save history\n",
    "\n",
    "history_dict =[0]*ens\n",
    "\n",
    "for en in range(ens):\n",
    "    history_dict[en] = history[en].history\n",
    "    \n",
    "pd.Series(history_dict).to_json('data/history_digit_v02_ens10_30ep.json')\n",
    "#load back history history_dict_in=pd.read_json('data/history_digit_v02_ens10_30ep.json')"
   ]
  },
  {
   "cell_type": "markdown",
   "metadata": {},
   "source": [
    "<h2 id=\"Summary\">Summary</h2>\n",
    "\n",
    "<p>single model</p>\n",
    "\n",
    "<table align=\"left\" border=\"2\" cellpadding=\"1\" cellspacing=\"1\" style=\"width: 500px\">\n",
    "\t<thead>\n",
    "\t\t<tr>\n",
    "\t\t\t<th scope=\"col\">kaggle score</th>\n",
    "\t\t\t<th scope=\"col\">rank</th>\n",
    "\t\t\t<th scope=\"col\">data augmentation</th>\n",
    "\t\t\t<th scope=\"col\">batch norm</th>\n",
    "\t\t\t<th scope=\"col\">epochs</th>\n",
    "\t\t</tr>\n",
    "\t</thead>\n",
    "\t<tbody>\n",
    "\t\t<tr>\n",
    "\t\t\t<td>0.99057</td>\n",
    "\t\t\t<td>&nbsp;</td>\n",
    "\t\t\t<td>No</td>\n",
    "\t\t\t<td>No</td>\n",
    "\t\t\t<td>20</td>\n",
    "\t\t</tr>\n",
    "\t\t<tr>\n",
    "\t\t\t<td>0.99185</td>\n",
    "\t\t\t<td>1017</td>\n",
    "\t\t\t<td>No</td>\n",
    "\t\t\t<td>Yes</td>\n",
    "\t\t\t<td>20</td>\n",
    "\t\t</tr>\n",
    "\t\t<tr>\n",
    "\t\t\t<td>0.99257</td>\n",
    "\t\t\t<td>910</td>\n",
    "\t\t\t<td>Yes</td>\n",
    "\t\t\t<td>No</td>\n",
    "\t\t\t<td>20</td>\n",
    "\t\t</tr>\n",
    "\t\t<tr>\n",
    "\t\t\t<td>0.99457</td>\n",
    "\t\t\t<td>655</td>\n",
    "\t\t\t<td>Yes</td>\n",
    "\t\t\t<td>No</td>\n",
    "\t\t\t<td>30</td>\n",
    "\t\t</tr>\n",
    "\t</tbody>\n",
    "</table>\n",
    "\n",
    "<p>&nbsp;</p>\n",
    "\n",
    "<p>&nbsp;</p>\n",
    "\n",
    "<p>&nbsp;</p>\n",
    "\n",
    "<p>&nbsp;</p>\n",
    "\n",
    "<p>&nbsp;</p>\n",
    "\n",
    "<p>&nbsp;</p>\n",
    "\n",
    "<p>ensemble model predictions</p>\n",
    "\n",
    "<table align=\"left\" border=\"2\" cellpadding=\"1\" cellspacing=\"1\" style=\"width: 500px\">\n",
    "\t<thead>\n",
    "\t\t<tr>\n",
    "\t\t\t<th scope=\"col\">kaggle score</th>\n",
    "\t\t\t<th scope=\"col\">rank</th>\n",
    "\t\t\t<th scope=\"col\"># of models</th>\n",
    "\t\t\t<th scope=\"col\">epochs</th>\n",
    "\t\t</tr>\n",
    "\t</thead>\n",
    "\t<tbody>\n",
    "\t\t<tr>\n",
    "\t\t\t<td>0.99457</td>\n",
    "\t\t\t<td>655</td>\n",
    "\t\t\t<td>1</td>\n",
    "\t\t\t<td>30</td>\n",
    "\t\t</tr>\n",
    "\t\t<tr>\n",
    "\t\t\t<td>0.99185</td>\n",
    "\t\t\t<td>&nbsp;</td>\n",
    "\t\t\t<td>5</td>\n",
    "\t\t\t<td>5</td>\n",
    "\t\t</tr>\n",
    "\t\t<tr>\n",
    "\t\t\t<td>0.99628</td>\n",
    "\t\t\t<td>330</td>\n",
    "\t\t\t<td>10</td>\n",
    "\t\t\t<td>30</td>\n",
    "\t\t</tr>\n",
    "\t</tbody>\n",
    "</table>\n",
    "\n",
    "<p>&nbsp;</p>\n",
    "\n",
    "<p>&nbsp;</p>\n",
    "\n",
    "<p>&nbsp;</p>\n",
    "\n",
    "<p>&nbsp;</p>\n",
    "\n",
    "<p>&nbsp;</p>\n",
    "\n",
    "<p>ensemble learning method&nbsp;significantly improves the acc</p>\n",
    "\n",
    "<p>&nbsp;</p>\n"
   ]
  },
  {
   "cell_type": "markdown",
   "metadata": {},
   "source": [
    "<h2 id=\"Next-step-to-improve-acc\">Next step&nbsp;</h2>\n",
    "\n",
    "<ul>\n",
    "\t<li>add confusion matrix</li>\n",
    "</ul>\n",
    "\n",
    "<p>&nbsp;</p>\n",
    "\n",
    "<h2 id=\"Credits\">Credits</h2>\n",
    "\n",
    "<p><a href=\"https://www.kaggle.com/cdeotte/25-million-images-0-99757-mnist\" target=\"_blank\">https://www.kaggle.com/cdeotte/25-million-images-0-99757-mnist</a></p>\n",
    "\n",
    "<p><a href=\"https://www.kaggle.com/dingli/digits-recognition-with-cnn-keras\" target=\"_blank\">https://www.kaggle.com/dingli/digits-recognition-with-cnn-keras</a></p>\n"
   ]
  }
 ],
 "metadata": {
  "kernelspec": {
   "display_name": "Python 3",
   "language": "python",
   "name": "python3"
  },
  "language_info": {
   "codemirror_mode": {
    "name": "ipython",
    "version": 3
   },
   "file_extension": ".py",
   "mimetype": "text/x-python",
   "name": "python",
   "nbconvert_exporter": "python",
   "pygments_lexer": "ipython3",
   "version": "3.6.7"
  }
 },
 "nbformat": 4,
 "nbformat_minor": 2
}
