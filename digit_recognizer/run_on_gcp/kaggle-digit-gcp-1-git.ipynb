{
 "cells": [
  {
   "cell_type": "markdown",
   "metadata": {},
   "source": [
    "<h1 id=\"Train-on-Google-Cloud-ML-Engine\">Train, deploy, predict on Google Cloud ML Engine</h1>\n",
    "\n",
    "<p>tags: kaggle, digit, mnist, cnn, esitmator, google cloud, ml-engline, ai-platform, submit, train&nbsp;&nbsp;</p>\n",
    "\n",
    "<p>read this doc to start off&nbsp;</p>\n",
    "\n",
    "<p><a href=\"https://cloud.google.com/ml-engine/docs/tensorflow/getting-started-training-prediction#tensorboard-local\" target=\"_blank\">https://cloud.google.com/ml-engine/docs/tensorflow/getting-started-training-prediction#tensorboard-local</a></p>\n",
    "\n",
    "<h2 id=\"modification-from-local-run\">modification from local run</h2>\n",
    "\n",
    "<ol>\n",
    "\t<li>import gcsfs in this notebook</li>\n",
    "\t<li>put &#39;gcsfs&#39;&nbsp;in REQUIRED_PACKAGE in setup.py</li>\n",
    "\t<li>change &#39;export&#39; directory name to just the name no &#39;/\\&#39;</li>\n",
    "</ol>\n",
    "\n",
    "<h2 id=\"Recommended-project-structure\">Recommended project structure</h2>\n",
    "\n",
    "<p><img src=\"recommended-project-structure.png\" /></p>\n"
   ]
  },
  {
   "cell_type": "markdown",
   "metadata": {},
   "source": [
    "<h2 id=\"to-do-list-before-submit-the-job\">to-do list before submit the job</h2>\n",
    "\n",
    "<ol>\n",
    "\t<li>get or set project id from gcp console</li>\n",
    "\t<li>create a bucket and folders, then upload training data</li>\n",
    "</ol>\n",
    "\n",
    "\n"
   ]
  },
  {
   "cell_type": "code",
   "execution_count": 1,
   "metadata": {},
   "outputs": [],
   "source": [
    "import os\n",
    "import shutil\n",
    "from datetime import datetime\n",
    "import gcsfs\n",
    "from tensorflow.keras.callbacks import TensorBoard\n",
    "import json, codecs\n",
    "import matplotlib.pyplot as plt\n",
    "import pandas as pd\n",
    "\n",
    "PROJECT = \"________\" # REPLACE WITH YOUR PROJECT ID\n",
    "BUCKET = \"________\" # REPLACE WITH YOUR BUCKET NAME\n",
    "REGION = \"us-central1\" # REPLACE WITH YOUR BUCKET REGION e.g. us-central1\n",
    "TFVERSION = \"1.13\"\n"
   ]
  },
  {
   "cell_type": "code",
   "execution_count": 2,
   "metadata": {},
   "outputs": [],
   "source": [
    "# Do not change these\n",
    "os.environ[\"PROJECT\"] = PROJECT\n",
    "os.environ[\"BUCKET\"] = BUCKET\n",
    "os.environ[\"REGION\"] = REGION\n",
    "os.environ[\"TFVERSION\"] = TFVERSION  # Tensorflow version"
   ]
  },
  {
   "cell_type": "code",
   "execution_count": null,
   "metadata": {},
   "outputs": [],
   "source": [
    "!gcloud auth list\n",
    "!gcloud config set project $PROJECT\n",
    "!gcloud config set compute/region $REGION\n",
    "!gcloud config list project\n",
    "#!gcloud compute instances list"
   ]
  },
  {
   "cell_type": "markdown",
   "metadata": {},
   "source": [
    "<h2 id=\"Train-locally\">Train locally (for testing)</h2>\n"
   ]
  },
  {
   "cell_type": "code",
   "execution_count": 4,
   "metadata": {},
   "outputs": [],
   "source": [
    "#OUTDIR='trained_test'\n",
    "#INPDIR='..\\data'\n",
    "#shutil.rmtree(path = OUTDIR, ignore_errors = True) "
   ]
  },
  {
   "cell_type": "code",
   "execution_count": 5,
   "metadata": {},
   "outputs": [],
   "source": [
    "# this line won't run until this nb is halted and closed. so instead, run the command in a terminal\n",
    "#!gcloud ai-platform local train \\\n",
    "#--module-name=trainer.task \\\n",
    "#--package-path=trainer \\\n",
    "#-- \\\n",
    "#--output_dir=$OUTDIR \\\n",
    "#--input_dir=$INPDIR \\\n",
    "#--epochs=2 --learning_rate=0.001 --batch_size=100 "
   ]
  },
  {
   "cell_type": "markdown",
   "metadata": {},
   "source": [
    "<p>run this command lines in a terminal to train model locally</p>\n",
    "\n",
    "<pre>\n",
    "gcloud ai-platform local train --module-name=trainer.task --package-path=trainer --  --output_dir=trained_test --input_dir=..\\data --epochs=2 --learning_rate=0.001 --batch_size=100\n",
    "</pre>\n"
   ]
  },
  {
   "cell_type": "markdown",
   "metadata": {},
   "source": [
    "<h2 id=\"Train-on-Cloud-ML-Engine\">Train on Cloud ML Engine</h2>\n"
   ]
  },
  {
   "cell_type": "code",
   "execution_count": null,
   "metadata": {},
   "outputs": [],
   "source": [
    "OUTDIR='gs://'+BUCKET+'/train_01'\n",
    "INPDIR='gs://'+BUCKET+'/digit/data'\n",
    "\n",
    "\n",
    "print(\"OUTDIR: \",OUTDIR)\n",
    "print(\"INPDIR: \",INPDIR)\n",
    "print(\"REGION: \", REGION)\n",
    "\n",
    "print(\"BUCKET: \", BUCKET)\n",
    "print(\"TFVERSION: \", TFVERSION)\n"
   ]
  },
  {
   "cell_type": "code",
   "execution_count": 7,
   "metadata": {
    "scrolled": true
   },
   "outputs": [],
   "source": [
    "#!gsutil -m rm -rf $OUTDIR\n",
    "# or delete it from console"
   ]
  },
  {
   "cell_type": "code",
   "execution_count": 8,
   "metadata": {},
   "outputs": [
    {
     "name": "stdout",
     "output_type": "stream",
     "text": [
      "JOBNAME:  kaggle_digit_01_20190907_092020\n"
     ]
    }
   ],
   "source": [
    "JOBNAME='kaggle_digit_01_'+datetime.now().strftime(\"%Y%m%d_%H%M%S\")\n",
    "print(\"JOBNAME: \", JOBNAME)"
   ]
  },
  {
   "cell_type": "code",
   "execution_count": 9,
   "metadata": {},
   "outputs": [
    {
     "name": "stdout",
     "output_type": "stream",
     "text": [
      "jobId: kaggle_digit_01_20190907_092020\n",
      "state: QUEUED\n"
     ]
    },
    {
     "name": "stderr",
     "output_type": "stream",
     "text": [
      "Job [kaggle_digit_01_20190907_092020] submitted successfully.\n",
      "Your job is still active. You may view the status of your job with the command\n",
      "\n",
      "  $ gcloud ai-platform jobs describe kaggle_digit_01_20190907_092020\n",
      "\n",
      "or continue streaming the logs with the command\n",
      "\n",
      "  $ gcloud ai-platform jobs stream-logs kaggle_digit_01_20190907_092020\n"
     ]
    }
   ],
   "source": [
    "!gcloud ai-platform jobs submit training $JOBNAME \\\n",
    "--region=$REGION \\\n",
    "--module-name=trainer.task \\\n",
    "--package-path=trainer \\\n",
    "--job-dir=$OUTDIR \\\n",
    "--staging-bucket=gs://$BUCKET \\\n",
    "--scale-tier=CUSTOM \\\n",
    "--master-machine-type=n1-standard-4 \\\n",
    "--runtime-version=$TFVERSION \\\n",
    "-- \\\n",
    "--output_dir=$OUTDIR \\\n",
    "--input_dir=$INPDIR \\\n",
    "--epochs=30 --learning_rate=0.001 --batch_size=100 "
   ]
  },
  {
   "cell_type": "code",
   "execution_count": null,
   "metadata": {},
   "outputs": [],
   "source": [
    "print(\"OUTDIR: \",OUTDIR)"
   ]
  },
  {
   "cell_type": "markdown",
   "metadata": {},
   "source": [
    "<h2 id=\"Monitoring-training-with-TensorBoard\">Monitoring training with TensorBoard</h2>\n",
    "\n",
    "<ol>\n",
    "\t<li>open a cloud shell and run the following (replace OUTDIR with actual gs folder)\n",
    "\t<pre>\n",
    "tensorboard --logdir=OUTDIR --port=8080   </pre>\n",
    "\t</li>\n",
    "\t<li>Select &quot;Preview on port 8080&quot; from the Web Preview menu at the top of the command line.</li>\n",
    "\t<li>in cloud cell window hit ctrl-c to exit.&nbsp;</li>\n",
    "</ol>\n"
   ]
  },
  {
   "cell_type": "markdown",
   "metadata": {},
   "source": [
    "## Deploying and predicting with model\n",
    "\n",
    "Deploy the model:"
   ]
  },
  {
   "cell_type": "code",
   "execution_count": null,
   "metadata": {
    "scrolled": true
   },
   "outputs": [],
   "source": [
    "!gsutil ls gs://$BUCKET/train_01/export "
   ]
  },
  {
   "cell_type": "code",
   "execution_count": 12,
   "metadata": {},
   "outputs": [],
   "source": [
    "MODEL_NAME='kaggle_digit_cnn'\n",
    "MODEL_VERSION=\"t01\"\n",
    "MODEL_LOCATION=\"gs://________/train_01/export/1567867308/\""
   ]
  },
  {
   "cell_type": "code",
   "execution_count": null,
   "metadata": {},
   "outputs": [],
   "source": [
    "#!gcloud ai-platform versions delete $MODEL_VERSION --model $MODEL_NAME"
   ]
  },
  {
   "cell_type": "code",
   "execution_count": null,
   "metadata": {},
   "outputs": [],
   "source": [
    "#!gcloud ai-platform models delete $MODEL_NAME"
   ]
  },
  {
   "cell_type": "code",
   "execution_count": null,
   "metadata": {
    "scrolled": true
   },
   "outputs": [],
   "source": [
    "!gcloud ai-platform models create $MODEL_NAME --regions $REGION"
   ]
  },
  {
   "cell_type": "code",
   "execution_count": 13,
   "metadata": {
    "scrolled": false
   },
   "outputs": [
    {
     "name": "stderr",
     "output_type": "stream",
     "text": [
      "Creating version (this might take a few minutes)......\n",
      "....................................................................................................................................................................................................................................................................done.\n"
     ]
    }
   ],
   "source": [
    "!gcloud ai-platform versions create $MODEL_VERSION --model $MODEL_NAME --origin $MODEL_LOCATION --runtime-version=$TFVERSION"
   ]
  },
  {
   "cell_type": "markdown",
   "metadata": {},
   "source": [
    "## Create input dataset for prediction test"
   ]
  },
  {
   "cell_type": "code",
   "execution_count": 14,
   "metadata": {},
   "outputs": [],
   "source": [
    "# create json file from test iamges for predict\n",
    "\n",
    "HEIGHT = 28\n",
    "WIDTH = 28\n",
    "\n",
    "#### input test data\n",
    "\n",
    "test = pd.read_csv('../data/test.csv')\n",
    "test_images = test.to_numpy().astype('float32')/255.0\n",
    "\n",
    "\n"
   ]
  },
  {
   "cell_type": "code",
   "execution_count": 15,
   "metadata": {},
   "outputs": [
    {
     "data": {
      "text/plain": [
       "(28000, 784)"
      ]
     },
     "execution_count": 15,
     "metadata": {},
     "output_type": "execute_result"
    }
   ],
   "source": [
    "test_images.shape"
   ]
  },
  {
   "cell_type": "code",
   "execution_count": 16,
   "metadata": {
    "scrolled": false
   },
   "outputs": [
    {
     "data": {
      "image/png": "[encoded data removed]",
      "text/plain": [
       "<Figure size 1440x360 with 5 Axes>"
      ]
     },
     "metadata": {
      "needs_background": "light"
     },
     "output_type": "display_data"
    }
   ],
   "source": [
    "# convert same examples for testing\n",
    "IMGNO=5\n",
    "plt.figure(figsize=(20,5))\n",
    "for i in range(IMGNO):\n",
    "    plt.subplot(1, 10, i+1)\n",
    "    plt.imshow(test_images[i].reshape(HEIGHT, WIDTH), cmap=plt.cm.binary)\n",
    "    plt.axis('off')\n"
   ]
  },
  {
   "cell_type": "code",
   "execution_count": 45,
   "metadata": {
    "scrolled": true
   },
   "outputs": [],
   "source": [
    "JSON_DATA_5img=\"../data/test_5img.json\" \n",
    "IMGNO=5\n",
    "with open(JSON_DATA_5img, \"w\") as file:\n",
    "    for i in range(IMGNO):\n",
    "#        jsondata = {\"image\": test_images[i].reshape([HEIGHT,WIDTH]).tolist(), \"key\":  i}\n",
    "        file.write(json.dumps(jsondata) + '\\n')\n",
    " \n"
   ]
  },
  {
   "cell_type": "markdown",
   "metadata": {},
   "source": [
    "## Local predict (Not working)"
   ]
  },
  {
   "cell_type": "code",
   "execution_count": null,
   "metadata": {
    "scrolled": true
   },
   "outputs": [],
   "source": [
    "# this maybe a cloud sdk not supporting python 2.7 on windows..\n",
    "#!gcloud ai-platform local predict \\\n",
    "#--model-dir=.\\trained_test\\export\\1567026070\\ \\\n",
    "#--json-instances=test_1.json"
   ]
  },
  {
   "cell_type": "markdown",
   "metadata": {},
   "source": [
    "## Send data to the prediction service"
   ]
  },
  {
   "cell_type": "code",
   "execution_count": 17,
   "metadata": {},
   "outputs": [],
   "source": [
    "MODEL_NAME='kaggle_digit_cnn'\n",
    "MODEL_VERSION=\"t01\"\n",
    "JSON_DATA=\"../data/test_5img.json\""
   ]
  },
  {
   "cell_type": "code",
   "execution_count": 19,
   "metadata": {
    "scrolled": false
   },
   "outputs": [
    {
     "name": "stdout",
     "output_type": "stream",
     "text": [
      "CLASS_IDS  KEY  PROBABILITIES\n",
      "2          0    [2.157716695000791e-15, 7.120979500507829e-11, 1.0, 1.038207089743004e-10, 1.7021737997588372e-15, 4.439483310655775e-18, 1.1650549231953522e-13, 1.6309280315152108e-11, 2.8516189518219826e-13, 2.620594736747289e-16]\n",
      "0          1    [0.9999995231628418, 1.5729922572815802e-11, 1.1480251060902447e-07, 3.4986682995175045e-10, 3.331811493367809e-10, 7.699960491436286e-08, 7.116546640872912e-08, 8.946547502830526e-09, 1.7725131584711562e-08, 1.3308539337231196e-07]\n",
      "9          2    [6.248121464658141e-11, 1.2815258854104172e-09, 2.497069884199732e-09, 1.2406940363973717e-08, 3.862553057842888e-06, 8.85780546133752e-11, 1.1261413676577625e-11, 1.0637103642352486e-08, 2.0143168910635723e-07, 0.9999958276748657]\n",
      "0          3    [0.9960324168205261, 2.177733327002329e-09, 0.0003500618040561676, 3.4856368529290194e-06, 5.254690904621384e-09, 1.2046750264005368e-08, 1.2734502661260194e-06, 1.9609587980085053e-06, 0.00020687119103968143, 0.0034039539750665426]\n",
      "3          4    [3.349235506683692e-16, 1.0418262389941257e-12, 3.6915701051576377e-10, 1.0, 2.0865325225695723e-16, 8.244079030550466e-11, 1.0130119120049775e-15, 8.853778712784866e-13, 1.4210232990308214e-08, 1.3266865037109277e-11]\n"
     ]
    }
   ],
   "source": [
    "!gcloud ai-platform predict \\\n",
    "    --model=$MODEL_NAME \\\n",
    "    --version=$MODEL_VERSION \\\n",
    "    --json-instances=$JSON_DATA"
   ]
  },
  {
   "cell_type": "markdown",
   "metadata": {},
   "source": [
    "<h2 id=\"Summary\">Summary</h2>\n",
    "\n",
    "<p>This is a basic flow for training, deploying model on GCP, and perform one image prediction.</p>\n",
    "\n",
    "<p>&nbsp;</p>\n"
   ]
  }
 ],
 "metadata": {
  "kernelspec": {
   "display_name": "Python 3",
   "language": "python",
   "name": "python3"
  },
  "language_info": {
   "codemirror_mode": {
    "name": "ipython",
    "version": 3
   },
   "file_extension": ".py",
   "mimetype": "text/x-python",
   "name": "python",
   "nbconvert_exporter": "python",
   "pygments_lexer": "ipython3",
   "version": "3.6.7"
  }
 },
 "nbformat": 4,
 "nbformat_minor": 2
}
