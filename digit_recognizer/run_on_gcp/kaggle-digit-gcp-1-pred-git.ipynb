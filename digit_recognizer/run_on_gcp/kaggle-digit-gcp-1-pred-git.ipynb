{
 "cells": [
  {
   "cell_type": "markdown",
   "metadata": {},
   "source": [
    "<h1 id=\"Predict-on-Google-Cloud-ML-Engine\">Predict on Google Cloud ML Engine</h1>\n",
    "\n",
    "<p>tags: kaggle, digit, mnist, google cloud, ml-engline, ai-platform, predict, online, batch, json</p>\n",
    "\n",
    "<p><a href=\"https://github.com/GoogleCloudPlatform/cloudml-dist-mnist-example/blob/master/scripts/\" target=\"_blank\">https://github.com/GoogleCloudPlatform/cloudml-dist-mnist-example/blob/master/scripts</a></p>\n",
    "\n",
    "<p><a href=\"https://github.com/googledatalab/notebooks/blob/991fba5b26b4cb2651e7d7c50ab65afeb5761219/samples/ML%20Toolbox/Regression/Census/5%20Service%20Predict.ipynb\">https://github.com/googledatalab/notebooks/blob/991fba5b26b4cb2651e7d7c50ab65afeb5761219/samples/ML%20Toolbox/Regression/Census/5%20Service%20Predict.ipynb</a></p>\n"
   ]
  },
  {
   "cell_type": "code",
   "execution_count": 1,
   "metadata": {},
   "outputs": [],
   "source": [
    "import os\n",
    "import shutil\n",
    "import gcsfs\n",
    "from datetime import datetime\n",
    "\n",
    "import json, codecs\n",
    "import matplotlib.pyplot as plt\n",
    "import pandas as pd\n",
    "import numpy as np\n"
   ]
  },
  {
   "cell_type": "code",
   "execution_count": 2,
   "metadata": {},
   "outputs": [],
   "source": [
    "PROJECT = \"kaggle________\" # REPLACE WITH YOUR PROJECT ID\n",
    "BUCKET = \"kaggle________\" # REPLACE WITH YOUR BUCKET NAME\n",
    "REGION = \"us-central1\" # REPLACE WITH YOUR BUCKET REGION e.g. us-central1\n",
    "TFVERSION = \"1.13\"\n",
    "\n",
    "\n",
    "os.environ[\"PROJECT\"] = PROJECT\n",
    "os.environ[\"BUCKET\"] = BUCKET\n",
    "os.environ[\"REGION\"] = REGION\n",
    "os.environ[\"TFVERSION\"] = TFVERSION  # Tensorflow version"
   ]
  },
  {
   "cell_type": "code",
   "execution_count": null,
   "metadata": {
    "scrolled": true
   },
   "outputs": [],
   "source": [
    "!gcloud auth list\n",
    "!gcloud config set project $PROJECT\n",
    "!gcloud config set compute/region $REGION\n",
    "!gcloud config list project\n",
    "#!gcloud compute instances list"
   ]
  },
  {
   "cell_type": "code",
   "execution_count": 4,
   "metadata": {},
   "outputs": [],
   "source": [
    "#deployed model\n",
    "MODEL_NAME='kaggle_digit_cnn'\n",
    "MODEL_VERSION=\"t01\"\n"
   ]
  },
  {
   "cell_type": "markdown",
   "metadata": {},
   "source": [
    "## Create input test dataset "
   ]
  },
  {
   "cell_type": "code",
   "execution_count": 5,
   "metadata": {},
   "outputs": [
    {
     "data": {
      "text/plain": [
       "(28000, 784)"
      ]
     },
     "execution_count": 5,
     "metadata": {},
     "output_type": "execute_result"
    }
   ],
   "source": [
    "# create json file from test iamges for predict\n",
    "\n",
    "HEIGHT = 28\n",
    "WIDTH = 28\n",
    "\n",
    "#### input test data\n",
    "\n",
    "test = pd.read_csv('../data/test.csv')\n",
    "test_images = test.to_numpy().astype('float32')/255.0\n",
    "\n",
    "test_images.shape\n"
   ]
  },
  {
   "cell_type": "code",
   "execution_count": 45,
   "metadata": {},
   "outputs": [
    {
     "data": {
      "text/plain": [
       "28000"
      ]
     },
     "execution_count": 45,
     "metadata": {},
     "output_type": "execute_result"
    }
   ],
   "source": [
    "len(test_images)"
   ]
  },
  {
   "cell_type": "code",
   "execution_count": 46,
   "metadata": {},
   "outputs": [],
   "source": [
    "IMGNO=len(test_images);\n",
    "JSON_DATA=\"../data/test_allimg.json\"\n",
    "JSON_DATA_5img=\"../data/test_5img.json\" \n",
    "\n",
    "with open(JSON_DATA, \"w\") as file:\n",
    "    for i in range(IMGNO):\n",
    "        jsondata = {\"image\": test_images[i].reshape([HEIGHT,WIDTH]).tolist()}\n",
    "        file.write(json.dumps(jsondata) + '\\n')"
   ]
  },
  {
   "cell_type": "code",
   "execution_count": 47,
   "metadata": {
    "scrolled": false
   },
   "outputs": [
    {
     "data": {
      "image/png": "[encoded data removed]",
      "text/plain": [
       "<Figure size 1440x360 with 10 Axes>"
      ]
     },
     "metadata": {
      "needs_background": "light"
     },
     "output_type": "display_data"
    }
   ],
   "source": [
    "IMGNO=10\n",
    "plt.figure(figsize=(20,5))\n",
    "for i in range(IMGNO):\n",
    "    plt.subplot(1, 10, i+1)\n",
    "    plt.imshow(test_images[i].reshape(HEIGHT, WIDTH), cmap=plt.cm.binary)\n",
    "    plt.axis('off')\n"
   ]
  },
  {
   "cell_type": "markdown",
   "metadata": {},
   "source": [
    "## Online prediction "
   ]
  },
  {
   "cell_type": "code",
   "execution_count": 5,
   "metadata": {},
   "outputs": [],
   "source": [
    "JSON_DATA_5img=\"../data/test_5img.json\" "
   ]
  },
  {
   "cell_type": "code",
   "execution_count": 6,
   "metadata": {
    "scrolled": true
   },
   "outputs": [
    {
     "name": "stdout",
     "output_type": "stream",
     "text": [
      "CLASS_IDS  PROBABILITIES\n",
      "2          [7.093776588362743e-08, 2.2788258036143816e-07, 0.9999858140945435, 8.286970683002437e-07, 2.687536193590745e-09, 2.9779695376319637e-10, 5.848130313346189e-11, 1.2598188732226845e-05, 3.0776192261328106e-07, 3.1510822395830473e-08]\n",
      "0          [0.9998999834060669, 1.9269327822257765e-06, 5.584812242886983e-06, 4.5135443826893606e-08, 7.422779901844478e-08, 5.708746812160825e-06, 5.505998615262797e-06, 6.578650209121406e-05, 1.2466653060982935e-06, 1.4125875168247148e-05]\n",
      "9          [2.2094129690231057e-06, 5.80093364987988e-06, 1.4805370938120177e-06, 0.00014728045789524913, 0.0003923723706975579, 1.4150448805594351e-05, 1.2030977103449914e-08, 0.0002630635572131723, 0.0007692530634813011, 0.9984044432640076]\n",
      "0          [0.7255468368530273, 0.0007831885595805943, 0.04517584294080734, 0.002723017241805792, 0.00012076569691998884, 0.0006411412032321095, 0.00045932954526506364, 0.013404740020632744, 0.022294865921139717, 0.18885022401809692]\n",
      "3          [1.597324272850642e-09, 7.068902050377801e-07, 2.396603667875752e-05, 0.999950647354126, 6.416873282732993e-11, 2.1684622879547533e-06, 4.079738630258234e-11, 7.95524954355642e-07, 2.1020978238084354e-05, 6.906817020535527e-07]\n"
     ]
    }
   ],
   "source": [
    "!gcloud ai-platform predict \\\n",
    "    --model=$MODEL_NAME \\\n",
    "    --version=$MODEL_VERSION \\\n",
    "    --json-instances=$JSON_DATA_5img "
   ]
  },
  {
   "cell_type": "markdown",
   "metadata": {},
   "source": [
    "## Batch prediction"
   ]
  },
  {
   "cell_type": "code",
   "execution_count": 7,
   "metadata": {
    "scrolled": false
   },
   "outputs": [],
   "source": [
    "INPDIR='gs://'+BUCKET+'/digit/data/test_allimg.json'\n",
    "OUTDIR='gs://'+BUCKET+'/digit/data/prediction'\n",
    "\n",
    "\n",
    "#!gsutil cp $JSON_DATA $INPDIR"
   ]
  },
  {
   "cell_type": "code",
   "execution_count": 10,
   "metadata": {},
   "outputs": [
    {
     "name": "stdout",
     "output_type": "stream",
     "text": [
      "Jobname:  pred_cnnt01_allimg_20190904_182610\n"
     ]
    }
   ],
   "source": [
    "JOBNAME='pred_cnnt01_allimg_'+datetime.now().strftime(\"%Y%m%d_%H%M%S\")\n",
    "\n",
    "print(\"Jobname: \",JOBNAME)\n"
   ]
  },
  {
   "cell_type": "code",
   "execution_count": 12,
   "metadata": {
    "scrolled": true
   },
   "outputs": [
    {
     "name": "stdout",
     "output_type": "stream",
     "text": [
      "jobId: pred_cnnt01_allimg_20190904_182610\n",
      "state: QUEUED\n"
     ]
    },
    {
     "name": "stderr",
     "output_type": "stream",
     "text": [
      "Job [pred_cnnt01_allimg_20190904_182610] submitted successfully.\n",
      "Your job is still active. You may view the status of your job with the command\n",
      "\n",
      "  $ gcloud ai-platform jobs describe pred_cnnt01_allimg_20190904_182610\n",
      "\n",
      "or continue streaming the logs with the command\n",
      "\n",
      "  $ gcloud ai-platform jobs stream-logs pred_cnnt01_allimg_20190904_182610\n"
     ]
    }
   ],
   "source": [
    "!gcloud ai-platform jobs submit prediction $JOBNAME \\\n",
    "    --model=$MODEL_NAME \\\n",
    "    --version=$MODEL_VERSION \\\n",
    "    --data-format=TEXT \\\n",
    "    --region=$REGION \\\n",
    "    --input-paths=$INPDIR \\\n",
    "    --output-path=$OUTDIR"
   ]
  },
  {
   "cell_type": "code",
   "execution_count": null,
   "metadata": {
    "scrolled": false
   },
   "outputs": [],
   "source": [
    "!gsutil ls $OUTDIR"
   ]
  },
  {
   "cell_type": "code",
   "execution_count": null,
   "metadata": {
    "scrolled": false
   },
   "outputs": [],
   "source": [
    "#download multiple parts of the prediction \n",
    "PRED_LOCAL=\"../data/\"\n",
    "\n",
    "for i in range(8):\n",
    "    PRED_CLOUD = OUTDIR + '/prediction.results-0000'+str(i)+'-of-00008'\n",
    "    !gsutil cp $PRED_CLOUD $PRED_LOCAL"
   ]
  },
  {
   "cell_type": "code",
   "execution_count": 17,
   "metadata": {
    "scrolled": true
   },
   "outputs": [
    {
     "name": "stdout",
     "output_type": "stream",
     "text": [
      "reading  ../data/prediction.results-00000-of-00008\n",
      "reading  ../data/prediction.results-00001-of-00008\n",
      "reading  ../data/prediction.results-00002-of-00008\n",
      "reading  ../data/prediction.results-00003-of-00008\n",
      "reading  ../data/prediction.results-00004-of-00008\n",
      "reading  ../data/prediction.results-00005-of-00008\n",
      "reading  ../data/prediction.results-00006-of-00008\n",
      "reading  ../data/prediction.results-00007-of-00008\n"
     ]
    }
   ],
   "source": [
    "pred=[]\n",
    "for j in range(8):\n",
    "    PRED_LOCAL='../data/prediction.results-0000'+str(j)+'-of-00008'\n",
    "    print('reading ', PRED_LOCAL)\n",
    "    data = [json.loads(line) for line in open(PRED_LOCAL, 'r')]\n",
    "    \n",
    "    for i in range(len(data)):\n",
    "        pred.append(data[i]['class_ids'])\n"
   ]
  },
  {
   "cell_type": "code",
   "execution_count": 21,
   "metadata": {
    "scrolled": true
   },
   "outputs": [
    {
     "data": {
      "text/plain": [
       "(28000,)"
      ]
     },
     "execution_count": 21,
     "metadata": {},
     "output_type": "execute_result"
    }
   ],
   "source": [
    "np.shape(pred)"
   ]
  },
  {
   "cell_type": "code",
   "execution_count": 22,
   "metadata": {},
   "outputs": [
    {
     "data": {
      "text/plain": [
       "[2, 0, 9, 0, 3, 7, 0, 3, 0, 3]"
      ]
     },
     "execution_count": 22,
     "metadata": {},
     "output_type": "execute_result"
    }
   ],
   "source": [
    "pred[:10]"
   ]
  },
  {
   "cell_type": "code",
   "execution_count": 23,
   "metadata": {},
   "outputs": [
    {
     "data": {
      "text/html": [
       "<div>\n",
       "<style scoped>\n",
       "    .dataframe tbody tr th:only-of-type {\n",
       "        vertical-align: middle;\n",
       "    }\n",
       "\n",
       "    .dataframe tbody tr th {\n",
       "        vertical-align: top;\n",
       "    }\n",
       "\n",
       "    .dataframe thead th {\n",
       "        text-align: right;\n",
       "    }\n",
       "</style>\n",
       "<table border=\"1\" class=\"dataframe\">\n",
       "  <thead>\n",
       "    <tr style=\"text-align: right;\">\n",
       "      <th></th>\n",
       "      <th>ImageId</th>\n",
       "      <th>Label</th>\n",
       "    </tr>\n",
       "  </thead>\n",
       "  <tbody>\n",
       "    <tr>\n",
       "      <th>0</th>\n",
       "      <td>1</td>\n",
       "      <td>2</td>\n",
       "    </tr>\n",
       "    <tr>\n",
       "      <th>1</th>\n",
       "      <td>2</td>\n",
       "      <td>0</td>\n",
       "    </tr>\n",
       "    <tr>\n",
       "      <th>2</th>\n",
       "      <td>3</td>\n",
       "      <td>9</td>\n",
       "    </tr>\n",
       "    <tr>\n",
       "      <th>3</th>\n",
       "      <td>4</td>\n",
       "      <td>0</td>\n",
       "    </tr>\n",
       "    <tr>\n",
       "      <th>4</th>\n",
       "      <td>5</td>\n",
       "      <td>3</td>\n",
       "    </tr>\n",
       "  </tbody>\n",
       "</table>\n",
       "</div>"
      ],
      "text/plain": [
       "   ImageId  Label\n",
       "0        1      2\n",
       "1        2      0\n",
       "2        3      9\n",
       "3        4      0\n",
       "4        5      3"
      ]
     },
     "execution_count": 23,
     "metadata": {},
     "output_type": "execute_result"
    }
   ],
   "source": [
    "output = pd.DataFrame({ 'ImageId' : np.arange(len(pred))+1, 'Label': pred })\n",
    "output.head()"
   ]
  },
  {
   "cell_type": "code",
   "execution_count": null,
   "metadata": {},
   "outputs": [],
   "source": [
    "#output.to_csv('data/sub_digit_cnn_estimator_v03_gcp_30ep.csv', index = False)"
   ]
  },
  {
   "cell_type": "markdown",
   "metadata": {},
   "source": [
    "<h2 id=\"Next-steps\">Next steps</h2>\n",
    "\n",
    "<p>&nbsp;</p>\n",
    "\n",
    "<ol>\n",
    "\t<li>recreat tf record&nbsp;<a href=\"https://github.com/GoogleCloudPlatform/cloudml-dist-mnist-example/blob/master/scripts/create_records.py\" target=\"_blank\">https://github.com/GoogleCloudPlatform/cloudml-dist-mnist-example/blob/master/scripts/create_records.py</a></li>\n",
    "</ol>\n"
   ]
  }
 ],
 "metadata": {
  "kernelspec": {
   "display_name": "Python 3",
   "language": "python",
   "name": "python3"
  },
  "language_info": {
   "codemirror_mode": {
    "name": "ipython",
    "version": 3
   },
   "file_extension": ".py",
   "mimetype": "text/x-python",
   "name": "python",
   "nbconvert_exporter": "python",
   "pygments_lexer": "ipython3",
   "version": "3.6.7"
  }
 },
 "nbformat": 4,
 "nbformat_minor": 2
}
