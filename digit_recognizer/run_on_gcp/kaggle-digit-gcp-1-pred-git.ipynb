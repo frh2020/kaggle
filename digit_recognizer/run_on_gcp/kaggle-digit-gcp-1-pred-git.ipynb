{
 "cells": [
  {
   "cell_type": "markdown",
   "metadata": {},
   "source": [
    "<h1 id=\"Predict-on-Google-Cloud-ML-Engine\">Predict on Google Cloud ML Engine</h1>\n",
    "\n",
    "<p>tags: kaggle, digit, mnist, google cloud, ml-engline, ai-platform, predict, online, batch, json</p>\n",
    "\n",
    "<p><a href=\"https://github.com/GoogleCloudPlatform/cloudml-dist-mnist-example/blob/master/scripts/\" target=\"_blank\">https://github.com/GoogleCloudPlatform/cloudml-dist-mnist-example/blob/master/scripts</a></p>\n",
    "\n",
    "<p><a href=\"https://github.com/googledatalab/notebooks/blob/991fba5b26b4cb2651e7d7c50ab65afeb5761219/samples/ML%20Toolbox/Regression/Census/5%20Service%20Predict.ipynb\">https://github.com/googledatalab/notebooks/blob/991fba5b26b4cb2651e7d7c50ab65afeb5761219/samples/ML%20Toolbox/Regression/Census/5%20Service%20Predict.ipynb</a></p>\n"
   ]
  },
  {
   "cell_type": "code",
   "execution_count": 1,
   "metadata": {},
   "outputs": [],
   "source": [
    "import os\n",
    "import shutil\n",
    "import gcsfs\n",
    "from datetime import datetime\n",
    "\n",
    "import json, codecs\n",
    "import matplotlib.pyplot as plt\n",
    "import pandas as pd\n",
    "import numpy as np\n"
   ]
  },
  {
   "cell_type": "code",
   "execution_count": 2,
   "metadata": {},
   "outputs": [],
   "source": [
    "PROJECT = \"________\" # REPLACE WITH YOUR PROJECT ID\n",
    "BUCKET = \"________\" # REPLACE WITH YOUR BUCKET NAME\n",
    "REGION = \"us-central1\" # REPLACE WITH YOUR BUCKET REGION e.g. us-central1\n",
    "TFVERSION = \"1.13\"\n",
    "\n",
    "\n",
    "os.environ[\"PROJECT\"] = PROJECT\n",
    "os.environ[\"BUCKET\"] = BUCKET\n",
    "os.environ[\"REGION\"] = REGION\n",
    "os.environ[\"TFVERSION\"] = TFVERSION  # Tensorflow version"
   ]
  },
  {
   "cell_type": "code",
   "execution_count": null,
   "metadata": {
    "scrolled": true
   },
   "outputs": [],
   "source": [
    "!gcloud auth list\n",
    "!gcloud config set project $PROJECT\n",
    "!gcloud config set compute/region $REGION\n",
    "!gcloud config list project\n",
    "#!gcloud compute instances list"
   ]
  },
  {
   "cell_type": "code",
   "execution_count": 4,
   "metadata": {},
   "outputs": [],
   "source": [
    "#deployed model\n",
    "MODEL_NAME='kaggle_digit_cnn'\n",
    "MODEL_VERSION=\"t01\"\n"
   ]
  },
  {
   "cell_type": "markdown",
   "metadata": {},
   "source": [
    "## Create input test dataset "
   ]
  },
  {
   "cell_type": "code",
   "execution_count": 5,
   "metadata": {},
   "outputs": [
    {
     "data": {
      "text/plain": [
       "(28000, 784)"
      ]
     },
     "execution_count": 5,
     "metadata": {},
     "output_type": "execute_result"
    }
   ],
   "source": [
    "# create json file from test iamges for predict\n",
    "\n",
    "HEIGHT = 28\n",
    "WIDTH = 28\n",
    "\n",
    "#### input test data\n",
    "\n",
    "test = pd.read_csv('../data/test.csv')\n",
    "test_images = test.to_numpy().astype('float32')/255.0\n",
    "\n",
    "test_images.shape\n"
   ]
  },
  {
   "cell_type": "code",
   "execution_count": 6,
   "metadata": {},
   "outputs": [
    {
     "data": {
      "text/plain": [
       "28000"
      ]
     },
     "execution_count": 6,
     "metadata": {},
     "output_type": "execute_result"
    }
   ],
   "source": [
    "len(test_images)"
   ]
  },
  {
   "cell_type": "markdown",
   "metadata": {},
   "source": [
    "### Save json files once"
   ]
  },
  {
   "cell_type": "code",
   "execution_count": 7,
   "metadata": {},
   "outputs": [],
   "source": [
    "IMGNO=5\n",
    "JSON_DATA_5img=\"../data/test_5img.json\" \n",
    "\n",
    "with open(JSON_DATA_5img, \"w\") as file:\n",
    "    for i in range(IMGNO):\n",
    "#        jsondata = {\"image\": test_images[i].reshape([HEIGHT,WIDTH]).tolist(), \"key\": i}\n",
    "        file.write(json.dumps(jsondata) + '\\n')"
   ]
  },
  {
   "cell_type": "code",
   "execution_count": 8,
   "metadata": {},
   "outputs": [],
   "source": [
    "IMGNO=len(test_images)\n",
    "JSON_DATA=\"../data/test_allimg.json\"\n",
    "\n",
    "with open(JSON_DATA, \"w\") as file:\n",
    "    for i in range(IMGNO):\n",
    "#        jsondata = {\"image\": test_images[i].reshape([HEIGHT,WIDTH]).tolist(), \"key\": i}\n",
    "        file.write(json.dumps(jsondata) + '\\n')"
   ]
  },
  {
   "cell_type": "markdown",
   "metadata": {},
   "source": [
    "### Display test images"
   ]
  },
  {
   "cell_type": "code",
   "execution_count": 6,
   "metadata": {
    "scrolled": false
   },
   "outputs": [
    {
     "data": {
      "image/png": "[encoded data removed]",
      "text/plain": [
       "<Figure size 1440x360 with 10 Axes>"
      ]
     },
     "metadata": {
      "needs_background": "light"
     },
     "output_type": "display_data"
    }
   ],
   "source": [
    "IMGNO=10\n",
    "plt.figure(figsize=(20,5))\n",
    "for i in range(IMGNO):\n",
    "    plt.subplot(1, 10, i+1)\n",
    "    plt.imshow(test_images[i].reshape(HEIGHT, WIDTH), cmap=plt.cm.binary)\n",
    "    plt.axis('off')\n"
   ]
  },
  {
   "cell_type": "markdown",
   "metadata": {},
   "source": [
    "## Online prediction "
   ]
  },
  {
   "cell_type": "code",
   "execution_count": 7,
   "metadata": {},
   "outputs": [],
   "source": [
    "JSON_DATA_5img=\"../data/test_5img.json\" "
   ]
  },
  {
   "cell_type": "code",
   "execution_count": 8,
   "metadata": {
    "scrolled": true
   },
   "outputs": [
    {
     "name": "stdout",
     "output_type": "stream",
     "text": [
      "CLASS_IDS  KEY  PROBABILITIES\n",
      "2          0    [2.157716695000791e-15, 7.120979500507829e-11, 1.0, 1.038207089743004e-10, 1.7021737997588372e-15, 4.439483310655775e-18, 1.1650549231953522e-13, 1.6309280315152108e-11, 2.8516189518219826e-13, 2.620594736747289e-16]\n",
      "0          1    [0.9999995231628418, 1.5729922572815802e-11, 1.1480251060902447e-07, 3.4986682995175045e-10, 3.331811493367809e-10, 7.699960491436286e-08, 7.116546640872912e-08, 8.946547502830526e-09, 1.7725131584711562e-08, 1.3308539337231196e-07]\n",
      "9          2    [6.248121464658141e-11, 1.2815258854104172e-09, 2.497069884199732e-09, 1.2406940363973717e-08, 3.862553057842888e-06, 8.85780546133752e-11, 1.1261413676577625e-11, 1.0637103642352486e-08, 2.0143168910635723e-07, 0.9999958276748657]\n",
      "0          3    [0.9960324168205261, 2.177733327002329e-09, 0.0003500618040561676, 3.4856368529290194e-06, 5.254690904621384e-09, 1.2046750264005368e-08, 1.2734502661260194e-06, 1.9609587980085053e-06, 0.00020687119103968143, 0.0034039539750665426]\n",
      "3          4    [3.349235506683692e-16, 1.0418262389941257e-12, 3.6915701051576377e-10, 1.0, 2.0865325225695723e-16, 8.244079030550466e-11, 1.0130119120049775e-15, 8.853778712784866e-13, 1.4210232990308214e-08, 1.3266865037109277e-11]\n"
     ]
    }
   ],
   "source": [
    "!gcloud ai-platform predict \\\n",
    "    --model=$MODEL_NAME \\\n",
    "    --version=$MODEL_VERSION \\\n",
    "    --json-instances=$JSON_DATA_5img "
   ]
  },
  {
   "cell_type": "markdown",
   "metadata": {},
   "source": [
    "## Batch prediction"
   ]
  },
  {
   "cell_type": "code",
   "execution_count": 9,
   "metadata": {},
   "outputs": [
    {
     "name": "stdout",
     "output_type": "stream",
     "text": [
      "Jobname:  pred_cnnt01_allimg_20190907_105047\n"
     ]
    }
   ],
   "source": [
    "DATETIME=datetime.now().strftime(\"%Y%m%d_%H%M%S\")\n",
    "JOBNAME='pred_cnnt01_allimg_'+DATETIME\n",
    "\n",
    "print(\"Jobname: \",JOBNAME)"
   ]
  },
  {
   "cell_type": "code",
   "execution_count": 10,
   "metadata": {
    "scrolled": false
   },
   "outputs": [],
   "source": [
    "INPDIR='gs://'+BUCKET+'/digit/data/test_allimg.json'\n",
    "OUTDIR='gs://'+BUCKET+'/digit/data/pred_'+DATETIME+'/'"
   ]
  },
  {
   "cell_type": "code",
   "execution_count": 11,
   "metadata": {},
   "outputs": [],
   "source": [
    "# upload test_allimg.json to gcloud or run the next line.\n",
    "\n",
    "#!gsutil cp $JSON_DATA $INPDIR #this could take very long time."
   ]
  },
  {
   "cell_type": "code",
   "execution_count": 12,
   "metadata": {
    "scrolled": false
   },
   "outputs": [
    {
     "name": "stdout",
     "output_type": "stream",
     "text": [
      "jobId: pred_cnnt01_allimg_20190907_105047\n",
      "state: QUEUED\n"
     ]
    },
    {
     "name": "stderr",
     "output_type": "stream",
     "text": [
      "Job [pred_cnnt01_allimg_20190907_105047] submitted successfully.\n",
      "Your job is still active. You may view the status of your job with the command\n",
      "\n",
      "  $ gcloud ai-platform jobs describe pred_cnnt01_allimg_20190907_105047\n",
      "\n",
      "or continue streaming the logs with the command\n",
      "\n",
      "  $ gcloud ai-platform jobs stream-logs pred_cnnt01_allimg_20190907_105047\n"
     ]
    }
   ],
   "source": [
    "!gcloud ai-platform jobs submit prediction $JOBNAME \\\n",
    "    --model=$MODEL_NAME \\\n",
    "    --version=$MODEL_VERSION \\\n",
    "    --data-format=TEXT \\\n",
    "    --region=$REGION \\\n",
    "    --input-paths=$INPDIR \\\n",
    "    --output-path=$OUTDIR"
   ]
  },
  {
   "cell_type": "code",
   "execution_count": null,
   "metadata": {
    "scrolled": false
   },
   "outputs": [],
   "source": [
    "!gsutil ls $OUTDIR"
   ]
  },
  {
   "cell_type": "code",
   "execution_count": 20,
   "metadata": {
    "scrolled": true
   },
   "outputs": [],
   "source": [
    "PRED_LOCAL=\"../data/pred_\"+DATETIME\n",
    "os.mkdir(PRED_LOCAL)\n"
   ]
  },
  {
   "cell_type": "code",
   "execution_count": 21,
   "metadata": {},
   "outputs": [
    {
     "data": {
      "text/plain": [
       "'../data/pred_20190907_105047'"
      ]
     },
     "execution_count": 21,
     "metadata": {},
     "output_type": "execute_result"
    }
   ],
   "source": [
    "PRED_LOCAL"
   ]
  },
  {
   "cell_type": "code",
   "execution_count": null,
   "metadata": {
    "scrolled": true
   },
   "outputs": [],
   "source": [
    "#download multiple parts of the prediction \n",
    "#OUTDIR='gs://'+BUCKET+'/digit/data/prediction'\n",
    "#PRED_LOCAL=\"../data/\"\n",
    "\n",
    "for i in range(8):\n",
    "    PRED_CLOUD = OUTDIR + 'prediction.results-0000'+str(i)+'-of-00008'\n",
    "    !gsutil cp $PRED_CLOUD $PRED_LOCAL"
   ]
  },
  {
   "cell_type": "code",
   "execution_count": 23,
   "metadata": {
    "scrolled": true
   },
   "outputs": [
    {
     "name": "stdout",
     "output_type": "stream",
     "text": [
      "reading  ../data/pred_20190907_105047/prediction.results-00000-of-00008\n",
      "reading  ../data/pred_20190907_105047/prediction.results-00001-of-00008\n",
      "reading  ../data/pred_20190907_105047/prediction.results-00002-of-00008\n",
      "reading  ../data/pred_20190907_105047/prediction.results-00003-of-00008\n",
      "reading  ../data/pred_20190907_105047/prediction.results-00004-of-00008\n",
      "reading  ../data/pred_20190907_105047/prediction.results-00005-of-00008\n",
      "reading  ../data/pred_20190907_105047/prediction.results-00006-of-00008\n",
      "reading  ../data/pred_20190907_105047/prediction.results-00007-of-00008\n"
     ]
    }
   ],
   "source": [
    "#PRED_LOCAL=\"../data\"\n",
    "pred_out=[]\n",
    "\n",
    "for j in range(8):\n",
    "    PRED_FILES=PRED_LOCAL+'/prediction.results-0000'+str(j)+'-of-00008'\n",
    "    print('reading ', PRED_FILES)\n",
    "    data = [json.loads(line) for line in open(PRED_FILES, 'r')]\n",
    "    \n",
    "    for i in range(len(data)):\n",
    "        pred_out.append([data[i]['key'],data[i]['class_ids']])\n"
   ]
  },
  {
   "cell_type": "code",
   "execution_count": 24,
   "metadata": {
    "scrolled": false
   },
   "outputs": [
    {
     "data": {
      "text/plain": [
       "(28000, 2)"
      ]
     },
     "execution_count": 24,
     "metadata": {},
     "output_type": "execute_result"
    }
   ],
   "source": [
    "np.shape(pred_out)"
   ]
  },
  {
   "cell_type": "code",
   "execution_count": 25,
   "metadata": {},
   "outputs": [
    {
     "data": {
      "text/plain": [
       "[[10851, 4],\n",
       " [10852, 1],\n",
       " [10853, 9],\n",
       " [10854, 7],\n",
       " [10855, 2],\n",
       " [10856, 0],\n",
       " [10857, 8],\n",
       " [10858, 2],\n",
       " [10859, 4],\n",
       " [10860, 3]]"
      ]
     },
     "execution_count": 25,
     "metadata": {},
     "output_type": "execute_result"
    }
   ],
   "source": [
    "pred_out[:10]"
   ]
  },
  {
   "cell_type": "code",
   "execution_count": 26,
   "metadata": {},
   "outputs": [],
   "source": [
    "pred_out = sorted(pred_out,key=lambda x:x[0])"
   ]
  },
  {
   "cell_type": "code",
   "execution_count": 27,
   "metadata": {},
   "outputs": [],
   "source": [
    "pred=np.array(pred_out)[:,1]\n",
    "pred_key=np.array(pred_out)[:,0]"
   ]
  },
  {
   "cell_type": "code",
   "execution_count": 28,
   "metadata": {},
   "outputs": [
    {
     "data": {
      "text/plain": [
       "array([0, 7, 0, 7, 1, 3, 4, 6, 3, 9])"
      ]
     },
     "execution_count": 28,
     "metadata": {},
     "output_type": "execute_result"
    }
   ],
   "source": [
    "# correct order from 1000: [0, 7, 0, 7, 1, 3, 4, 6, 3, 9]\n",
    "pred[1000:1010]"
   ]
  },
  {
   "cell_type": "code",
   "execution_count": 29,
   "metadata": {},
   "outputs": [
    {
     "data": {
      "text/plain": [
       "array([1000, 1001, 1002, 1003, 1004, 1005, 1006, 1007, 1008, 1009])"
      ]
     },
     "execution_count": 29,
     "metadata": {},
     "output_type": "execute_result"
    }
   ],
   "source": [
    "pred_key[1000:1010]"
   ]
  },
  {
   "cell_type": "code",
   "execution_count": 30,
   "metadata": {},
   "outputs": [
    {
     "data": {
      "image/png": "[encoded data removed]",
      "text/plain": [
       "<Figure size 1440x360 with 20 Axes>"
      ]
     },
     "metadata": {
      "needs_background": "light"
     },
     "output_type": "display_data"
    }
   ],
   "source": [
    "i=1000\n",
    "plt.figure(figsize=(20,5))\n",
    "for IMGNO in range(i,i+20):  \n",
    "    plt.subplot(2, 10, IMGNO-i+1)\n",
    "    plt.imshow(test_images[IMGNO].reshape((28,28)),cmap=plt.cm.binary)\n",
    "    plt.title(\"pred = %d\" % pred[IMGNO],y=0.9)\n",
    "    plt.axis('off')\n",
    "#plt.subplots_adjust(wspace=0.3, hspace=-0.1)\n",
    "plt.show()"
   ]
  },
  {
   "cell_type": "code",
   "execution_count": 31,
   "metadata": {},
   "outputs": [
    {
     "data": {
      "text/html": [
       "<div>\n",
       "<style scoped>\n",
       "    .dataframe tbody tr th:only-of-type {\n",
       "        vertical-align: middle;\n",
       "    }\n",
       "\n",
       "    .dataframe tbody tr th {\n",
       "        vertical-align: top;\n",
       "    }\n",
       "\n",
       "    .dataframe thead th {\n",
       "        text-align: right;\n",
       "    }\n",
       "</style>\n",
       "<table border=\"1\" class=\"dataframe\">\n",
       "  <thead>\n",
       "    <tr style=\"text-align: right;\">\n",
       "      <th></th>\n",
       "      <th>ImageId</th>\n",
       "      <th>Label</th>\n",
       "    </tr>\n",
       "  </thead>\n",
       "  <tbody>\n",
       "    <tr>\n",
       "      <th>0</th>\n",
       "      <td>1</td>\n",
       "      <td>2</td>\n",
       "    </tr>\n",
       "    <tr>\n",
       "      <th>1</th>\n",
       "      <td>2</td>\n",
       "      <td>0</td>\n",
       "    </tr>\n",
       "    <tr>\n",
       "      <th>2</th>\n",
       "      <td>3</td>\n",
       "      <td>9</td>\n",
       "    </tr>\n",
       "    <tr>\n",
       "      <th>3</th>\n",
       "      <td>4</td>\n",
       "      <td>0</td>\n",
       "    </tr>\n",
       "    <tr>\n",
       "      <th>4</th>\n",
       "      <td>5</td>\n",
       "      <td>3</td>\n",
       "    </tr>\n",
       "  </tbody>\n",
       "</table>\n",
       "</div>"
      ],
      "text/plain": [
       "   ImageId  Label\n",
       "0        1      2\n",
       "1        2      0\n",
       "2        3      9\n",
       "3        4      0\n",
       "4        5      3"
      ]
     },
     "execution_count": 31,
     "metadata": {},
     "output_type": "execute_result"
    }
   ],
   "source": [
    "output = pd.DataFrame({ 'ImageId' : pred_key+1, 'Label': pred })\n",
    "output.head()"
   ]
  },
  {
   "cell_type": "code",
   "execution_count": 32,
   "metadata": {},
   "outputs": [],
   "source": [
    "output.to_csv('../data/sub_digit_cnn_estimator_v05_gcp_30ep.csv', index = False)"
   ]
  },
  {
   "cell_type": "markdown",
   "metadata": {},
   "source": [
    "<h2 id=\"Next-steps\">Next steps</h2>\n",
    "\n",
    "<p>&nbsp;</p>\n",
    "\n",
    "<ol>\n",
    "\t<li>recreat tf record&nbsp;<a href=\"https://github.com/GoogleCloudPlatform/cloudml-dist-mnist-example/blob/master/scripts/create_records.py\" target=\"_blank\">https://github.com/GoogleCloudPlatform/cloudml-dist-mnist-example/blob/master/scripts/create_records.py</a></li>\n",
    "</ol>\n"
   ]
  }
 ],
 "metadata": {
  "kernelspec": {
   "display_name": "Python 3",
   "language": "python",
   "name": "python3"
  },
  "language_info": {
   "codemirror_mode": {
    "name": "ipython",
    "version": 3
   },
   "file_extension": ".py",
   "mimetype": "text/x-python",
   "name": "python",
   "nbconvert_exporter": "python",
   "pygments_lexer": "ipython3",
   "version": "3.6.7"
  }
 },
 "nbformat": 4,
 "nbformat_minor": 2
}
