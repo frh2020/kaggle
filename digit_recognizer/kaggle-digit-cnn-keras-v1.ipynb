{
 "cells": [
  {
   "cell_type": "markdown",
   "metadata": {},
   "source": [
    "<h1 id=\"Kaggle-Digit-Recognizer \">Kaggle Digit Recognizer&nbsp;</h1>\n",
    "\n",
    "<h2 id=\"MNIST-Image-Classification with-Keras-CNN-model\">MNIST Image Classification&nbsp;with Keras CNN model</h2>\n",
    "\n",
    "<p>procedure:</p>\n",
    "\n",
    "<ol>\n",
    "\t<li>Image input from local data, normalized and reshape input to [-1, HEIGHT, WIDTH, 1]</li>\n",
    "\t<li>data&nbsp;augmentation</li>\n",
    "\t<li>CNN model, ir = 0.001 with decrease schedule</li>\n",
    "\t<li>train for 20 &nbsp;- 30 epochs</li>\n",
    "</ol>\n",
    "\n",
    "<p>&nbsp;</p>\n",
    "\n",
    "<p>&nbsp;</p>\n"
   ]
  },
  {
   "cell_type": "code",
   "execution_count": 2,
   "metadata": {},
   "outputs": [
    {
     "name": "stdout",
     "output_type": "stream",
     "text": [
      "1.13.1\n"
     ]
    }
   ],
   "source": [
    "import numpy as np\n",
    "import pandas as pd\n",
    "import matplotlib.pyplot as plt\n",
    "from PIL import Image\n",
    "import pydot\n",
    "import os\n",
    "\n",
    "from sklearn.model_selection import train_test_split\n",
    "\n",
    "\n",
    "import tensorflow as tf\n",
    "print(tf.__version__)\n",
    "\n",
    "from tensorflow import keras\n",
    "from tensorflow.keras.preprocessing.image import ImageDataGenerator\n",
    "from keras.callbacks import LearningRateScheduler"
   ]
  },
  {
   "cell_type": "markdown",
   "metadata": {},
   "source": [
    "<h2 id=\"Exploring-and-processing data\">Exploring and processing&nbsp;data</h2>\n"
   ]
  },
  {
   "cell_type": "code",
   "execution_count": 3,
   "metadata": {},
   "outputs": [],
   "source": [
    "train = pd.read_csv('data/train.csv')\n",
    "test = pd.read_csv('data/test.csv')\n",
    "sample_submission = pd.read_csv('data/sample_submission.csv')"
   ]
  },
  {
   "cell_type": "code",
   "execution_count": 4,
   "metadata": {
    "scrolled": true
   },
   "outputs": [
    {
     "data": {
      "text/html": [
       "<div>\n",
       "<style scoped>\n",
       "    .dataframe tbody tr th:only-of-type {\n",
       "        vertical-align: middle;\n",
       "    }\n",
       "\n",
       "    .dataframe tbody tr th {\n",
       "        vertical-align: top;\n",
       "    }\n",
       "\n",
       "    .dataframe thead th {\n",
       "        text-align: right;\n",
       "    }\n",
       "</style>\n",
       "<table border=\"1\" class=\"dataframe\">\n",
       "  <thead>\n",
       "    <tr style=\"text-align: right;\">\n",
       "      <th></th>\n",
       "      <th>ImageId</th>\n",
       "      <th>Label</th>\n",
       "    </tr>\n",
       "  </thead>\n",
       "  <tbody>\n",
       "    <tr>\n",
       "      <th>0</th>\n",
       "      <td>1</td>\n",
       "      <td>0</td>\n",
       "    </tr>\n",
       "    <tr>\n",
       "      <th>1</th>\n",
       "      <td>2</td>\n",
       "      <td>0</td>\n",
       "    </tr>\n",
       "    <tr>\n",
       "      <th>2</th>\n",
       "      <td>3</td>\n",
       "      <td>0</td>\n",
       "    </tr>\n",
       "    <tr>\n",
       "      <th>3</th>\n",
       "      <td>4</td>\n",
       "      <td>0</td>\n",
       "    </tr>\n",
       "    <tr>\n",
       "      <th>4</th>\n",
       "      <td>5</td>\n",
       "      <td>0</td>\n",
       "    </tr>\n",
       "  </tbody>\n",
       "</table>\n",
       "</div>"
      ],
      "text/plain": [
       "   ImageId  Label\n",
       "0        1      0\n",
       "1        2      0\n",
       "2        3      0\n",
       "3        4      0\n",
       "4        5      0"
      ]
     },
     "execution_count": 4,
     "metadata": {},
     "output_type": "execute_result"
    }
   ],
   "source": [
    "sample_submission.head()"
   ]
  },
  {
   "cell_type": "code",
   "execution_count": 5,
   "metadata": {
    "scrolled": true
   },
   "outputs": [
    {
     "data": {
      "text/html": [
       "<div>\n",
       "<style scoped>\n",
       "    .dataframe tbody tr th:only-of-type {\n",
       "        vertical-align: middle;\n",
       "    }\n",
       "\n",
       "    .dataframe tbody tr th {\n",
       "        vertical-align: top;\n",
       "    }\n",
       "\n",
       "    .dataframe thead th {\n",
       "        text-align: right;\n",
       "    }\n",
       "</style>\n",
       "<table border=\"1\" class=\"dataframe\">\n",
       "  <thead>\n",
       "    <tr style=\"text-align: right;\">\n",
       "      <th></th>\n",
       "      <th>label</th>\n",
       "      <th>pixel0</th>\n",
       "      <th>pixel1</th>\n",
       "      <th>pixel2</th>\n",
       "      <th>pixel3</th>\n",
       "      <th>pixel4</th>\n",
       "      <th>pixel5</th>\n",
       "      <th>pixel6</th>\n",
       "      <th>pixel7</th>\n",
       "      <th>pixel8</th>\n",
       "      <th>...</th>\n",
       "      <th>pixel774</th>\n",
       "      <th>pixel775</th>\n",
       "      <th>pixel776</th>\n",
       "      <th>pixel777</th>\n",
       "      <th>pixel778</th>\n",
       "      <th>pixel779</th>\n",
       "      <th>pixel780</th>\n",
       "      <th>pixel781</th>\n",
       "      <th>pixel782</th>\n",
       "      <th>pixel783</th>\n",
       "    </tr>\n",
       "  </thead>\n",
       "  <tbody>\n",
       "    <tr>\n",
       "      <th>0</th>\n",
       "      <td>1</td>\n",
       "      <td>0</td>\n",
       "      <td>0</td>\n",
       "      <td>0</td>\n",
       "      <td>0</td>\n",
       "      <td>0</td>\n",
       "      <td>0</td>\n",
       "      <td>0</td>\n",
       "      <td>0</td>\n",
       "      <td>0</td>\n",
       "      <td>...</td>\n",
       "      <td>0</td>\n",
       "      <td>0</td>\n",
       "      <td>0</td>\n",
       "      <td>0</td>\n",
       "      <td>0</td>\n",
       "      <td>0</td>\n",
       "      <td>0</td>\n",
       "      <td>0</td>\n",
       "      <td>0</td>\n",
       "      <td>0</td>\n",
       "    </tr>\n",
       "    <tr>\n",
       "      <th>1</th>\n",
       "      <td>0</td>\n",
       "      <td>0</td>\n",
       "      <td>0</td>\n",
       "      <td>0</td>\n",
       "      <td>0</td>\n",
       "      <td>0</td>\n",
       "      <td>0</td>\n",
       "      <td>0</td>\n",
       "      <td>0</td>\n",
       "      <td>0</td>\n",
       "      <td>...</td>\n",
       "      <td>0</td>\n",
       "      <td>0</td>\n",
       "      <td>0</td>\n",
       "      <td>0</td>\n",
       "      <td>0</td>\n",
       "      <td>0</td>\n",
       "      <td>0</td>\n",
       "      <td>0</td>\n",
       "      <td>0</td>\n",
       "      <td>0</td>\n",
       "    </tr>\n",
       "    <tr>\n",
       "      <th>2</th>\n",
       "      <td>1</td>\n",
       "      <td>0</td>\n",
       "      <td>0</td>\n",
       "      <td>0</td>\n",
       "      <td>0</td>\n",
       "      <td>0</td>\n",
       "      <td>0</td>\n",
       "      <td>0</td>\n",
       "      <td>0</td>\n",
       "      <td>0</td>\n",
       "      <td>...</td>\n",
       "      <td>0</td>\n",
       "      <td>0</td>\n",
       "      <td>0</td>\n",
       "      <td>0</td>\n",
       "      <td>0</td>\n",
       "      <td>0</td>\n",
       "      <td>0</td>\n",
       "      <td>0</td>\n",
       "      <td>0</td>\n",
       "      <td>0</td>\n",
       "    </tr>\n",
       "    <tr>\n",
       "      <th>3</th>\n",
       "      <td>4</td>\n",
       "      <td>0</td>\n",
       "      <td>0</td>\n",
       "      <td>0</td>\n",
       "      <td>0</td>\n",
       "      <td>0</td>\n",
       "      <td>0</td>\n",
       "      <td>0</td>\n",
       "      <td>0</td>\n",
       "      <td>0</td>\n",
       "      <td>...</td>\n",
       "      <td>0</td>\n",
       "      <td>0</td>\n",
       "      <td>0</td>\n",
       "      <td>0</td>\n",
       "      <td>0</td>\n",
       "      <td>0</td>\n",
       "      <td>0</td>\n",
       "      <td>0</td>\n",
       "      <td>0</td>\n",
       "      <td>0</td>\n",
       "    </tr>\n",
       "    <tr>\n",
       "      <th>4</th>\n",
       "      <td>0</td>\n",
       "      <td>0</td>\n",
       "      <td>0</td>\n",
       "      <td>0</td>\n",
       "      <td>0</td>\n",
       "      <td>0</td>\n",
       "      <td>0</td>\n",
       "      <td>0</td>\n",
       "      <td>0</td>\n",
       "      <td>0</td>\n",
       "      <td>...</td>\n",
       "      <td>0</td>\n",
       "      <td>0</td>\n",
       "      <td>0</td>\n",
       "      <td>0</td>\n",
       "      <td>0</td>\n",
       "      <td>0</td>\n",
       "      <td>0</td>\n",
       "      <td>0</td>\n",
       "      <td>0</td>\n",
       "      <td>0</td>\n",
       "    </tr>\n",
       "  </tbody>\n",
       "</table>\n",
       "<p>5 rows × 785 columns</p>\n",
       "</div>"
      ],
      "text/plain": [
       "   label  pixel0  pixel1  pixel2  pixel3  pixel4  pixel5  pixel6  pixel7  \\\n",
       "0      1       0       0       0       0       0       0       0       0   \n",
       "1      0       0       0       0       0       0       0       0       0   \n",
       "2      1       0       0       0       0       0       0       0       0   \n",
       "3      4       0       0       0       0       0       0       0       0   \n",
       "4      0       0       0       0       0       0       0       0       0   \n",
       "\n",
       "   pixel8  ...  pixel774  pixel775  pixel776  pixel777  pixel778  pixel779  \\\n",
       "0       0  ...         0         0         0         0         0         0   \n",
       "1       0  ...         0         0         0         0         0         0   \n",
       "2       0  ...         0         0         0         0         0         0   \n",
       "3       0  ...         0         0         0         0         0         0   \n",
       "4       0  ...         0         0         0         0         0         0   \n",
       "\n",
       "   pixel780  pixel781  pixel782  pixel783  \n",
       "0         0         0         0         0  \n",
       "1         0         0         0         0  \n",
       "2         0         0         0         0  \n",
       "3         0         0         0         0  \n",
       "4         0         0         0         0  \n",
       "\n",
       "[5 rows x 785 columns]"
      ]
     },
     "execution_count": 5,
     "metadata": {},
     "output_type": "execute_result"
    }
   ],
   "source": [
    "train.head()"
   ]
  },
  {
   "cell_type": "code",
   "execution_count": 6,
   "metadata": {},
   "outputs": [
    {
     "data": {
      "text/plain": [
       "42000"
      ]
     },
     "execution_count": 6,
     "metadata": {},
     "output_type": "execute_result"
    }
   ],
   "source": [
    "train.label.count()"
   ]
  },
  {
   "cell_type": "code",
   "execution_count": 7,
   "metadata": {},
   "outputs": [],
   "source": [
    "train_images = train.drop(labels = [\"label\"],axis = 1)\n",
    "train_labels = train[\"label\"]\n"
   ]
  },
  {
   "cell_type": "code",
   "execution_count": 8,
   "metadata": {},
   "outputs": [],
   "source": [
    "train_images = train_images.to_numpy()/255.0\n",
    "test_images = test.to_numpy()/255.0\n"
   ]
  },
  {
   "cell_type": "code",
   "execution_count": 9,
   "metadata": {},
   "outputs": [],
   "source": [
    "HEIGHT = 28\n",
    "WIDTH = 28\n",
    "NCLASSES = 10"
   ]
  },
  {
   "cell_type": "code",
   "execution_count": 10,
   "metadata": {},
   "outputs": [],
   "source": [
    "train_images = train_images.reshape(-1,HEIGHT,WIDTH,1)\n",
    "test_images = test_images.reshape(-1,HEIGHT,WIDTH,1)\n",
    "\n",
    "train_labels = keras.utils.to_categorical(train_labels, num_classes = NCLASSES)"
   ]
  },
  {
   "cell_type": "code",
   "execution_count": 11,
   "metadata": {},
   "outputs": [
    {
     "data": {
      "text/plain": [
       "array([[0., 1., 0., 0., 0., 0., 0., 0., 0., 0.],\n",
       "       [1., 0., 0., 0., 0., 0., 0., 0., 0., 0.],\n",
       "       [0., 1., 0., 0., 0., 0., 0., 0., 0., 0.],\n",
       "       [0., 0., 0., 0., 1., 0., 0., 0., 0., 0.],\n",
       "       [1., 0., 0., 0., 0., 0., 0., 0., 0., 0.]], dtype=float32)"
      ]
     },
     "execution_count": 11,
     "metadata": {},
     "output_type": "execute_result"
    }
   ],
   "source": [
    "train_labels[:5]"
   ]
  },
  {
   "cell_type": "code",
   "execution_count": 12,
   "metadata": {
    "scrolled": false
   },
   "outputs": [
    {
     "data": {
      "image/png": "[encoded data removed]",
      "text/plain": [
       "<Figure size 1440x360 with 20 Axes>"
      ]
     },
     "metadata": {
      "needs_background": "light"
     },
     "output_type": "display_data"
    }
   ],
   "source": [
    "i = 50\n",
    "plt.figure(figsize=(20,5))\n",
    "for IMGNO in range(i,i+20):  \n",
    "    plt.subplot(2, 10, IMGNO-i+1)\n",
    "    plt.imshow(train_images[IMGNO].reshape(HEIGHT, WIDTH), cmap=plt.cm.binary)\n",
    "    plt.axis('off')"
   ]
  },
  {
   "cell_type": "code",
   "execution_count": 41,
   "metadata": {},
   "outputs": [
    {
     "data": {
      "text/plain": [
       "37800"
      ]
     },
     "execution_count": 41,
     "metadata": {},
     "output_type": "execute_result"
    }
   ],
   "source": [
    "X_train, X_val, Y_train, Y_val = train_test_split(train_images, train_labels, test_size = 0.1)\n",
    "\n",
    "len(Y_train)"
   ]
  },
  {
   "cell_type": "markdown",
   "metadata": {},
   "source": [
    "### Data augmentation"
   ]
  },
  {
   "cell_type": "code",
   "execution_count": 45,
   "metadata": {},
   "outputs": [],
   "source": [
    "datagen = ImageDataGenerator(\n",
    "        rotation_range=10,  \n",
    "        zoom_range = 0.10,  \n",
    "        width_shift_range=0.1, \n",
    "        height_shift_range=0.1)\n",
    "\n",
    "datagen.fit(X_train)"
   ]
  },
  {
   "cell_type": "markdown",
   "metadata": {},
   "source": [
    "## CNN model with Keras functional API\n"
   ]
  },
  {
   "cell_type": "code",
   "execution_count": 103,
   "metadata": {},
   "outputs": [],
   "source": [
    "X = keras.layers.Input(shape = (HEIGHT, WIDTH, 1))\n",
    "\n",
    "c1 = keras.layers.Conv2D(filters = 16, kernel_size = 5, strides = 1, padding = 'same', activation = 'relu')(X)   # shape = (batch_size, HEIGHT, WIDTH, nfil1)\n",
    "\n",
    "#c1 = keras.layers.BatchNormalization()(c1)          \n",
    "                      \n",
    "p1 = keras.layers.MaxPool2D(pool_size = 2, strides = 2)(c1)                                                       # shape = (batch_size, HEIGHT // 2, WIDTH // 2, nfil1)\n",
    "    \n",
    "c2 = keras.layers.Conv2D(filters = 32, kernel_size = 5, strides = 1, padding = 'same', activation = 'relu')(p1)    # shape = (batch_size, HEIGHT // 2, WIDTH // 2, nfil2)\n",
    "    \n",
    "#c2 = keras.layers.BatchNormalization()(c2)   \n",
    "\n",
    "p2 = keras.layers.MaxPool2D(pool_size = 2, strides = 2)(c2)                                                        # shape = (batch_size, HEIGHT // 4, WIDTH // 4, nfil2)\n",
    "\n",
    "c3 = keras.layers.Conv2D(filters = 64, kernel_size = 3, strides = 1, padding = 'same', activation = 'relu')(p2)    # shape = (batch_size, HEIGHT // 2, WIDTH // 2, nfil2)\n",
    "\n",
    "#c3 = keras.layers.BatchNormalization()(c3)      \n",
    "\n",
    "p3 = keras.layers.MaxPool2D(pool_size = 2, strides = 2)(c3)                                                      # shape = (batch_size, HEIGHT // 4, WIDTH // 4, nfil2)\n",
    "\n",
    "p3 = keras.layers.Flatten()(p3)                                                                               # shape = (batch_size, HEIGHT // 4 * WIDTH // 4 * nfil2)\n",
    "\n",
    "h3 = keras.layers.Dense(units = 64, activation = 'relu')(p3)\n",
    "    \n",
    "#h3 = keras.layers.BatchNormalization()(h3)               \n",
    "    \n",
    "h3 = keras.layers.Dropout(rate = 0.25)(h3)\n",
    "\n",
    "output = keras.layers.Dense(units = NCLASSES, activation = 'softmax')(h3)\n",
    "  \n",
    "#output = keras.layers.BatchNormalization()(output)\n",
    "\n"
   ]
  },
  {
   "cell_type": "code",
   "execution_count": 104,
   "metadata": {
    "scrolled": false
   },
   "outputs": [
    {
     "name": "stdout",
     "output_type": "stream",
     "text": [
      "_________________________________________________________________\n",
      "Layer (type)                 Output Shape              Param #   \n",
      "=================================================================\n",
      "input_8 (InputLayer)         (None, 28, 28, 1)         0         \n",
      "_________________________________________________________________\n",
      "conv2d_21 (Conv2D)           (None, 28, 28, 16)        416       \n",
      "_________________________________________________________________\n",
      "max_pooling2d_21 (MaxPooling (None, 14, 14, 16)        0         \n",
      "_________________________________________________________________\n",
      "conv2d_22 (Conv2D)           (None, 14, 14, 32)        12832     \n",
      "_________________________________________________________________\n",
      "max_pooling2d_22 (MaxPooling (None, 7, 7, 32)          0         \n",
      "_________________________________________________________________\n",
      "conv2d_23 (Conv2D)           (None, 7, 7, 64)          18496     \n",
      "_________________________________________________________________\n",
      "max_pooling2d_23 (MaxPooling (None, 3, 3, 64)          0         \n",
      "_________________________________________________________________\n",
      "flatten_7 (Flatten)          (None, 576)               0         \n",
      "_________________________________________________________________\n",
      "dense_14 (Dense)             (None, 64)                36928     \n",
      "_________________________________________________________________\n",
      "dropout_7 (Dropout)          (None, 64)                0         \n",
      "_________________________________________________________________\n",
      "dense_15 (Dense)             (None, 10)                650       \n",
      "=================================================================\n",
      "Total params: 69,322\n",
      "Trainable params: 69,322\n",
      "Non-trainable params: 0\n",
      "_________________________________________________________________\n",
      "None\n"
     ]
    }
   ],
   "source": [
    "model = keras.Model(inputs=X, outputs=output)\n",
    "\n",
    "print(model.summary())\n",
    "\n",
    "#keras.utils.plot_model(model, to_file='digit-cnn-keras_graph.png')\n",
    "\n",
    "#display(Image.open('digit-cnn-keras_graph.png'))"
   ]
  },
  {
   "cell_type": "code",
   "execution_count": 105,
   "metadata": {},
   "outputs": [],
   "source": [
    "model.compile(optimizer=keras.optimizers.Adam(lr=0.001), loss=\"categorical_crossentropy\", metrics=[\"accuracy\"])"
   ]
  },
  {
   "cell_type": "markdown",
   "metadata": {},
   "source": [
    "<h3>train model</h3>\n"
   ]
  },
  {
   "cell_type": "code",
   "execution_count": 96,
   "metadata": {},
   "outputs": [
    {
     "name": "stdout",
     "output_type": "stream",
     "text": [
      "Train on 37800 samples, validate on 4200 samples\n",
      "Epoch 1/20\n",
      "37800/37800 [==============================] - 57s 1ms/sample - loss: 0.3892 - acc: 0.8795 - val_loss: 0.0731 - val_acc: 0.9760\n",
      "Epoch 2/20\n",
      "37800/37800 [==============================] - 57s 2ms/sample - loss: 0.0965 - acc: 0.9713 - val_loss: 0.0581 - val_acc: 0.9810\n",
      "Epoch 3/20\n",
      "37800/37800 [==============================] - 57s 1ms/sample - loss: 0.0735 - acc: 0.9778 - val_loss: 0.0508 - val_acc: 0.9840\n",
      "Epoch 4/20\n",
      "37800/37800 [==============================] - 58s 2ms/sample - loss: 0.0540 - acc: 0.9844 - val_loss: 0.0411 - val_acc: 0.9874\n",
      "Epoch 5/20\n",
      "37800/37800 [==============================] - 57s 2ms/sample - loss: 0.0442 - acc: 0.9873 - val_loss: 0.0415 - val_acc: 0.9864\n",
      "Epoch 6/20\n",
      "37800/37800 [==============================] - 58s 2ms/sample - loss: 0.0402 - acc: 0.9876 - val_loss: 0.0384 - val_acc: 0.9879\n",
      "Epoch 7/20\n",
      "37800/37800 [==============================] - 58s 2ms/sample - loss: 0.0326 - acc: 0.9895 - val_loss: 0.0427 - val_acc: 0.9855\n",
      "Epoch 8/20\n",
      "37800/37800 [==============================] - 57s 2ms/sample - loss: 0.0283 - acc: 0.9908 - val_loss: 0.0356 - val_acc: 0.9893\n",
      "Epoch 9/20\n",
      "37800/37800 [==============================] - 59s 2ms/sample - loss: 0.0256 - acc: 0.9922 - val_loss: 0.0459 - val_acc: 0.9864\n",
      "Epoch 10/20\n",
      "37800/37800 [==============================] - 57s 2ms/sample - loss: 0.0226 - acc: 0.9928 - val_loss: 0.0419 - val_acc: 0.9881\n",
      "Epoch 11/20\n",
      "37800/37800 [==============================] - 57s 2ms/sample - loss: 0.0198 - acc: 0.9939 - val_loss: 0.0330 - val_acc: 0.9905\n",
      "Epoch 12/20\n",
      "37800/37800 [==============================] - 57s 2ms/sample - loss: 0.0202 - acc: 0.9934 - val_loss: 0.0371 - val_acc: 0.9881\n",
      "Epoch 13/20\n",
      "37800/37800 [==============================] - 57s 1ms/sample - loss: 0.0187 - acc: 0.9943 - val_loss: 0.0290 - val_acc: 0.9907\n",
      "Epoch 14/20\n",
      "37800/37800 [==============================] - 57s 2ms/sample - loss: 0.0163 - acc: 0.9949 - val_loss: 0.0291 - val_acc: 0.9907\n",
      "Epoch 15/20\n",
      "37800/37800 [==============================] - 59s 2ms/sample - loss: 0.0119 - acc: 0.9962 - val_loss: 0.0318 - val_acc: 0.9893\n",
      "Epoch 16/20\n",
      "37800/37800 [==============================] - 57s 2ms/sample - loss: 0.0142 - acc: 0.9956 - val_loss: 0.0481 - val_acc: 0.9867\n",
      "Epoch 17/20\n",
      "37800/37800 [==============================] - 55s 1ms/sample - loss: 0.0135 - acc: 0.9954 - val_loss: 0.0439 - val_acc: 0.9902\n",
      "Epoch 18/20\n",
      "37800/37800 [==============================] - 55s 1ms/sample - loss: 0.0138 - acc: 0.9952 - val_loss: 0.0414 - val_acc: 0.9900\n",
      "Epoch 19/20\n",
      "37800/37800 [==============================] - 55s 1ms/sample - loss: 0.0125 - acc: 0.9955 - val_loss: 0.0351 - val_acc: 0.9910\n",
      "Epoch 20/20\n",
      "37800/37800 [==============================] - 57s 2ms/sample - loss: 0.0099 - acc: 0.9967 - val_loss: 0.0355 - val_acc: 0.9895\n"
     ]
    }
   ],
   "source": [
    "# no augmentation\n",
    "#_= model.fit(X_train, Y_train, \n",
    "#            batch_size = 100,\n",
    "#            epochs=20,\n",
    "#            verbose=1, \n",
    "#            validation_data = (X_val, Y_val) \n",
    "#            )\n",
    "    "
   ]
  },
  {
   "cell_type": "code",
   "execution_count": 106,
   "metadata": {},
   "outputs": [
    {
     "name": "stdout",
     "output_type": "stream",
     "text": [
      "Epoch 1/30\n",
      "4200/4200 [==============================] - 3s 666us/sample - loss: 0.1026 - acc: 0.9686\n",
      "378/378 [==============================] - 62s 165ms/step - loss: 0.5602 - acc: 0.8174 - val_loss: 0.1026 - val_acc: 0.9686\n",
      "Epoch 2/30\n",
      "4200/4200 [==============================] - 3s 640us/sample - loss: 0.0687 - acc: 0.9790\n",
      "378/378 [==============================] - 63s 166ms/step - loss: 0.1839 - acc: 0.9454 - val_loss: 0.0687 - val_acc: 0.9790\n",
      "Epoch 3/30\n",
      "4200/4200 [==============================] - 3s 656us/sample - loss: 0.0569 - acc: 0.9838\n",
      "378/378 [==============================] - 62s 165ms/step - loss: 0.1368 - acc: 0.9590 - val_loss: 0.0569 - val_acc: 0.9838\n",
      "Epoch 4/30\n",
      "4200/4200 [==============================] - 3s 667us/sample - loss: 0.0516 - acc: 0.9848\n",
      "378/378 [==============================] - 67s 178ms/step - loss: 0.1095 - acc: 0.9671 - val_loss: 0.0516 - val_acc: 0.9848\n",
      "Epoch 5/30\n",
      "4200/4200 [==============================] - 2s 587us/sample - loss: 0.0417 - acc: 0.9874\n",
      "378/378 [==============================] - 60s 160ms/step - loss: 0.0911 - acc: 0.9735 - val_loss: 0.0417 - val_acc: 0.9874\n",
      "Epoch 6/30\n",
      "4200/4200 [==============================] - 2s 575us/sample - loss: 0.0523 - acc: 0.9840\n",
      "378/378 [==============================] - 59s 156ms/step - loss: 0.0792 - acc: 0.9769 - val_loss: 0.0523 - val_acc: 0.9840\n",
      "Epoch 7/30\n",
      "4200/4200 [==============================] - 3s 659us/sample - loss: 0.0339 - acc: 0.9893\n",
      "378/378 [==============================] - 60s 160ms/step - loss: 0.0748 - acc: 0.9776 - val_loss: 0.0339 - val_acc: 0.9893\n",
      "Epoch 8/30\n",
      "4200/4200 [==============================] - 3s 617us/sample - loss: 0.0306 - acc: 0.9898\n",
      "378/378 [==============================] - 65s 171ms/step - loss: 0.0675 - acc: 0.9792 - val_loss: 0.0306 - val_acc: 0.9898\n",
      "Epoch 9/30\n",
      "4200/4200 [==============================] - 3s 698us/sample - loss: 0.0369 - acc: 0.9890\n",
      "378/378 [==============================] - 64s 168ms/step - loss: 0.0634 - acc: 0.9812 - val_loss: 0.0369 - val_acc: 0.9890\n",
      "Epoch 10/30\n",
      "4200/4200 [==============================] - 3s 686us/sample - loss: 0.0346 - acc: 0.9888\n",
      "378/378 [==============================] - 62s 165ms/step - loss: 0.0557 - acc: 0.9834 - val_loss: 0.0346 - val_acc: 0.9888\n",
      "Epoch 11/30\n",
      "4200/4200 [==============================] - 3s 645us/sample - loss: 0.0314 - acc: 0.9890\n",
      "378/378 [==============================] - 63s 166ms/step - loss: 0.0548 - acc: 0.9827 - val_loss: 0.0314 - val_acc: 0.9890\n",
      "Epoch 12/30\n",
      "4200/4200 [==============================] - 4s 853us/sample - loss: 0.0271 - acc: 0.9917\n",
      "378/378 [==============================] - 66s 176ms/step - loss: 0.0508 - acc: 0.9847 - val_loss: 0.0271 - val_acc: 0.9917\n",
      "Epoch 13/30\n",
      "4200/4200 [==============================] - 3s 691us/sample - loss: 0.0296 - acc: 0.9902\n",
      "378/378 [==============================] - 63s 166ms/step - loss: 0.0478 - acc: 0.9860 - val_loss: 0.0296 - val_acc: 0.9902\n",
      "Epoch 14/30\n",
      "4200/4200 [==============================] - 3s 623us/sample - loss: 0.0249 - acc: 0.9929\n",
      "378/378 [==============================] - 60s 159ms/step - loss: 0.0455 - acc: 0.9867 - val_loss: 0.0249 - val_acc: 0.9929\n",
      "Epoch 15/30\n",
      "4200/4200 [==============================] - 3s 630us/sample - loss: 0.0270 - acc: 0.9921\n",
      "378/378 [==============================] - 62s 164ms/step - loss: 0.0438 - acc: 0.9869 - val_loss: 0.0270 - val_acc: 0.9921\n",
      "Epoch 16/30\n",
      "4200/4200 [==============================] - 3s 636us/sample - loss: 0.0260 - acc: 0.9929\n",
      "378/378 [==============================] - 65s 173ms/step - loss: 0.0407 - acc: 0.9872 - val_loss: 0.0260 - val_acc: 0.9929\n",
      "Epoch 17/30\n",
      "4200/4200 [==============================] - 3s 623us/sample - loss: 0.0232 - acc: 0.9933\n",
      "378/378 [==============================] - 69s 181ms/step - loss: 0.0414 - acc: 0.9873 - val_loss: 0.0232 - val_acc: 0.9933\n",
      "Epoch 18/30\n",
      "4200/4200 [==============================] - 3s 691us/sample - loss: 0.0274 - acc: 0.9919\n",
      "378/378 [==============================] - 63s 167ms/step - loss: 0.0386 - acc: 0.9887 - val_loss: 0.0274 - val_acc: 0.9919\n",
      "Epoch 19/30\n",
      "4200/4200 [==============================] - 3s 622us/sample - loss: 0.0285 - acc: 0.9905\n",
      "378/378 [==============================] - 62s 165ms/step - loss: 0.0357 - acc: 0.9895 - val_loss: 0.0285 - val_acc: 0.9905\n",
      "Epoch 20/30\n",
      "4200/4200 [==============================] - 3s 599us/sample - loss: 0.0242 - acc: 0.9924\n",
      "378/378 [==============================] - 61s 161ms/step - loss: 0.0370 - acc: 0.9886 - val_loss: 0.0242 - val_acc: 0.9924\n",
      "Epoch 21/30\n",
      "4200/4200 [==============================] - 3s 678us/sample - loss: 0.0239 - acc: 0.9929\n",
      "378/378 [==============================] - 63s 168ms/step - loss: 0.0333 - acc: 0.9901 - val_loss: 0.0239 - val_acc: 0.9929\n",
      "Epoch 22/30\n",
      "4200/4200 [==============================] - 3s 688us/sample - loss: 0.0262 - acc: 0.9924\n",
      "378/378 [==============================] - 65s 172ms/step - loss: 0.0315 - acc: 0.9898 - val_loss: 0.0262 - val_acc: 0.9924\n",
      "Epoch 23/30\n",
      "4200/4200 [==============================] - 3s 680us/sample - loss: 0.0270 - acc: 0.9900\n",
      "378/378 [==============================] - 63s 166ms/step - loss: 0.0332 - acc: 0.9899 - val_loss: 0.0270 - val_acc: 0.9900\n",
      "Epoch 24/30\n",
      "4200/4200 [==============================] - 3s 672us/sample - loss: 0.0235 - acc: 0.9929\n",
      "378/378 [==============================] - 63s 167ms/step - loss: 0.0295 - acc: 0.9916 - val_loss: 0.0235 - val_acc: 0.9929\n",
      "Epoch 25/30\n",
      "4200/4200 [==============================] - 3s 689us/sample - loss: 0.0258 - acc: 0.9921\n",
      "378/378 [==============================] - 63s 166ms/step - loss: 0.0301 - acc: 0.9912 - val_loss: 0.0258 - val_acc: 0.9921\n",
      "Epoch 26/30\n",
      "4200/4200 [==============================] - 3s 693us/sample - loss: 0.0228 - acc: 0.9929\n",
      "378/378 [==============================] - 63s 166ms/step - loss: 0.0285 - acc: 0.9914 - val_loss: 0.0228 - val_acc: 0.9929\n",
      "Epoch 27/30\n",
      "4200/4200 [==============================] - 3s 681us/sample - loss: 0.0284 - acc: 0.9926\n",
      "378/378 [==============================] - 63s 167ms/step - loss: 0.0282 - acc: 0.9912 - val_loss: 0.0284 - val_acc: 0.9926\n",
      "Epoch 28/30\n",
      "4200/4200 [==============================] - 3s 703us/sample - loss: 0.0209 - acc: 0.9940\n",
      "378/378 [==============================] - 63s 167ms/step - loss: 0.0278 - acc: 0.9914 - val_loss: 0.0209 - val_acc: 0.9940\n",
      "Epoch 29/30\n",
      "4200/4200 [==============================] - 3s 697us/sample - loss: 0.0240 - acc: 0.9921\n",
      "378/378 [==============================] - 64s 170ms/step - loss: 0.0262 - acc: 0.9918 - val_loss: 0.0240 - val_acc: 0.9921\n",
      "Epoch 30/30\n",
      "4200/4200 [==============================] - 3s 700us/sample - loss: 0.0195 - acc: 0.9938\n",
      "378/378 [==============================] - 64s 169ms/step - loss: 0.0257 - acc: 0.9920 - val_loss: 0.0195 - val_acc: 0.9938\n"
     ]
    }
   ],
   "source": [
    "# with augmentation\n",
    "annealer = LearningRateScheduler(lambda x: 1e-3 * 0.95 ** x)\n",
    "batch_size = 100\n",
    "epochs = 30\n",
    "history = model.fit_generator(datagen.flow(X_train,Y_train, batch_size=batch_size),\n",
    "                              epochs = epochs, \n",
    "                              validation_data = (X_val,Y_val),\n",
    "                              verbose = 1, \n",
    "                              steps_per_epoch=X_train.shape[0] // batch_size,\n",
    "                              callbacks=[annealer])"
   ]
  },
  {
   "cell_type": "code",
   "execution_count": 107,
   "metadata": {
    "scrolled": true
   },
   "outputs": [
    {
     "data": {
      "image/png": "[encoded data removed]",
      "text/plain": [
       "<Figure size 432x288 with 1 Axes>"
      ]
     },
     "metadata": {
      "needs_background": "light"
     },
     "output_type": "display_data"
    },
    {
     "name": "stdout",
     "output_type": "stream",
     "text": [
      "loss: 0.0195   \n"
     ]
    }
   ],
   "source": [
    "plt.plot(history.history['loss'])\n",
    "plt.plot(history.history['val_loss'])\n",
    "plt.title('model loss')\n",
    "plt.ylabel('loss')\n",
    "plt.xlabel('epoch')\n",
    "plt.legend(['train', 'val'], loc='upper left')\n",
    "plt.show()\n",
    "\n",
    "print(\"loss: {0:.4f}   \".format(history.history['val_loss'][-1]))"
   ]
  },
  {
   "cell_type": "code",
   "execution_count": 108,
   "metadata": {
    "scrolled": false
   },
   "outputs": [
    {
     "data": {
      "image/png": "[encoded data removed]",
      "text/plain": [
       "<Figure size 432x288 with 1 Axes>"
      ]
     },
     "metadata": {
      "needs_background": "light"
     },
     "output_type": "display_data"
    },
    {
     "name": "stdout",
     "output_type": "stream",
     "text": [
      "Acc: 0.9938  \n"
     ]
    }
   ],
   "source": [
    "plt.plot(history.history['acc'])\n",
    "plt.plot(history.history['val_acc'])\n",
    "plt.title('model accuracy')\n",
    "plt.ylabel('accuracy')\n",
    "plt.xlabel('epoch')\n",
    "plt.legend(['train', 'val'], loc='upper left')\n",
    "plt.show()\n",
    "\n",
    "print(\"Acc: {0:.4f}  \".format(history.history['val_acc'][-1],))"
   ]
  },
  {
   "cell_type": "markdown",
   "metadata": {},
   "source": [
    "### Prediction"
   ]
  },
  {
   "cell_type": "code",
   "execution_count": 109,
   "metadata": {},
   "outputs": [
    {
     "name": "stdout",
     "output_type": "stream",
     "text": [
      "28000/28000 [==============================] - 15s 547us/sample\n"
     ]
    }
   ],
   "source": [
    "pred = model.predict(test_images, batch_size=2000, \n",
    "                       verbose=1)\n",
    "pred = np.argmax(pred, axis=1)"
   ]
  },
  {
   "cell_type": "code",
   "execution_count": 110,
   "metadata": {
    "scrolled": true
   },
   "outputs": [
    {
     "data": {
      "image/png": "[encoded data removed]",
      "text/plain": [
       "<Figure size 1440x360 with 20 Axes>"
      ]
     },
     "metadata": {
      "needs_background": "light"
     },
     "output_type": "display_data"
    }
   ],
   "source": [
    "i=0\n",
    "plt.figure(figsize=(20,5))\n",
    "for IMGNO in range(i,i+20):  \n",
    "    plt.subplot(2, 10, IMGNO-i+1)\n",
    "    plt.imshow(test_images[IMGNO].reshape((28,28)),cmap=plt.cm.binary)\n",
    "    plt.title(\"pred = %d\" % pred[IMGNO],y=0.9)\n",
    "    plt.axis('off')\n",
    "#plt.subplots_adjust(wspace=0.3, hspace=-0.1)\n",
    "plt.show()"
   ]
  },
  {
   "cell_type": "code",
   "execution_count": 111,
   "metadata": {},
   "outputs": [
    {
     "data": {
      "text/plain": [
       "array([2, 0, 9, 0, 3, 7, 0, 3, 0, 3], dtype=int64)"
      ]
     },
     "execution_count": 111,
     "metadata": {},
     "output_type": "execute_result"
    }
   ],
   "source": [
    "pred[:10]"
   ]
  },
  {
   "cell_type": "markdown",
   "metadata": {},
   "source": [
    "## Output"
   ]
  },
  {
   "cell_type": "code",
   "execution_count": 112,
   "metadata": {},
   "outputs": [
    {
     "data": {
      "text/html": [
       "<div>\n",
       "<style scoped>\n",
       "    .dataframe tbody tr th:only-of-type {\n",
       "        vertical-align: middle;\n",
       "    }\n",
       "\n",
       "    .dataframe tbody tr th {\n",
       "        vertical-align: top;\n",
       "    }\n",
       "\n",
       "    .dataframe thead th {\n",
       "        text-align: right;\n",
       "    }\n",
       "</style>\n",
       "<table border=\"1\" class=\"dataframe\">\n",
       "  <thead>\n",
       "    <tr style=\"text-align: right;\">\n",
       "      <th></th>\n",
       "      <th>ImageId</th>\n",
       "      <th>Label</th>\n",
       "    </tr>\n",
       "  </thead>\n",
       "  <tbody>\n",
       "    <tr>\n",
       "      <th>0</th>\n",
       "      <td>1</td>\n",
       "      <td>2</td>\n",
       "    </tr>\n",
       "    <tr>\n",
       "      <th>1</th>\n",
       "      <td>2</td>\n",
       "      <td>0</td>\n",
       "    </tr>\n",
       "    <tr>\n",
       "      <th>2</th>\n",
       "      <td>3</td>\n",
       "      <td>9</td>\n",
       "    </tr>\n",
       "    <tr>\n",
       "      <th>3</th>\n",
       "      <td>4</td>\n",
       "      <td>0</td>\n",
       "    </tr>\n",
       "    <tr>\n",
       "      <th>4</th>\n",
       "      <td>5</td>\n",
       "      <td>3</td>\n",
       "    </tr>\n",
       "  </tbody>\n",
       "</table>\n",
       "</div>"
      ],
      "text/plain": [
       "   ImageId  Label\n",
       "0        1      2\n",
       "1        2      0\n",
       "2        3      9\n",
       "3        4      0\n",
       "4        5      3"
      ]
     },
     "execution_count": 112,
     "metadata": {},
     "output_type": "execute_result"
    }
   ],
   "source": [
    "output = pd.DataFrame({ 'ImageId' : np.arange(len(pred))+1, 'Label': pred })\n",
    "output.head()"
   ]
  },
  {
   "cell_type": "code",
   "execution_count": 113,
   "metadata": {},
   "outputs": [],
   "source": [
    "#output.to_csv('data/sub_digit_v01_cnn_keras_da_nbn_30ep.csv', index = False)\n"
   ]
  },
  {
   "cell_type": "code",
   "execution_count": 114,
   "metadata": {},
   "outputs": [],
   "source": [
    "#model.save(\"data/sub_digit_v01_cnn_keras_da_nbn_30ep.h5\")"
   ]
  },
  {
   "cell_type": "markdown",
   "metadata": {},
   "source": [
    "<p>Score board</p>\n",
    "\n",
    "<table border=\"2\" cellpadding=\"1\" cellspacing=\"1\" style=\"width: 500px\">\n",
    "\t<tbody>\n",
    "\t\t<tr>\n",
    "\t\t\t<td><strong>kaggle score</strong></td>\n",
    "\t\t\t<td><strong>rank</strong></td>\n",
    "\t\t\t<td><strong>data augmentation</strong></td>\n",
    "\t\t\t<td><strong>batch norm</strong></td>\n",
    "\t\t\t<td><strong>epochs</strong></td>\n",
    "\t\t</tr>\n",
    "\t\t<tr>\n",
    "\t\t\t<td>0.99057</td>\n",
    "\t\t\t<td>&nbsp;</td>\n",
    "\t\t\t<td>No</td>\n",
    "\t\t\t<td>No</td>\n",
    "\t\t\t<td>20</td>\n",
    "\t\t</tr>\n",
    "\t\t<tr>\n",
    "\t\t\t<td>0.99185</td>\n",
    "\t\t\t<td>1017</td>\n",
    "\t\t\t<td>No</td>\n",
    "\t\t\t<td>Yes</td>\n",
    "\t\t\t<td>20</td>\n",
    "\t\t</tr>\n",
    "\t\t<tr>\n",
    "\t\t\t<td>0.99257</td>\n",
    "\t\t\t<td>910</td>\n",
    "\t\t\t<td>Yes</td>\n",
    "\t\t\t<td>No</td>\n",
    "\t\t\t<td>20</td>\n",
    "\t\t</tr>\n",
    "\t\t<tr>\n",
    "\t\t\t<td>0.99457</td>\n",
    "\t\t\t<td>655</td>\n",
    "\t\t\t<td>Yes</td>\n",
    "\t\t\t<td>No</td>\n",
    "\t\t\t<td>30</td>\n",
    "\t\t</tr>\n",
    "\t</tbody>\n",
    "</table>\n",
    "\n",
    "<p>&nbsp;</p>\n"
   ]
  },
  {
   "cell_type": "markdown",
   "metadata": {},
   "source": [
    "<h2 id=\"Credits\">Next step to improve acc</h2>\n",
    "\n",
    "<ul>\n",
    "\t<li>implement ensemble models</li>\n",
    "\t<li>add confusion matrix</li>\n",
    "</ul>\n",
    "\n",
    "<p>&nbsp;</p>\n",
    "\n",
    "<h2>Credits</h2>\n",
    "\n",
    "<p><a href=\"https://www.kaggle.com/cdeotte/25-million-images-0-99757-mnist\" target=\"_blank\">https://www.kaggle.com/cdeotte/25-million-images-0-99757-mnist</a></p>\n",
    "\n",
    "<p><a href=\"https://www.kaggle.com/dingli/digits-recognition-with-cnn-keras\" target=\"_blank\">https://www.kaggle.com/dingli/digits-recognition-with-cnn-keras</a></p>\n"
   ]
  }
 ],
 "metadata": {
  "kernelspec": {
   "display_name": "Python 3",
   "language": "python",
   "name": "python3"
  },
  "language_info": {
   "codemirror_mode": {
    "name": "ipython",
    "version": 3
   },
   "file_extension": ".py",
   "mimetype": "text/x-python",
   "name": "python",
   "nbconvert_exporter": "python",
   "pygments_lexer": "ipython3",
   "version": "3.6.7"
  }
 },
 "nbformat": 4,
 "nbformat_minor": 2
}
