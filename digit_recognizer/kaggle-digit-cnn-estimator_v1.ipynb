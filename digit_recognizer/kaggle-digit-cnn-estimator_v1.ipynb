{
 "cells": [
  {
   "cell_type": "markdown",
   "metadata": {},
   "source": [
    "<h1 id=\"MNIST-Image-Classification \">MNIST Image Classification&nbsp;</h1>\n",
    "\n",
    "<p>CNN model&nbsp;on MNIST using Estimator</p>\n",
    "\n",
    "<p>&nbsp;</p>\n",
    "\n",
    "<p>notes</p>\n",
    "\n",
    "<ol>\n",
    "\t<li>image input from local data csv</li>\n",
    "\t<li>image reshape&nbsp;to [-1, HEIGHT, WIDTH,&nbsp; 1],&nbsp;serving_input_fn need to expand dim in feature</li>\n",
    "\t<li>label convert&nbsp;one_hot, use softmax cross entrocpy for loss&nbsp;</li>\n",
    "\t<li>change directory format to &quot;...\\...&quot;</li>\n",
    "</ol>\n",
    "\n",
    "<p>&nbsp;</p>\n"
   ]
  },
  {
   "cell_type": "code",
   "execution_count": 64,
   "metadata": {},
   "outputs": [
    {
     "name": "stdout",
     "output_type": "stream",
     "text": [
      "1.13.1\n"
     ]
    }
   ],
   "source": [
    "from __future__ import absolute_import, division, print_function, unicode_literals\n",
    "\n",
    "import numpy as np\n",
    "import pandas as pd\n",
    "import matplotlib.pyplot as plt\n",
    "import shutil\n",
    "import os\n",
    "\n",
    "from sklearn.model_selection import train_test_split\n",
    "\n",
    "import tensorflow as tf\n",
    "print(tf.__version__)\n",
    "\n",
    "import keras\n",
    "from keras.preprocessing.image import ImageDataGenerator\n",
    "from keras.callbacks import LearningRateScheduler\n",
    "\n",
    "tf.logging.set_verbosity(tf.logging.INFO)"
   ]
  },
  {
   "cell_type": "markdown",
   "metadata": {},
   "source": [
    "### Exploring the data\n",
    "\n"
   ]
  },
  {
   "cell_type": "code",
   "execution_count": 3,
   "metadata": {},
   "outputs": [],
   "source": [
    "train = pd.read_csv('data/train.csv')\n",
    "test = pd.read_csv('data/test.csv')\n",
    "sample_submission = pd.read_csv('data/sample_submission.csv')"
   ]
  },
  {
   "cell_type": "code",
   "execution_count": 4,
   "metadata": {},
   "outputs": [
    {
     "data": {
      "text/html": [
       "<div>\n",
       "<style scoped>\n",
       "    .dataframe tbody tr th:only-of-type {\n",
       "        vertical-align: middle;\n",
       "    }\n",
       "\n",
       "    .dataframe tbody tr th {\n",
       "        vertical-align: top;\n",
       "    }\n",
       "\n",
       "    .dataframe thead th {\n",
       "        text-align: right;\n",
       "    }\n",
       "</style>\n",
       "<table border=\"1\" class=\"dataframe\">\n",
       "  <thead>\n",
       "    <tr style=\"text-align: right;\">\n",
       "      <th></th>\n",
       "      <th>label</th>\n",
       "      <th>pixel0</th>\n",
       "      <th>pixel1</th>\n",
       "      <th>pixel2</th>\n",
       "      <th>pixel3</th>\n",
       "      <th>pixel4</th>\n",
       "      <th>pixel5</th>\n",
       "      <th>pixel6</th>\n",
       "      <th>pixel7</th>\n",
       "      <th>pixel8</th>\n",
       "      <th>...</th>\n",
       "      <th>pixel774</th>\n",
       "      <th>pixel775</th>\n",
       "      <th>pixel776</th>\n",
       "      <th>pixel777</th>\n",
       "      <th>pixel778</th>\n",
       "      <th>pixel779</th>\n",
       "      <th>pixel780</th>\n",
       "      <th>pixel781</th>\n",
       "      <th>pixel782</th>\n",
       "      <th>pixel783</th>\n",
       "    </tr>\n",
       "  </thead>\n",
       "  <tbody>\n",
       "    <tr>\n",
       "      <th>0</th>\n",
       "      <td>1</td>\n",
       "      <td>0</td>\n",
       "      <td>0</td>\n",
       "      <td>0</td>\n",
       "      <td>0</td>\n",
       "      <td>0</td>\n",
       "      <td>0</td>\n",
       "      <td>0</td>\n",
       "      <td>0</td>\n",
       "      <td>0</td>\n",
       "      <td>...</td>\n",
       "      <td>0</td>\n",
       "      <td>0</td>\n",
       "      <td>0</td>\n",
       "      <td>0</td>\n",
       "      <td>0</td>\n",
       "      <td>0</td>\n",
       "      <td>0</td>\n",
       "      <td>0</td>\n",
       "      <td>0</td>\n",
       "      <td>0</td>\n",
       "    </tr>\n",
       "    <tr>\n",
       "      <th>1</th>\n",
       "      <td>0</td>\n",
       "      <td>0</td>\n",
       "      <td>0</td>\n",
       "      <td>0</td>\n",
       "      <td>0</td>\n",
       "      <td>0</td>\n",
       "      <td>0</td>\n",
       "      <td>0</td>\n",
       "      <td>0</td>\n",
       "      <td>0</td>\n",
       "      <td>...</td>\n",
       "      <td>0</td>\n",
       "      <td>0</td>\n",
       "      <td>0</td>\n",
       "      <td>0</td>\n",
       "      <td>0</td>\n",
       "      <td>0</td>\n",
       "      <td>0</td>\n",
       "      <td>0</td>\n",
       "      <td>0</td>\n",
       "      <td>0</td>\n",
       "    </tr>\n",
       "    <tr>\n",
       "      <th>2</th>\n",
       "      <td>1</td>\n",
       "      <td>0</td>\n",
       "      <td>0</td>\n",
       "      <td>0</td>\n",
       "      <td>0</td>\n",
       "      <td>0</td>\n",
       "      <td>0</td>\n",
       "      <td>0</td>\n",
       "      <td>0</td>\n",
       "      <td>0</td>\n",
       "      <td>...</td>\n",
       "      <td>0</td>\n",
       "      <td>0</td>\n",
       "      <td>0</td>\n",
       "      <td>0</td>\n",
       "      <td>0</td>\n",
       "      <td>0</td>\n",
       "      <td>0</td>\n",
       "      <td>0</td>\n",
       "      <td>0</td>\n",
       "      <td>0</td>\n",
       "    </tr>\n",
       "    <tr>\n",
       "      <th>3</th>\n",
       "      <td>4</td>\n",
       "      <td>0</td>\n",
       "      <td>0</td>\n",
       "      <td>0</td>\n",
       "      <td>0</td>\n",
       "      <td>0</td>\n",
       "      <td>0</td>\n",
       "      <td>0</td>\n",
       "      <td>0</td>\n",
       "      <td>0</td>\n",
       "      <td>...</td>\n",
       "      <td>0</td>\n",
       "      <td>0</td>\n",
       "      <td>0</td>\n",
       "      <td>0</td>\n",
       "      <td>0</td>\n",
       "      <td>0</td>\n",
       "      <td>0</td>\n",
       "      <td>0</td>\n",
       "      <td>0</td>\n",
       "      <td>0</td>\n",
       "    </tr>\n",
       "    <tr>\n",
       "      <th>4</th>\n",
       "      <td>0</td>\n",
       "      <td>0</td>\n",
       "      <td>0</td>\n",
       "      <td>0</td>\n",
       "      <td>0</td>\n",
       "      <td>0</td>\n",
       "      <td>0</td>\n",
       "      <td>0</td>\n",
       "      <td>0</td>\n",
       "      <td>0</td>\n",
       "      <td>...</td>\n",
       "      <td>0</td>\n",
       "      <td>0</td>\n",
       "      <td>0</td>\n",
       "      <td>0</td>\n",
       "      <td>0</td>\n",
       "      <td>0</td>\n",
       "      <td>0</td>\n",
       "      <td>0</td>\n",
       "      <td>0</td>\n",
       "      <td>0</td>\n",
       "    </tr>\n",
       "  </tbody>\n",
       "</table>\n",
       "<p>5 rows × 785 columns</p>\n",
       "</div>"
      ],
      "text/plain": [
       "   label  pixel0  pixel1  pixel2  pixel3  pixel4  pixel5  pixel6  pixel7  \\\n",
       "0      1       0       0       0       0       0       0       0       0   \n",
       "1      0       0       0       0       0       0       0       0       0   \n",
       "2      1       0       0       0       0       0       0       0       0   \n",
       "3      4       0       0       0       0       0       0       0       0   \n",
       "4      0       0       0       0       0       0       0       0       0   \n",
       "\n",
       "   pixel8  ...  pixel774  pixel775  pixel776  pixel777  pixel778  pixel779  \\\n",
       "0       0  ...         0         0         0         0         0         0   \n",
       "1       0  ...         0         0         0         0         0         0   \n",
       "2       0  ...         0         0         0         0         0         0   \n",
       "3       0  ...         0         0         0         0         0         0   \n",
       "4       0  ...         0         0         0         0         0         0   \n",
       "\n",
       "   pixel780  pixel781  pixel782  pixel783  \n",
       "0         0         0         0         0  \n",
       "1         0         0         0         0  \n",
       "2         0         0         0         0  \n",
       "3         0         0         0         0  \n",
       "4         0         0         0         0  \n",
       "\n",
       "[5 rows x 785 columns]"
      ]
     },
     "execution_count": 4,
     "metadata": {},
     "output_type": "execute_result"
    }
   ],
   "source": [
    "train.head(5)"
   ]
  },
  {
   "cell_type": "code",
   "execution_count": 5,
   "metadata": {},
   "outputs": [
    {
     "data": {
      "text/plain": [
       "42000"
      ]
     },
     "execution_count": 5,
     "metadata": {},
     "output_type": "execute_result"
    }
   ],
   "source": [
    "train.label.count()"
   ]
  },
  {
   "cell_type": "code",
   "execution_count": 6,
   "metadata": {},
   "outputs": [],
   "source": [
    "train_images = train.drop(labels = [\"label\"],axis = 1)\n",
    "train_labels = train[\"label\"]\n",
    "\n",
    "train_images = train_images.to_numpy()/255.0\n",
    "test_images = test.to_numpy()/255.0"
   ]
  },
  {
   "cell_type": "code",
   "execution_count": 7,
   "metadata": {},
   "outputs": [],
   "source": [
    "HEIGHT = 28\n",
    "WIDTH = 28\n",
    "NCLASSES = 10"
   ]
  },
  {
   "cell_type": "code",
   "execution_count": 8,
   "metadata": {},
   "outputs": [
    {
     "data": {
      "image/png": "[encoded data removed]",
      "text/plain": [
       "<Figure size 1440x360 with 20 Axes>"
      ]
     },
     "metadata": {
      "needs_background": "light"
     },
     "output_type": "display_data"
    }
   ],
   "source": [
    "i = 50\n",
    "plt.figure(figsize=(20,5))\n",
    "for IMGNO in range(i,i+20):  \n",
    "    plt.subplot(2, 10, IMGNO-i+1)\n",
    "    plt.imshow(train_images[IMGNO].reshape(HEIGHT, WIDTH), cmap=plt.cm.binary)\n",
    "    plt.title(\"label = %d\" % train_labels[IMGNO],y=0.9)\n",
    "    plt.axis('off')"
   ]
  },
  {
   "cell_type": "code",
   "execution_count": 20,
   "metadata": {},
   "outputs": [
    {
     "data": {
      "text/plain": [
       "0    4132\n",
       "1    4684\n",
       "2    4177\n",
       "3    4351\n",
       "4    4072\n",
       "5    3795\n",
       "6    4137\n",
       "7    4401\n",
       "8    4063\n",
       "9    4188\n",
       "Name: label, dtype: int64"
      ]
     },
     "execution_count": 20,
     "metadata": {},
     "output_type": "execute_result"
    }
   ],
   "source": [
    "train_labels.value_counts().sort_index()"
   ]
  },
  {
   "cell_type": "code",
   "execution_count": 21,
   "metadata": {},
   "outputs": [],
   "source": [
    "train_images = train_images.reshape(-1,HEIGHT,WIDTH,1)\n",
    "test_images = test_images.reshape(-1,HEIGHT,WIDTH,1)\n",
    "\n",
    "train_labels = keras.utils.to_categorical(train_labels, num_classes = NCLASSES)"
   ]
  },
  {
   "cell_type": "code",
   "execution_count": 22,
   "metadata": {},
   "outputs": [
    {
     "data": {
      "text/plain": [
       "array([[0., 1., 0., 0., 0., 0., 0., 0., 0., 0.],\n",
       "       [1., 0., 0., 0., 0., 0., 0., 0., 0., 0.],\n",
       "       [0., 1., 0., 0., 0., 0., 0., 0., 0., 0.]], dtype=float32)"
      ]
     },
     "execution_count": 22,
     "metadata": {},
     "output_type": "execute_result"
    }
   ],
   "source": [
    "train_labels[:3]"
   ]
  },
  {
   "cell_type": "code",
   "execution_count": 23,
   "metadata": {},
   "outputs": [
    {
     "data": {
      "text/plain": [
       "37800"
      ]
     },
     "execution_count": 23,
     "metadata": {},
     "output_type": "execute_result"
    }
   ],
   "source": [
    "X_train, X_val, Y_train, Y_val = train_test_split(train_images, train_labels, test_size = 0.1)\n",
    "\n",
    "len(Y_train)"
   ]
  },
  {
   "cell_type": "markdown",
   "metadata": {},
   "source": [
    "## Data augmentation"
   ]
  },
  {
   "cell_type": "code",
   "execution_count": 24,
   "metadata": {},
   "outputs": [],
   "source": [
    "datagen = ImageDataGenerator(\n",
    "        rotation_range=10,  \n",
    "        zoom_range = 0.10,  \n",
    "        width_shift_range=0.1, \n",
    "        height_shift_range=0.1)\n",
    "\n",
    "datagen.fit(X_train)"
   ]
  },
  {
   "cell_type": "markdown",
   "metadata": {},
   "source": [
    "## Define a CNN model.\n"
   ]
  },
  {
   "cell_type": "code",
   "execution_count": 83,
   "metadata": {},
   "outputs": [],
   "source": [
    "def cnn_model(X, mode, hparams):\n",
    "\n",
    "#    X = keras.layers.Input(img, shape = (HEIGHT, WIDTH, 1))\n",
    "\n",
    "    c1 = tf.layers.conv2d(inputs = X, filters = 16, kernel_size = 5, strides = 1, padding = 'same', activation = tf.nn.relu)  # shape = (batch_size, HEIGHT, WIDTH, nfil1)\n",
    "\n",
    "    p1 = tf.layers.max_pooling2d(inputs=c1, pool_size = 2, strides = 2)                                              # shape = (batch_size, HEIGHT // 2, WIDTH // 2, nfil1)\n",
    "    \n",
    "    c2 = tf.layers.conv2d(inputs = p1, filters = 32, kernel_size = 5, strides = 1, padding = 'same', activation = tf.nn.relu)    # shape = (batch_size, HEIGHT // 2, WIDTH // 2, nfil2)\n",
    "    \n",
    "    p2 = tf.layers.max_pooling2d(inputs=c2, pool_size = 2, strides = 2)                                                       # shape = (batch_size, HEIGHT // 4, WIDTH // 4, nfil2)\n",
    "\n",
    "    c3 = tf.layers.conv2d(inputs = p2, filters = 64, kernel_size = 3, strides = 1, padding = 'same', activation = tf.nn.relu)    # shape = (batch_size, HEIGHT // 2, WIDTH // 2, nfil2)\n",
    "\n",
    "    p3 = tf.layers.max_pooling2d(inputs=c3, pool_size = 2, strides = 2)     \n",
    "\n",
    "    p3flat =  tf.reshape(tensor = p3, shape= [-1, p3.shape[1] * p3.shape[2] * p3.shape[3]])                                                                  # shape = (batch_size, HEIGHT // 4 * WIDTH // 4 * nfil2)\n",
    "\n",
    "    h3 = tf.layers.dense(inputs = p3flat, units = 64, activation = tf.nn.relu)\n",
    "    \n",
    "    h3d = tf.layers.dropout(inputs = h3, rate = 0.25, training = (mode == tf.estimator.ModeKeys.TRAIN))    \n",
    "    \n",
    "    output = tf.layers.dense(inputs = h3d, units = NCLASSES, activation = None)\n",
    "  \n",
    "\n",
    "\n",
    "\n",
    "    return output, NCLASSES"
   ]
  },
  {
   "cell_type": "markdown",
   "metadata": {},
   "source": [
    "## Define custom Estimator\n"
   ]
  },
  {
   "cell_type": "code",
   "execution_count": 97,
   "metadata": {},
   "outputs": [],
   "source": [
    "def image_classifier(features, labels, mode, params):\n",
    "    ylogits, nclasses = cnn_model(features[\"image\"], mode, hparams)\n",
    "    probabilities = tf.nn.softmax(logits = ylogits)\n",
    "    class_ids = tf.cast(x = tf.argmax(input = probabilities, axis = 1), dtype = tf.uint8)\n",
    "\n",
    "    if mode == tf.estimator.ModeKeys.TRAIN or mode == tf.estimator.ModeKeys.EVAL:\n",
    "        loss = tf.reduce_mean(input_tensor = tf.nn.softmax_cross_entropy_with_logits(logits = ylogits, labels = labels))\n",
    "        \n",
    "        if mode == tf.estimator.ModeKeys.TRAIN:\n",
    "            train_op = tf.contrib.layers.optimize_loss(\n",
    "                loss = loss, \n",
    "                global_step = tf.train.get_global_step(),\n",
    "                learning_rate = params[\"learning_rate\"], \n",
    "                optimizer = \"Adam\")\n",
    "            eval_metric_ops = None\n",
    "        else:\n",
    "            train_op = None\n",
    "            eval_metric_ops =  {\"accuracy\": tf.metrics.accuracy(labels = tf.argmax(input = labels, axis = 1), predictions = class_ids)}\n",
    "    else:\n",
    "        loss = None\n",
    "        train_op = None\n",
    "        eval_metric_ops = None\n",
    " \n",
    "    return tf.estimator.EstimatorSpec(\n",
    "        mode = mode,\n",
    "        predictions = {\"probabilities\": probabilities, \"class_ids\": class_ids},\n",
    "        loss = loss,\n",
    "        train_op = train_op,\n",
    "        eval_metric_ops = eval_metric_ops,\n",
    "        export_outputs = {\"predictions\": tf.estimator.export.PredictOutput({\"probabilities\": probabilities, \"class_ids\": class_ids})}\n",
    "    )"
   ]
  },
  {
   "cell_type": "markdown",
   "metadata": {},
   "source": [
    "### train and evaluate"
   ]
  },
  {
   "cell_type": "code",
   "execution_count": 107,
   "metadata": {},
   "outputs": [],
   "source": [
    "def train_and_evaluate(output_dir, hparams, X_train, X_val, Y_train, Y_val):\n",
    "\n",
    "    estimator = tf.estimator.Estimator(\n",
    "        model_fn = image_classifier,\n",
    "        model_dir = output_dir,\n",
    "        params = hparams)\n",
    "\n",
    "    train_input_fn = tf.estimator.inputs.numpy_input_fn(\n",
    "        x = {\"image\": X_train},\n",
    "        y = Y_train,\n",
    "        batch_size = hparams['batch_size'],\n",
    "        num_epochs = hparams['epochs'],\n",
    "        shuffle = True,\n",
    "        queue_capacity = 5000\n",
    "    )\n",
    "\n",
    "    eval_input_fn = tf.estimator.inputs.numpy_input_fn(\n",
    "        x = {\"image\": X_val},\n",
    "        y = Y_val,\n",
    "        batch_size = hparams['batch_size'],\n",
    "        num_epochs = 1,\n",
    "        shuffle = False,\n",
    "        queue_capacity = 5000 #TODO   \n",
    "    )\n",
    "    \n",
    " \n",
    "    estimator.train(input_fn=train_input_fn)\n",
    "    \n",
    "    eval_results = estimator.evaluate(input_fn=eval_input_fn)\n",
    "    \n",
    "    \n",
    "\n",
    "#   \n",
    "#    exporter = tf.estimator.LatestExporter(name = \"exporter\", serving_input_receiver_fn = serving_input_fn)\n",
    "#\n",
    "#    tf.estimator.train_and_evaluate(estimator = estimator, train_spec = train_spec, eval_spec = eval_spec)"
   ]
  },
  {
   "cell_type": "markdown",
   "metadata": {},
   "source": [
    "\n",
    "### Input functions for training, evaluation, and predicition."
   ]
  },
  {
   "cell_type": "code",
   "execution_count": 86,
   "metadata": {},
   "outputs": [],
   "source": [
    "def serving_input_fn():\n",
    "\n",
    "    feature_placeholders = {\"image\": tf.placeholder(dtype = tf.float32, shape = [None, HEIGHT, WIDTH])}\n",
    "\n",
    "    features = {\"image\": tf.expand_dims(input = feature_placeholders[\"image\"], axis = -1)} \n",
    "    return tf.estimator.export.ServingInputReceiver(features =  features, receiver_tensors =  feature_placeholders)"
   ]
  },
  {
   "cell_type": "markdown",
   "metadata": {},
   "source": [
    "## train locally\n"
   ]
  },
  {
   "cell_type": "code",
   "execution_count": null,
   "metadata": {},
   "outputs": [],
   "source": []
  },
  {
   "cell_type": "code",
   "execution_count": 106,
   "metadata": {
    "scrolled": false
   },
   "outputs": [
    {
     "data": {
      "text/plain": [
       "(37800, 28, 28, 1)"
      ]
     },
     "execution_count": 106,
     "metadata": {},
     "output_type": "execute_result"
    }
   ],
   "source": [
    "np.shape(X_train)"
   ]
  },
  {
   "cell_type": "code",
   "execution_count": 108,
   "metadata": {
    "scrolled": true
   },
   "outputs": [
    {
     "name": "stdout",
     "output_type": "stream",
     "text": [
      "INFO:tensorflow:Using default config.\n",
      "INFO:tensorflow:Using config: {'_model_dir': 'mnist\\\\learned_v01', '_tf_random_seed': None, '_save_summary_steps': 100, '_save_checkpoints_steps': None, '_save_checkpoints_secs': 600, '_session_config': allow_soft_placement: true\n",
      "graph_options {\n",
      "  rewrite_options {\n",
      "    meta_optimizer_iterations: ONE\n",
      "  }\n",
      "}\n",
      ", '_keep_checkpoint_max': 5, '_keep_checkpoint_every_n_hours': 10000, '_log_step_count_steps': 100, '_train_distribute': None, '_device_fn': None, '_protocol': None, '_eval_distribute': None, '_experimental_distribute': None, '_service': None, '_cluster_spec': <tensorflow.python.training.server_lib.ClusterSpec object at 0x000002B3B9F45710>, '_task_type': 'worker', '_task_id': 0, '_global_id_in_cluster': 0, '_master': '', '_evaluation_master': '', '_is_chief': True, '_num_ps_replicas': 0, '_num_worker_replicas': 1}\n",
      "INFO:tensorflow:Calling model_fn.\n",
      "INFO:tensorflow:Done calling model_fn.\n",
      "INFO:tensorflow:Create CheckpointSaverHook.\n",
      "INFO:tensorflow:Graph was finalized.\n",
      "INFO:tensorflow:Running local_init_op.\n",
      "INFO:tensorflow:Done running local_init_op.\n",
      "INFO:tensorflow:Saving checkpoints for 0 into mnist\\learned_v01\\model.ckpt.\n",
      "INFO:tensorflow:loss = 2.307136732710881, step = 1\n",
      "INFO:tensorflow:global_step/sec: 4.32246\n",
      "INFO:tensorflow:loss = 0.30608275923718636, step = 101 (23.135 sec)\n",
      "INFO:tensorflow:global_step/sec: 4.21692\n",
      "INFO:tensorflow:loss = 0.22307486779837732, step = 201 (23.718 sec)\n",
      "INFO:tensorflow:global_step/sec: 4.0553\n",
      "INFO:tensorflow:loss = 0.17548001774584734, step = 301 (24.655 sec)\n",
      "INFO:tensorflow:global_step/sec: 4.26301\n",
      "INFO:tensorflow:loss = 0.18160474770908488, step = 401 (23.458 sec)\n",
      "INFO:tensorflow:global_step/sec: 4.19723\n",
      "INFO:tensorflow:loss = 0.17588751545557366, step = 501 (23.950 sec)\n",
      "INFO:tensorflow:global_step/sec: 4.25444\n",
      "INFO:tensorflow:loss = 0.11019305581164979, step = 601 (23.380 sec)\n",
      "INFO:tensorflow:global_step/sec: 4.33622\n",
      "INFO:tensorflow:loss = 0.10399242613609537, step = 701 (23.062 sec)\n",
      "INFO:tensorflow:global_step/sec: 4.24816\n",
      "INFO:tensorflow:loss = 0.11673891034873275, step = 801 (23.540 sec)\n",
      "INFO:tensorflow:global_step/sec: 4.32602\n",
      "INFO:tensorflow:loss = 0.0689724783578224, step = 901 (23.116 sec)\n",
      "INFO:tensorflow:global_step/sec: 4.25517\n",
      "INFO:tensorflow:loss = 0.07669344778562942, step = 1001 (23.516 sec)\n",
      "INFO:tensorflow:global_step/sec: 4.34301\n",
      "INFO:tensorflow:loss = 0.015774911339152712, step = 1101 (23.150 sec)\n",
      "INFO:tensorflow:global_step/sec: 4.25656\n",
      "INFO:tensorflow:loss = 0.026573997405743035, step = 1201 (23.353 sec)\n",
      "INFO:tensorflow:global_step/sec: 4.32986\n",
      "INFO:tensorflow:loss = 0.05698780981432708, step = 1301 (23.095 sec)\n",
      "INFO:tensorflow:global_step/sec: 4.29957\n",
      "INFO:tensorflow:loss = 0.050952427513020815, step = 1401 (23.258 sec)\n",
      "INFO:tensorflow:global_step/sec: 4.29311\n",
      "INFO:tensorflow:loss = 0.04778613392949191, step = 1501 (23.293 sec)\n",
      "INFO:tensorflow:global_step/sec: 4.30532\n",
      "INFO:tensorflow:loss = 0.04650822910174408, step = 1601 (23.243 sec)\n",
      "INFO:tensorflow:global_step/sec: 4.27669\n",
      "INFO:tensorflow:loss = 0.05840719617868242, step = 1701 (23.508 sec)\n",
      "INFO:tensorflow:global_step/sec: 4.28511\n",
      "INFO:tensorflow:loss = 0.10369860858816335, step = 1801 (23.196 sec)\n",
      "INFO:tensorflow:global_step/sec: 4.25745\n",
      "INFO:tensorflow:loss = 0.008220876080236255, step = 1901 (23.488 sec)\n",
      "INFO:tensorflow:global_step/sec: 4.30388\n",
      "INFO:tensorflow:loss = 0.008662847316327773, step = 2001 (23.235 sec)\n",
      "INFO:tensorflow:global_step/sec: 4.29692\n",
      "INFO:tensorflow:loss = 0.02146562136515417, step = 2101 (23.272 sec)\n",
      "INFO:tensorflow:global_step/sec: 4.32773\n",
      "INFO:tensorflow:loss = 0.05933830176763009, step = 2201 (23.107 sec)\n",
      "INFO:tensorflow:global_step/sec: 4.29511\n",
      "INFO:tensorflow:loss = 0.011615098935144981, step = 2301 (23.407 sec)\n",
      "INFO:tensorflow:global_step/sec: 4.2669\n",
      "INFO:tensorflow:loss = 0.00785043847783186, step = 2401 (23.311 sec)\n",
      "INFO:tensorflow:global_step/sec: 4.31631\n",
      "INFO:tensorflow:loss = 0.007969076788517493, step = 2501 (23.168 sec)\n",
      "INFO:tensorflow:Saving checkpoints for 2566 into mnist\\learned_v01\\model.ckpt.\n",
      "INFO:tensorflow:global_step/sec: 4.10705\n",
      "INFO:tensorflow:loss = 0.015141625622814802, step = 2601 (24.348 sec)\n",
      "INFO:tensorflow:global_step/sec: 4.32771\n",
      "INFO:tensorflow:loss = 0.055213863132604984, step = 2701 (23.107 sec)\n",
      "INFO:tensorflow:global_step/sec: 4.26585\n",
      "INFO:tensorflow:loss = 0.06187427536847833, step = 2801 (23.442 sec)\n",
      "INFO:tensorflow:global_step/sec: 4.1938\n",
      "INFO:tensorflow:loss = 0.024601801036183212, step = 2901 (23.939 sec)\n",
      "INFO:tensorflow:global_step/sec: 4.16225\n",
      "INFO:tensorflow:loss = 0.039736177825467296, step = 3001 (23.932 sec)\n",
      "INFO:tensorflow:global_step/sec: 4.26059\n",
      "INFO:tensorflow:loss = 0.05072508409194807, step = 3101 (23.487 sec)\n",
      "INFO:tensorflow:global_step/sec: 4.1601\n",
      "INFO:tensorflow:loss = 0.02839246471880362, step = 3201 (24.022 sec)\n",
      "INFO:tensorflow:global_step/sec: 4.27533\n",
      "INFO:tensorflow:loss = 0.004840143836963151, step = 3301 (23.406 sec)\n",
      "INFO:tensorflow:global_step/sec: 4.2508\n",
      "INFO:tensorflow:loss = 0.00830800410202135, step = 3401 (23.509 sec)\n",
      "INFO:tensorflow:global_step/sec: 4.33839\n",
      "INFO:tensorflow:loss = 0.024891056525970453, step = 3501 (23.081 sec)\n",
      "INFO:tensorflow:global_step/sec: 4.25616\n",
      "INFO:tensorflow:loss = 0.008367698950481657, step = 3601 (23.464 sec)\n",
      "INFO:tensorflow:global_step/sec: 4.32757\n",
      "INFO:tensorflow:loss = 0.02023212909747956, step = 3701 (23.123 sec)\n",
      "INFO:tensorflow:global_step/sec: 4.28052\n",
      "INFO:tensorflow:loss = 0.009638489533858348, step = 3801 (23.362 sec)\n",
      "INFO:tensorflow:global_step/sec: 4.34151\n",
      "INFO:tensorflow:loss = 0.03689509453673796, step = 3901 (23.018 sec)\n",
      "INFO:tensorflow:global_step/sec: 4.30565\n",
      "INFO:tensorflow:loss = 0.03159481181243475, step = 4001 (23.225 sec)\n",
      "INFO:tensorflow:global_step/sec: 4.30062\n",
      "INFO:tensorflow:loss = 0.031923737619305094, step = 4101 (23.377 sec)\n",
      "INFO:tensorflow:global_step/sec: 4.29193\n",
      "INFO:tensorflow:loss = 0.03175821705167653, step = 4201 (23.174 sec)\n",
      "INFO:tensorflow:global_step/sec: 4.2854\n",
      "INFO:tensorflow:loss = 0.001754525541709805, step = 4301 (23.335 sec)\n",
      "INFO:tensorflow:global_step/sec: 4.34931\n",
      "INFO:tensorflow:loss = 0.05263555707531685, step = 4401 (22.992 sec)\n",
      "INFO:tensorflow:global_step/sec: 4.26898\n",
      "INFO:tensorflow:loss = 0.017253463328018703, step = 4501 (23.425 sec)\n",
      "INFO:tensorflow:global_step/sec: 4.3118\n",
      "INFO:tensorflow:loss = 0.0017473624726699886, step = 4601 (23.192 sec)\n",
      "INFO:tensorflow:global_step/sec: 4.21776\n",
      "INFO:tensorflow:loss = 0.0015106255353049083, step = 4701 (23.834 sec)\n",
      "INFO:tensorflow:global_step/sec: 4.3041\n",
      "INFO:tensorflow:loss = 0.007901418351469479, step = 4801 (23.108 sec)\n",
      "INFO:tensorflow:global_step/sec: 4.25731\n",
      "INFO:tensorflow:loss = 0.007386121569691517, step = 4901 (23.489 sec)\n",
      "INFO:tensorflow:global_step/sec: 4.34158\n",
      "INFO:tensorflow:loss = 0.0057813277575592915, step = 5001 (23.033 sec)\n",
      "INFO:tensorflow:global_step/sec: 4.29071\n",
      "INFO:tensorflow:loss = 0.02910470250507312, step = 5101 (23.306 sec)\n",
      "INFO:tensorflow:Saving checkpoints for 5129 into mnist\\learned_v01\\model.ckpt.\n",
      "INFO:tensorflow:global_step/sec: 4.07281\n",
      "INFO:tensorflow:loss = 0.09628586813506557, step = 5201 (24.553 sec)\n",
      "INFO:tensorflow:global_step/sec: 4.31436\n",
      "INFO:tensorflow:loss = 0.005977545145315648, step = 5301 (23.210 sec)\n",
      "INFO:tensorflow:global_step/sec: 4.22855\n",
      "INFO:tensorflow:loss = 0.016671311797943667, step = 5401 (23.618 sec)\n",
      "INFO:tensorflow:global_step/sec: 4.27344\n",
      "INFO:tensorflow:loss = 0.0010452563073673888, step = 5501 (23.400 sec)\n",
      "INFO:tensorflow:global_step/sec: 4.21726\n",
      "INFO:tensorflow:loss = 0.0029199736151239797, step = 5601 (23.712 sec)\n",
      "INFO:tensorflow:global_step/sec: 4.33578\n",
      "INFO:tensorflow:loss = 0.0031138363544701104, step = 5701 (23.064 sec)\n",
      "INFO:tensorflow:global_step/sec: 4.28693\n",
      "INFO:tensorflow:loss = 0.0017929740431431806, step = 5801 (23.327 sec)\n",
      "INFO:tensorflow:global_step/sec: 4.33681\n",
      "INFO:tensorflow:loss = 0.00046973478036970996, step = 5901 (23.105 sec)\n",
      "INFO:tensorflow:global_step/sec: 4.23512\n",
      "INFO:tensorflow:loss = 0.0016228415219335648, step = 6001 (23.565 sec)\n",
      "INFO:tensorflow:global_step/sec: 4.25102\n",
      "INFO:tensorflow:loss = 0.014948702119696828, step = 6101 (23.524 sec)\n",
      "INFO:tensorflow:global_step/sec: 4.29986\n",
      "INFO:tensorflow:loss = 0.08447980058472224, step = 6201 (23.257 sec)\n"
     ]
    },
    {
     "name": "stdout",
     "output_type": "stream",
     "text": [
      "INFO:tensorflow:global_step/sec: 4.32707\n",
      "INFO:tensorflow:loss = 0.002817909593529288, step = 6301 (23.110 sec)\n",
      "INFO:tensorflow:global_step/sec: 4.30441\n",
      "INFO:tensorflow:loss = 0.006067895172329359, step = 6401 (23.232 sec)\n",
      "INFO:tensorflow:global_step/sec: 4.35172\n",
      "INFO:tensorflow:loss = 0.03700321425976821, step = 6501 (23.104 sec)\n",
      "INFO:tensorflow:global_step/sec: 4.33558\n",
      "INFO:tensorflow:loss = 0.003922270476733641, step = 6601 (22.956 sec)\n",
      "INFO:tensorflow:global_step/sec: 4.24893\n",
      "INFO:tensorflow:loss = 0.0022308099459639966, step = 6701 (23.520 sec)\n",
      "INFO:tensorflow:global_step/sec: 4.34409\n",
      "INFO:tensorflow:loss = 0.001628934294351483, step = 6801 (23.020 sec)\n",
      "INFO:tensorflow:global_step/sec: 4.29003\n",
      "INFO:tensorflow:loss = 0.0005183712579832563, step = 6901 (23.310 sec)\n",
      "INFO:tensorflow:global_step/sec: 4.34455\n",
      "INFO:tensorflow:loss = 0.013769718755822023, step = 7001 (23.017 sec)\n",
      "INFO:tensorflow:global_step/sec: 4.29143\n",
      "INFO:tensorflow:loss = 0.004793686259274579, step = 7101 (23.334 sec)\n",
      "INFO:tensorflow:global_step/sec: 4.17293\n",
      "INFO:tensorflow:loss = 0.02645074497784117, step = 7201 (23.933 sec)\n",
      "INFO:tensorflow:global_step/sec: 4.1732\n",
      "INFO:tensorflow:loss = 0.0010688693529038202, step = 7301 (23.962 sec)\n",
      "INFO:tensorflow:global_step/sec: 4.3275\n",
      "INFO:tensorflow:loss = 0.017981581318419836, step = 7401 (23.108 sec)\n",
      "INFO:tensorflow:global_step/sec: 4.26198\n",
      "INFO:tensorflow:loss = 0.015460252256993677, step = 7501 (23.463 sec)\n",
      "INFO:tensorflow:Saving checkpoints for 7560 into mnist\\learned_v01\\model.ckpt.\n",
      "INFO:tensorflow:Loss for final step: 0.01032769177226577.\n",
      "INFO:tensorflow:Calling model_fn.\n",
      "INFO:tensorflow:Done calling model_fn.\n",
      "INFO:tensorflow:Starting evaluation at 2019-08-18T01:21:47Z\n",
      "INFO:tensorflow:Graph was finalized.\n",
      "INFO:tensorflow:Restoring parameters from mnist\\learned_v01\\model.ckpt-7560\n",
      "INFO:tensorflow:Running local_init_op.\n",
      "INFO:tensorflow:Done running local_init_op.\n",
      "INFO:tensorflow:Finished evaluation at 2019-08-18-01:21:51\n",
      "INFO:tensorflow:Saving dict for global step 7560: accuracy = 0.99, global_step = 7560, loss = 0.04479689\n",
      "INFO:tensorflow:Saving 'checkpoint_path' summary for global step 7560: mnist\\learned_v01\\model.ckpt-7560\n",
      "{'accuracy': 0.99, 'loss': 0.04479689, 'global_step': 7560}\n"
     ]
    }
   ],
   "source": [
    "OUTDIR = \"mnist\\learned_v01\"\n",
    "shutil.rmtree(path = OUTDIR, ignore_errors = True) # start fresh each time\n",
    "\n",
    "\n",
    "hparams = {\"epochs\": 20, \"batch_size\": 100, \"learning_rate\": 0.001, \"batch_norm\":0 }\n",
    "\n",
    "train_and_evaluate(OUTDIR, hparams, X_train, X_val, Y_train, Y_val)"
   ]
  },
  {
   "cell_type": "markdown",
   "metadata": {},
   "source": [
    "local training successful, acc = 0.99"
   ]
  },
  {
   "cell_type": "markdown",
   "metadata": {},
   "source": [
    "<h2 id=\"Next-steps\">Next steps</h2>\n",
    "\n",
    "<ol>\n",
    "\t<li>impletment prediction, collect log info</li>\n",
    "\t<li>data augmentation and learning rate</li>\n",
    "\t<li>create GCP training files</li>\n",
    "\t<li>ensemble method</li>\n",
    "\t<li>TF2</li>\n",
    "</ol>\n",
    "\n",
    "<h2 id=\" \">credits</h2>\n",
    "\n",
    "<p><a href=\"https://github.com/GoogleCloudPlatform/training-data-analyst/blob/master/courses/machine_learning/deepdive/08_image/mnistmodel/trainer/model.py\" target=\"_blank\">https://github.com/GoogleCloudPlatform/training-data-analyst/blob/master/courses/machine_learning/deepdive/08_image/mnistmodel/trainer/model.py</a></p>\n",
    "\n",
    "<p><a href=\"https://www.tensorflow.org/tutorials/estimators/cnn\" target=\"_blank\">https://www.tensorflow.org/tutorials/estimators/cnn</a></p>\n",
    "\n",
    "<p>&nbsp;</p>\n",
    "\n",
    "<p>&nbsp;</p>\n",
    "\n",
    "<p>&nbsp;</p>\n"
   ]
  }
 ],
 "metadata": {
  "kernelspec": {
   "display_name": "Python 3",
   "language": "python",
   "name": "python3"
  },
  "language_info": {
   "codemirror_mode": {
    "name": "ipython",
    "version": 3
   },
   "file_extension": ".py",
   "mimetype": "text/x-python",
   "name": "python",
   "nbconvert_exporter": "python",
   "pygments_lexer": "ipython3",
   "version": "3.6.7"
  }
 },
 "nbformat": 4,
 "nbformat_minor": 2
}
