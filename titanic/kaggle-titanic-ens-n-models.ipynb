{
 "cells": [
  {
   "cell_type": "markdown",
   "metadata": {},
   "source": [
    "<h1 id=\"ML-with-sklearn:-10-models\">ML with sklearn: 10 models</h1>\n",
    "\n",
    "<p>Modle:</p>\n",
    "\n",
    "<ol>\n",
    "\t<li>Random Forest,</li>\n",
    "\t<li>SVM,</li>\n",
    "\t<li>Logistic,</li>\n",
    "\t<li>Guassian Naive Bayesian,</li>\n",
    "\t<li>Decision Tree,</li>\n",
    "\t<li>KNN,</li>\n",
    "\t<li>AdaBoost,</li>\n",
    "\t<li>XGBoost,</li>\n",
    "\t<li>CatBoost</li>\n",
    "\t<li>DNN</li>\n",
    "</ol>\n",
    "\n",
    "<p>Data: kaggle titanic&nbsp;</p>\n"
   ]
  },
  {
   "cell_type": "markdown",
   "metadata": {},
   "source": [
    "## Setup"
   ]
  },
  {
   "cell_type": "code",
   "execution_count": 101,
   "metadata": {},
   "outputs": [],
   "source": [
    "%matplotlib inline\n",
    "\n",
    "import math, time, random, datetime\n",
    "\n",
    "import numpy as np\n",
    "import pandas as pd\n",
    "\n",
    "import matplotlib.pyplot as plt\n",
    "#import seaborn as sns\n",
    "\n",
    "import missingno\n",
    "\n",
    "\n",
    "# Machine learning pack 1\n",
    "\n",
    "\n",
    "from sklearn.model_selection import train_test_split, GridSearchCV, KFold, cross_val_score\n",
    "from sklearn.metrics import make_scorer, accuracy_score\n",
    "\n",
    "from sklearn.ensemble import RandomForestClassifier, VotingClassifier, AdaBoostClassifier\n",
    "from sklearn.linear_model import LinearRegression, LogisticRegression, SGDClassifier\n",
    "\n",
    "from sklearn.svm import SVC\n",
    "from xgboost import XGBClassifier\n",
    "import xgboost as xgb\n",
    "\n",
    "import catboost\n",
    "from catboost import CatBoostClassifier, Pool, cv\n",
    "\n",
    "from sklearn.naive_bayes import GaussianNB\n",
    "from sklearn.tree import DecisionTreeClassifier\n",
    "from sklearn.neighbors import KNeighborsClassifier\n",
    "\n",
    "from sklearn.neural_network import MLPClassifier\n",
    "from mlxtend.classifier import StackingClassifier\n",
    "\n",
    "#from sklearn.decomposition import PCA\n",
    "#from sklearn.cluster import KMeans, DBSCAN\n",
    "\n",
    "# Neural networks\n",
    "#import tensorflow as  tf\n",
    "#import keras\n",
    "\n",
    "#from keras.models import Sequential\n",
    "#from keras.utils import np_utils\n",
    "#from keras import layers\n",
    "#from keras import regularizers\n",
    "\n",
    "#from keras.callbacks import EarlyStopping\n",
    "\n",
    "import warnings\n",
    "warnings.filterwarnings('ignore')\n"
   ]
  },
  {
   "cell_type": "markdown",
   "metadata": {},
   "source": [
    "## Loading data\n",
    "\n"
   ]
  },
  {
   "cell_type": "code",
   "execution_count": 5,
   "metadata": {
    "scrolled": false
   },
   "outputs": [
    {
     "data": {
      "text/html": [
       "<div>\n",
       "<style scoped>\n",
       "    .dataframe tbody tr th:only-of-type {\n",
       "        vertical-align: middle;\n",
       "    }\n",
       "\n",
       "    .dataframe tbody tr th {\n",
       "        vertical-align: top;\n",
       "    }\n",
       "\n",
       "    .dataframe thead th {\n",
       "        text-align: right;\n",
       "    }\n",
       "</style>\n",
       "<table border=\"1\" class=\"dataframe\">\n",
       "  <thead>\n",
       "    <tr style=\"text-align: right;\">\n",
       "      <th></th>\n",
       "      <th>PassengerId</th>\n",
       "      <th>Survived</th>\n",
       "      <th>SibSp</th>\n",
       "      <th>Parch</th>\n",
       "      <th>Isfemale</th>\n",
       "      <th>Age_fill</th>\n",
       "      <th>Ischild</th>\n",
       "      <th>Fare_fill</th>\n",
       "      <th>Embarked_C</th>\n",
       "      <th>Embarked_Q</th>\n",
       "      <th>Embarked_S</th>\n",
       "      <th>Pclass_1</th>\n",
       "      <th>Pclass_2</th>\n",
       "      <th>Pclass_3</th>\n",
       "    </tr>\n",
       "  </thead>\n",
       "  <tbody>\n",
       "    <tr>\n",
       "      <th>0</th>\n",
       "      <td>1</td>\n",
       "      <td>0</td>\n",
       "      <td>1</td>\n",
       "      <td>0.0</td>\n",
       "      <td>0</td>\n",
       "      <td>0.741556</td>\n",
       "      <td>0</td>\n",
       "      <td>0.225126</td>\n",
       "      <td>0</td>\n",
       "      <td>0</td>\n",
       "      <td>1</td>\n",
       "      <td>0</td>\n",
       "      <td>0</td>\n",
       "      <td>1</td>\n",
       "    </tr>\n",
       "    <tr>\n",
       "      <th>1</th>\n",
       "      <td>2</td>\n",
       "      <td>1</td>\n",
       "      <td>1</td>\n",
       "      <td>0.0</td>\n",
       "      <td>1</td>\n",
       "      <td>1.291367</td>\n",
       "      <td>0</td>\n",
       "      <td>2.213478</td>\n",
       "      <td>1</td>\n",
       "      <td>0</td>\n",
       "      <td>0</td>\n",
       "      <td>1</td>\n",
       "      <td>0</td>\n",
       "      <td>0</td>\n",
       "    </tr>\n",
       "    <tr>\n",
       "      <th>2</th>\n",
       "      <td>3</td>\n",
       "      <td>1</td>\n",
       "      <td>0</td>\n",
       "      <td>0.0</td>\n",
       "      <td>1</td>\n",
       "      <td>0.879009</td>\n",
       "      <td>0</td>\n",
       "      <td>0.246086</td>\n",
       "      <td>0</td>\n",
       "      <td>0</td>\n",
       "      <td>1</td>\n",
       "      <td>0</td>\n",
       "      <td>0</td>\n",
       "      <td>1</td>\n",
       "    </tr>\n",
       "    <tr>\n",
       "      <th>3</th>\n",
       "      <td>4</td>\n",
       "      <td>1</td>\n",
       "      <td>1</td>\n",
       "      <td>0.0</td>\n",
       "      <td>1</td>\n",
       "      <td>1.188277</td>\n",
       "      <td>0</td>\n",
       "      <td>1.648853</td>\n",
       "      <td>0</td>\n",
       "      <td>0</td>\n",
       "      <td>1</td>\n",
       "      <td>1</td>\n",
       "      <td>0</td>\n",
       "      <td>0</td>\n",
       "    </tr>\n",
       "    <tr>\n",
       "      <th>4</th>\n",
       "      <td>5</td>\n",
       "      <td>0</td>\n",
       "      <td>0</td>\n",
       "      <td>0.0</td>\n",
       "      <td>0</td>\n",
       "      <td>1.188277</td>\n",
       "      <td>0</td>\n",
       "      <td>0.249967</td>\n",
       "      <td>0</td>\n",
       "      <td>0</td>\n",
       "      <td>1</td>\n",
       "      <td>0</td>\n",
       "      <td>0</td>\n",
       "      <td>1</td>\n",
       "    </tr>\n",
       "  </tbody>\n",
       "</table>\n",
       "</div>"
      ],
      "text/plain": [
       "   PassengerId  Survived  SibSp  Parch  Isfemale  Age_fill  Ischild  \\\n",
       "0            1         0      1    0.0         0  0.741556        0   \n",
       "1            2         1      1    0.0         1  1.291367        0   \n",
       "2            3         1      0    0.0         1  0.879009        0   \n",
       "3            4         1      1    0.0         1  1.188277        0   \n",
       "4            5         0      0    0.0         0  1.188277        0   \n",
       "\n",
       "   Fare_fill  Embarked_C  Embarked_Q  Embarked_S  Pclass_1  Pclass_2  Pclass_3  \n",
       "0   0.225126           0           0           1         0         0         1  \n",
       "1   2.213478           1           0           0         1         0         0  \n",
       "2   0.246086           0           0           1         0         0         1  \n",
       "3   1.648853           0           0           1         1         0         0  \n",
       "4   0.249967           0           0           1         0         0         1  "
      ]
     },
     "execution_count": 5,
     "metadata": {},
     "output_type": "execute_result"
    }
   ],
   "source": [
    "df_train = pd.read_csv('data/df_train_dp.csv')\n",
    "df_test = pd.read_csv('data/df_test_dp.csv')\n",
    "gender_submission = pd.read_csv('data/gender_submission.csv')\n",
    "\n",
    "df_train.head()"
   ]
  },
  {
   "cell_type": "code",
   "execution_count": 6,
   "metadata": {},
   "outputs": [
    {
     "data": {
      "text/html": [
       "<div>\n",
       "<style scoped>\n",
       "    .dataframe tbody tr th:only-of-type {\n",
       "        vertical-align: middle;\n",
       "    }\n",
       "\n",
       "    .dataframe tbody tr th {\n",
       "        vertical-align: top;\n",
       "    }\n",
       "\n",
       "    .dataframe thead th {\n",
       "        text-align: right;\n",
       "    }\n",
       "</style>\n",
       "<table border=\"1\" class=\"dataframe\">\n",
       "  <thead>\n",
       "    <tr style=\"text-align: right;\">\n",
       "      <th></th>\n",
       "      <th>PassengerId</th>\n",
       "      <th>SibSp</th>\n",
       "      <th>Parch</th>\n",
       "      <th>Isfemale</th>\n",
       "      <th>Age_fill</th>\n",
       "      <th>Ischild</th>\n",
       "      <th>Fare_fill</th>\n",
       "      <th>Embarked_C</th>\n",
       "      <th>Embarked_Q</th>\n",
       "      <th>Embarked_S</th>\n",
       "      <th>Pclass_1</th>\n",
       "      <th>Pclass_2</th>\n",
       "      <th>Pclass_3</th>\n",
       "    </tr>\n",
       "  </thead>\n",
       "  <tbody>\n",
       "    <tr>\n",
       "      <th>0</th>\n",
       "      <td>892</td>\n",
       "      <td>0</td>\n",
       "      <td>0.00000</td>\n",
       "      <td>0</td>\n",
       "      <td>1.175411</td>\n",
       "      <td>0</td>\n",
       "      <td>0.220206</td>\n",
       "      <td>0</td>\n",
       "      <td>1</td>\n",
       "      <td>0</td>\n",
       "      <td>0</td>\n",
       "      <td>0</td>\n",
       "      <td>1</td>\n",
       "    </tr>\n",
       "    <tr>\n",
       "      <th>1</th>\n",
       "      <td>893</td>\n",
       "      <td>1</td>\n",
       "      <td>0.00000</td>\n",
       "      <td>1</td>\n",
       "      <td>1.603394</td>\n",
       "      <td>0</td>\n",
       "      <td>0.196884</td>\n",
       "      <td>0</td>\n",
       "      <td>0</td>\n",
       "      <td>1</td>\n",
       "      <td>0</td>\n",
       "      <td>0</td>\n",
       "      <td>1</td>\n",
       "    </tr>\n",
       "    <tr>\n",
       "      <th>2</th>\n",
       "      <td>894</td>\n",
       "      <td>0</td>\n",
       "      <td>0.00000</td>\n",
       "      <td>0</td>\n",
       "      <td>2.116973</td>\n",
       "      <td>0</td>\n",
       "      <td>0.272473</td>\n",
       "      <td>0</td>\n",
       "      <td>1</td>\n",
       "      <td>0</td>\n",
       "      <td>0</td>\n",
       "      <td>1</td>\n",
       "      <td>0</td>\n",
       "    </tr>\n",
       "    <tr>\n",
       "      <th>3</th>\n",
       "      <td>895</td>\n",
       "      <td>0</td>\n",
       "      <td>0.00000</td>\n",
       "      <td>0</td>\n",
       "      <td>0.918622</td>\n",
       "      <td>0</td>\n",
       "      <td>0.243644</td>\n",
       "      <td>0</td>\n",
       "      <td>0</td>\n",
       "      <td>1</td>\n",
       "      <td>0</td>\n",
       "      <td>0</td>\n",
       "      <td>1</td>\n",
       "    </tr>\n",
       "    <tr>\n",
       "      <th>4</th>\n",
       "      <td>896</td>\n",
       "      <td>1</td>\n",
       "      <td>2.54878</td>\n",
       "      <td>1</td>\n",
       "      <td>0.747429</td>\n",
       "      <td>0</td>\n",
       "      <td>0.345602</td>\n",
       "      <td>0</td>\n",
       "      <td>0</td>\n",
       "      <td>1</td>\n",
       "      <td>0</td>\n",
       "      <td>0</td>\n",
       "      <td>1</td>\n",
       "    </tr>\n",
       "  </tbody>\n",
       "</table>\n",
       "</div>"
      ],
      "text/plain": [
       "   PassengerId  SibSp    Parch  Isfemale  Age_fill  Ischild  Fare_fill  \\\n",
       "0          892      0  0.00000         0  1.175411        0   0.220206   \n",
       "1          893      1  0.00000         1  1.603394        0   0.196884   \n",
       "2          894      0  0.00000         0  2.116973        0   0.272473   \n",
       "3          895      0  0.00000         0  0.918622        0   0.243644   \n",
       "4          896      1  2.54878         1  0.747429        0   0.345602   \n",
       "\n",
       "   Embarked_C  Embarked_Q  Embarked_S  Pclass_1  Pclass_2  Pclass_3  \n",
       "0           0           1           0         0         0         1  \n",
       "1           0           0           1         0         0         1  \n",
       "2           0           1           0         0         1         0  \n",
       "3           0           0           1         0         0         1  \n",
       "4           0           0           1         0         0         1  "
      ]
     },
     "execution_count": 6,
     "metadata": {},
     "output_type": "execute_result"
    }
   ],
   "source": [
    "df_test.head()"
   ]
  },
  {
   "cell_type": "markdown",
   "metadata": {},
   "source": [
    "## Prepare for ML"
   ]
  },
  {
   "cell_type": "code",
   "execution_count": 7,
   "metadata": {},
   "outputs": [],
   "source": [
    "X_train = np.array(df_train.drop(['Survived', 'PassengerId'], axis=1))\n",
    "y_train = np.array(df_train['Survived'])\n",
    "\n",
    "X_test = np.array(df_test.drop(['PassengerId'], axis=1))"
   ]
  },
  {
   "cell_type": "code",
   "execution_count": 17,
   "metadata": {
    "scrolled": false
   },
   "outputs": [
    {
     "data": {
      "text/plain": [
       "12"
      ]
     },
     "execution_count": 17,
     "metadata": {},
     "output_type": "execute_result"
    }
   ],
   "source": [
    "X_train.shape[1]"
   ]
  },
  {
   "cell_type": "code",
   "execution_count": 18,
   "metadata": {},
   "outputs": [
    {
     "data": {
      "text/plain": [
       "(891,)"
      ]
     },
     "execution_count": 18,
     "metadata": {},
     "output_type": "execute_result"
    }
   ],
   "source": [
    "y_train.shape"
   ]
  },
  {
   "cell_type": "code",
   "execution_count": 9,
   "metadata": {},
   "outputs": [],
   "source": [
    "X_train_, X_val_, y_train_, y_val_ = train_test_split(X_train, y_train, test_size=0.1,random_state=0)"
   ]
  },
  {
   "cell_type": "markdown",
   "metadata": {},
   "source": [
    "## Hyper tuning"
   ]
  },
  {
   "cell_type": "code",
   "execution_count": 10,
   "metadata": {},
   "outputs": [],
   "source": [
    "n_cv = 10"
   ]
  },
  {
   "cell_type": "code",
   "execution_count": 11,
   "metadata": {},
   "outputs": [],
   "source": [
    "def get_cv_score(classifier_name, n_cv):\n",
    "    score = [0] * n_cv\n",
    "    for i in range(0, n_cv):\n",
    "        command_str = classifier_name + '.cv_results_[\\'split' + str(i) + '_test_score\\']'\n",
    "        score[i] = eval(command_str)[0]\n",
    "    return score\n",
    "\n",
    "\n",
    "def hyper_tune(model, name, hyper, n_cv, X, y):\n",
    "    start_time = time.time()\n",
    "\n",
    "    model.fit(X, y)\n",
    "\n",
    "    print(\"training time:\", time.strftime('%H:%M:%S', time.gmtime(time.time() - start_time)))\n",
    "\n",
    "    score_list= get_cv_score(name, n_cv)\n",
    "    print(\"Accuracy: {0:.4f} +/- {1:.4f}\".format(np.mean(score_list), np.std(score_list)))\n",
    "    \n",
    "    opt_param = model.best_estimator_.get_params()\n",
    "    print(\"optimized parameters:\", {k:opt_param[k] for k in hyper.keys()})\n",
    "    \n",
    "    return model, score_list, opt_param"
   ]
  },
  {
   "cell_type": "markdown",
   "metadata": {},
   "source": [
    "### Random Forest"
   ]
  },
  {
   "cell_type": "code",
   "execution_count": 60,
   "metadata": {},
   "outputs": [
    {
     "name": "stdout",
     "output_type": "stream",
     "text": [
      "training time: 00:00:06\n",
      "Accuracy: 0.8278 +/- 0.0246\n",
      "optimized parameters: {'n_estimators': 70, 'max_depth': 5, 'random_state': 0}\n"
     ]
    }
   ],
   "source": [
    "hyper_rf = dict(\n",
    "    n_estimators = [60,70,80], # 70\n",
    "    max_depth = [4,5,6],  # 5\n",
    "    random_state = [0]\n",
    ")\n",
    "\n",
    "gscv_rf = GridSearchCV(RandomForestClassifier(), hyper_rf, scoring = 'accuracy', cv = n_cv)\n",
    "\n",
    "gscv_out_rf, score_rf, params_rf = hyper_tune(gscv_rf, 'gscv_rf', hyper_rf, n_cv, X_train_.copy(), y_train_.copy())\n"
   ]
  },
  {
   "cell_type": "markdown",
   "metadata": {},
   "source": [
    "### SVM"
   ]
  },
  {
   "cell_type": "code",
   "execution_count": 61,
   "metadata": {},
   "outputs": [
    {
     "name": "stdout",
     "output_type": "stream",
     "text": [
      "training time: 00:00:32\n",
      "Accuracy: 0.8005 +/- 0.0460\n",
      "optimized parameters: {'C': 6.0, 'kernel': 'rbf', 'gamma': 'auto', 'probability': True, 'random_state': 0}\n"
     ]
    }
   ],
   "source": [
    "hyper_svm = dict(\n",
    "    C = [5.0,6.0, 7.0], # 6\n",
    "    kernel = ['linear', 'poly', 'rbf', 'sigmoid'],  #rbf\n",
    "    gamma = ['auto', 'scale'], # auto\n",
    "    probability = [True],\n",
    "    random_state = [0]\n",
    ")\n",
    "\n",
    "gscv_svm = GridSearchCV(SVC(), hyper_svm, scoring = 'accuracy', cv = n_cv)\n",
    "\n",
    "gscv_out_svm, score_svm, params_svm = hyper_tune(gscv_svm, 'gscv_svm', hyper_svm, n_cv, X_train_.copy(), y_train_.copy())"
   ]
  },
  {
   "cell_type": "markdown",
   "metadata": {},
   "source": [
    "### Logistic regression"
   ]
  },
  {
   "cell_type": "code",
   "execution_count": 62,
   "metadata": {},
   "outputs": [
    {
     "name": "stdout",
     "output_type": "stream",
     "text": [
      "training time: 00:00:00\n",
      "Accuracy: 0.8067 +/- 0.0389\n",
      "optimized parameters: {'C': 1.0, 'solver': 'lbfgs', 'random_state': 0}\n"
     ]
    }
   ],
   "source": [
    "hyper_logis = dict(\n",
    "    C = [0.1, 1.0, 10.0], # 1 \n",
    "    solver = ['lbfgs'],\n",
    "    random_state = [0]\n",
    ")\n",
    "\n",
    "gscv_logis = GridSearchCV(LogisticRegression(), hyper_logis, scoring = 'accuracy', cv = n_cv)\n",
    "\n",
    "gscv_out_logis, score_logis, params_logis = hyper_tune(gscv_logis, 'gscv_logis', hyper_logis, n_cv, X_train_.copy(), y_train_.copy())"
   ]
  },
  {
   "cell_type": "markdown",
   "metadata": {},
   "source": [
    "### Guassian Naive Bayesian"
   ]
  },
  {
   "cell_type": "code",
   "execution_count": 63,
   "metadata": {},
   "outputs": [
    {
     "name": "stdout",
     "output_type": "stream",
     "text": [
      "training time: 00:00:00\n",
      "Accuracy: 0.8041 +/- 0.0307\n",
      "optimized parameters: {'var_smoothing': 0}\n"
     ]
    }
   ],
   "source": [
    "hyper_gnb = dict(\n",
    "    var_smoothing = [0,1e-10, 1e-9] # \n",
    "    \n",
    ")\n",
    "\n",
    "gscv_gnb = GridSearchCV(GaussianNB(), hyper_gnb, scoring = 'accuracy', cv = n_cv)\n",
    "\n",
    "gscv_out_gnb, score_gnb, params_gnb = hyper_tune(gscv_gnb, 'gscv_gnb', hyper_gnb, n_cv, X_train_.copy(), y_train_.copy())"
   ]
  },
  {
   "cell_type": "markdown",
   "metadata": {},
   "source": [
    "### Decistion Tree"
   ]
  },
  {
   "cell_type": "code",
   "execution_count": 90,
   "metadata": {},
   "outputs": [
    {
     "name": "stdout",
     "output_type": "stream",
     "text": [
      "training time: 00:00:01\n",
      "Accuracy: 0.7878 +/- 0.0528\n",
      "optimized parameters: {'max_depth': 6, 'min_samples_split': 2, 'min_samples_leaf': 10, 'max_features': None}\n"
     ]
    }
   ],
   "source": [
    "hyper_dt = dict(\n",
    "    max_depth = [4,6,8,10], #\n",
    "    min_samples_split=[2,10,20],\n",
    "    min_samples_leaf=[1,10,20],\n",
    "    max_features = ['sqrt','log2', None]\n",
    ")\n",
    "\n",
    "gscv_dt = GridSearchCV(DecisionTreeClassifier(), hyper_dt, scoring = 'accuracy', cv = n_cv)\n",
    "\n",
    "gscv_out_dt, score_dt, params_dt = hyper_tune(gscv_dt, 'gscv_dt', hyper_dt, n_cv, X_train_.copy(), y_train_.copy())"
   ]
  },
  {
   "cell_type": "markdown",
   "metadata": {},
   "source": [
    "### K-Nearest Neighbors"
   ]
  },
  {
   "cell_type": "code",
   "execution_count": 65,
   "metadata": {},
   "outputs": [
    {
     "name": "stdout",
     "output_type": "stream",
     "text": [
      "training time: 00:00:00\n",
      "Accuracy: 0.7977 +/- 0.0358\n",
      "optimized parameters: {'n_neighbors': 9, 'algorithm': 'auto'}\n"
     ]
    }
   ],
   "source": [
    "hyper_knn = dict(\n",
    "    n_neighbors = [5,7,9,11], # \n",
    "    algorithm = ['auto', 'ball_tree', 'kd_tree', 'brute']\n",
    ")\n",
    "\n",
    "gscv_knn = GridSearchCV(KNeighborsClassifier(), hyper_knn, scoring = 'accuracy', cv = n_cv)\n",
    "\n",
    "gscv_out_knn, score_knn, params_knn = hyper_tune(gscv_knn, 'gscv_knn', hyper_knn, n_cv, X_train_.copy(), y_train_.copy())"
   ]
  },
  {
   "cell_type": "markdown",
   "metadata": {},
   "source": [
    "### AdaBoost"
   ]
  },
  {
   "cell_type": "code",
   "execution_count": 66,
   "metadata": {},
   "outputs": [
    {
     "name": "stdout",
     "output_type": "stream",
     "text": [
      "training time: 00:00:06\n",
      "Accuracy: 0.8030 +/- 0.0426\n",
      "optimized parameters: {'n_estimators': 50, 'learning_rate': 0.3, 'random_state': 0}\n"
     ]
    }
   ],
   "source": [
    "hyper_adab = dict(\n",
    "    n_estimators = [40, 50, 60],# 50\n",
    "    learning_rate = [0.2, 0.3, 0.4], # 0.3\n",
    "    random_state = [0]\n",
    ")c\n",
    "\n",
    "gscv_adab = GridSearchCV(AdaBoostClassifier(), hyper_adab, scoring = 'accuracy', cv = n_cv)\n",
    "\n",
    "gscv_out_adab, score_adab, params_adab = hyper_tune(gscv_adab, 'gscv_adab', hyper_adab, n_cv, X_train_.copy(), y_train_.copy())"
   ]
  },
  {
   "cell_type": "markdown",
   "metadata": {},
   "source": [
    "### XGBoost"
   ]
  },
  {
   "cell_type": "code",
   "execution_count": 67,
   "metadata": {},
   "outputs": [
    {
     "name": "stdout",
     "output_type": "stream",
     "text": [
      "training time: 00:00:10\n",
      "Accuracy: 0.8290 +/- 0.0214\n",
      "optimized parameters: {'eta': 0, 'gamma': 0, 'max_depth': 5, 'probability': True, 'random_state': 0}\n"
     ]
    }
   ],
   "source": [
    "hyper_xgb = dict(\n",
    "    eta = [0, 1e-5], # 0 \n",
    "    gamma =[0,1e-5], # 0\n",
    "    max_depth = [4, 5, 6], # 5\n",
    "    probability = [True],\n",
    "    random_state = [0]\n",
    ")\n",
    "\n",
    "gscv_xgb = GridSearchCV(XGBClassifier(), hyper_xgb, scoring = 'accuracy', cv = n_cv)\n",
    "\n",
    "gscv_out_xgb, score_xgb, params_xgb = hyper_tune(gscv_xgb, 'gscv_xgb', hyper_xgb, n_cv, X_train_.copy(), y_train_.copy())"
   ]
  },
  {
   "cell_type": "markdown",
   "metadata": {},
   "source": [
    "### CatBoost"
   ]
  },
  {
   "cell_type": "code",
   "execution_count": 70,
   "metadata": {},
   "outputs": [
    {
     "name": "stdout",
     "output_type": "stream",
     "text": [
      "training time: 00:01:41\n",
      "Accuracy: 0.8241 +/- 0.0245\n",
      "optimized parameters: {'depth': 6, 'learning_rate': 0.02, 'loss_function': 'Logloss', 'random_state': 0}\n"
     ]
    }
   ],
   "source": [
    "hyper_catb = dict(\n",
    "    depth = [6,8], # 6 \n",
    "    learning_rate = [0.02], #\n",
    "    loss_function = ['Logloss'],\n",
    "    random_state = [0]\n",
    ")\n",
    "\n",
    "gscv_catb = GridSearchCV(CatBoostClassifier(iterations = 200,verbose=0), hyper_catb, scoring = 'accuracy', cv = n_cv)\n",
    "\n",
    "gscv_out_catb, score_carb, params_carb  = hyper_tune(gscv_catb, 'gscv_catb', hyper_catb, n_cv, X_train_.copy(), y_train_.copy())"
   ]
  },
  {
   "cell_type": "markdown",
   "metadata": {},
   "source": [
    "### DNN"
   ]
  },
  {
   "cell_type": "code",
   "execution_count": 91,
   "metadata": {
    "scrolled": true
   },
   "outputs": [
    {
     "name": "stdout",
     "output_type": "stream",
     "text": [
      "training time: 00:03:38\n",
      "Accuracy: 0.8128 +/- 0.0299\n",
      "optimized parameters: {'hidden_layer_sizes': (128, 64, 16), 'alpha': 0.02, 'learning_rate': 'constant', 'max_iter': 1000, 'random_state': 0}\n"
     ]
    }
   ],
   "source": [
    "hyper_dnn = dict(\n",
    "    hidden_layer_sizes = [(128,64,16), (64,16,4)], #\n",
    "    alpha=[0.01,0.02], #\n",
    "    learning_rate = ['constant', 'invscaling', 'adaptive'], #\n",
    "    max_iter =[1000],\n",
    "    random_state=[0]\n",
    "    \n",
    ")\n",
    "\n",
    "gscv_dnn = GridSearchCV(MLPClassifier(), hyper_dnn, scoring = 'accuracy', cv = n_cv)\n",
    "\n",
    "gscv_out_dnn, score_dnn, params_dnn = hyper_tune(gscv_dnn, 'gscv_dnn', hyper_dnn, n_cv, X_train_.copy(), y_train_.copy())"
   ]
  },
  {
   "cell_type": "markdown",
   "metadata": {},
   "source": [
    "### Ensemble voting"
   ]
  },
  {
   "cell_type": "code",
   "execution_count": 95,
   "metadata": {},
   "outputs": [
    {
     "name": "stdout",
     "output_type": "stream",
     "text": [
      "training time: 00:01:09\n",
      "Accuracy: 0.8303 +/- 0.0159\n",
      "optimized parameters: {'voting': 'soft'}\n"
     ]
    }
   ],
   "source": [
    "estimators=[('random forest', gscv_out_rf.best_estimator_), \n",
    "            ('logistic', gscv_out_logis.best_estimator_), \n",
    "            ('svm', gscv_out_svm.best_estimator_),\n",
    "            ('\"gaussian NB', gscv_out_gnb.best_estimator_),\n",
    "            ('decison tree', gscv_out_dt.best_estimator_),\n",
    "            ('knn', gscv_out_knn.best_estimator_),\n",
    "            ('adaboost', gscv_out_adab.best_estimator_),\n",
    "            ('xgboost', gscv_out_xgb.best_estimator_),\n",
    "            ('catboost', gscv_out_catb.best_estimator_),\n",
    "            ('dnn', gscv_out_dnn.best_estimator_)]\n",
    "\n",
    "hyper_soft = dict(\n",
    "     voting=['soft']\n",
    ")\n",
    "\n",
    "gscv_soft = GridSearchCV(VotingClassifier(estimators), hyper_soft, scoring = 'accuracy', cv = n_cv)\n",
    "\n",
    "gscv_out_soft, score_soft, params_soft = hyper_tune(gscv_soft, 'gscv_soft', hyper_soft, n_cv, X_train_.copy(), y_train_.copy())"
   ]
  },
  {
   "cell_type": "code",
   "execution_count": 103,
   "metadata": {
    "scrolled": false
   },
   "outputs": [
    {
     "name": "stdout",
     "output_type": "stream",
     "text": [
      "training time: 00:03:30\n",
      "Accuracy: 0.8402 +/- 0.0341\n",
      "optimized parameters: {'meta_classifier__C': 10}\n"
     ]
    }
   ],
   "source": [
    "hyper_stack = dict(\n",
    "     meta_classifier__C= [1, 10, 100]\n",
    ")\n",
    "\n",
    "gscv_stack = GridSearchCV(StackingClassifier(classifiers = [X[1] for X in estimators],meta_classifier = LogisticRegression()),\n",
    "                          hyper_stack, scoring = 'accuracy', cv = n_cv)\n",
    "\n",
    "gscv_out_stack, score_stack, params_stack = hyper_tune(gscv_stack, 'gscv_stack', hyper_stack, n_cv, X_train_.copy(), y_train_.copy())"
   ]
  },
  {
   "cell_type": "markdown",
   "metadata": {},
   "source": [
    "## Validation\n"
   ]
  },
  {
   "cell_type": "code",
   "execution_count": 104,
   "metadata": {},
   "outputs": [
    {
     "name": "stdout",
     "output_type": "stream",
     "text": [
      "val accuracy\n",
      "random forest\t0.8111\n",
      "logistic regr\t0.8000\n",
      "svm\t\t0.8222\n",
      "gaussian NB\t0.8000\n",
      "decision tree\t0.8333\n",
      "knn\t\t0.7889\n",
      "adaboost\t0.8111\n",
      "xgboost\t\t0.8444\n",
      "catboost\t0.8333\n",
      "dnn\t\t0.7889\n",
      "soft voting\t0.8222\n",
      "stacking\t0.8444\n"
     ]
    }
   ],
   "source": [
    "print(\"val accuracy\")\n",
    "\n",
    "print(\"random forest\\t{:.4f}\".format(accuracy_score(gscv_out_rf.best_estimator_.predict(X_val_), y_val_)))\n",
    "print(\"logistic regr\\t{:.4f}\".format(accuracy_score(gscv_out_logis.best_estimator_.predict(X_val_), y_val_)))\n",
    "print(\"svm\\t\\t{:.4f}\".format(accuracy_score(gscv_out_svm.best_estimator_.predict(X_val_), y_val_)))\n",
    "print(\"gaussian NB\\t{:.4f}\".format(accuracy_score(gscv_out_gnb.best_estimator_.predict(X_val_), y_val_)))\n",
    "print(\"decision tree\\t{:.4f}\".format(accuracy_score(gscv_out_dt.best_estimator_.predict(X_val_), y_val_)))\n",
    "print(\"knn\\t\\t{:.4f}\".format(accuracy_score(gscv_out_knn.best_estimator_.predict(X_val_), y_val_)))\n",
    "print(\"adaboost\\t{:.4f}\".format(accuracy_score(gscv_out_adab.best_estimator_.predict(X_val_), y_val_)))\n",
    "print(\"xgboost\\t\\t{:.4f}\".format(accuracy_score(gscv_out_xgb.best_estimator_.predict(X_val_), y_val_)))\n",
    "print(\"catboost\\t{:.4f}\".format(accuracy_score(gscv_out_catb.best_estimator_.predict(X_val_), y_val_)))\n",
    "print(\"dnn\\t\\t{:.4f}\".format(accuracy_score(gscv_out_dnn.best_estimator_.predict(X_val_), y_val_)))\n",
    "print(\"soft voting\\t{:.4f}\".format(accuracy_score(gscv_out_soft.best_estimator_.predict(X_val_), y_val_)))\n",
    "print(\"stacking\\t{:.4f}\".format(accuracy_score(gscv_out_stack.best_estimator_.predict(X_val_), y_val_)))\n"
   ]
  },
  {
   "cell_type": "markdown",
   "metadata": {},
   "source": [
    "## Final training and prediction"
   ]
  },
  {
   "cell_type": "code",
   "execution_count": 105,
   "metadata": {},
   "outputs": [],
   "source": [
    "soft_estimator = gscv_out_soft.best_estimator_.fit(X_train, y_train)\n",
    "soft_pred= soft_estimator.predict(X_test).astype(int)"
   ]
  },
  {
   "cell_type": "code",
   "execution_count": 106,
   "metadata": {},
   "outputs": [],
   "source": [
    "stack_estimator = gscv_out_stack.best_estimator_.fit(X_train, y_train)\n",
    "stack_pred= stack_estimator.predict(X_test).astype(int)\n"
   ]
  },
  {
   "cell_type": "code",
   "execution_count": 109,
   "metadata": {
    "scrolled": true
   },
   "outputs": [
    {
     "data": {
      "text/html": [
       "<div>\n",
       "<style scoped>\n",
       "    .dataframe tbody tr th:only-of-type {\n",
       "        vertical-align: middle;\n",
       "    }\n",
       "\n",
       "    .dataframe tbody tr th {\n",
       "        vertical-align: top;\n",
       "    }\n",
       "\n",
       "    .dataframe thead th {\n",
       "        text-align: right;\n",
       "    }\n",
       "</style>\n",
       "<table border=\"1\" class=\"dataframe\">\n",
       "  <thead>\n",
       "    <tr style=\"text-align: right;\">\n",
       "      <th></th>\n",
       "      <th>PassengerId</th>\n",
       "      <th>Survived</th>\n",
       "    </tr>\n",
       "  </thead>\n",
       "  <tbody>\n",
       "    <tr>\n",
       "      <th>0</th>\n",
       "      <td>892</td>\n",
       "      <td>0</td>\n",
       "    </tr>\n",
       "    <tr>\n",
       "      <th>1</th>\n",
       "      <td>893</td>\n",
       "      <td>0</td>\n",
       "    </tr>\n",
       "    <tr>\n",
       "      <th>2</th>\n",
       "      <td>894</td>\n",
       "      <td>0</td>\n",
       "    </tr>\n",
       "    <tr>\n",
       "      <th>3</th>\n",
       "      <td>895</td>\n",
       "      <td>0</td>\n",
       "    </tr>\n",
       "    <tr>\n",
       "      <th>4</th>\n",
       "      <td>896</td>\n",
       "      <td>0</td>\n",
       "    </tr>\n",
       "    <tr>\n",
       "      <th>5</th>\n",
       "      <td>897</td>\n",
       "      <td>0</td>\n",
       "    </tr>\n",
       "    <tr>\n",
       "      <th>6</th>\n",
       "      <td>898</td>\n",
       "      <td>1</td>\n",
       "    </tr>\n",
       "    <tr>\n",
       "      <th>7</th>\n",
       "      <td>899</td>\n",
       "      <td>0</td>\n",
       "    </tr>\n",
       "    <tr>\n",
       "      <th>8</th>\n",
       "      <td>900</td>\n",
       "      <td>1</td>\n",
       "    </tr>\n",
       "    <tr>\n",
       "      <th>9</th>\n",
       "      <td>901</td>\n",
       "      <td>0</td>\n",
       "    </tr>\n",
       "  </tbody>\n",
       "</table>\n",
       "</div>"
      ],
      "text/plain": [
       "   PassengerId  Survived\n",
       "0          892         0\n",
       "1          893         0\n",
       "2          894         0\n",
       "3          895         0\n",
       "4          896         0\n",
       "5          897         0\n",
       "6          898         1\n",
       "7          899         0\n",
       "8          900         1\n",
       "9          901         0"
      ]
     },
     "execution_count": 109,
     "metadata": {},
     "output_type": "execute_result"
    }
   ],
   "source": [
    "soft_output = pd.DataFrame({ 'PassengerId' : df_test['PassengerId'], 'Survived': soft_pred })\n",
    "soft_output.head(10)"
   ]
  },
  {
   "cell_type": "code",
   "execution_count": 110,
   "metadata": {
    "scrolled": true
   },
   "outputs": [
    {
     "data": {
      "text/html": [
       "<div>\n",
       "<style scoped>\n",
       "    .dataframe tbody tr th:only-of-type {\n",
       "        vertical-align: middle;\n",
       "    }\n",
       "\n",
       "    .dataframe tbody tr th {\n",
       "        vertical-align: top;\n",
       "    }\n",
       "\n",
       "    .dataframe thead th {\n",
       "        text-align: right;\n",
       "    }\n",
       "</style>\n",
       "<table border=\"1\" class=\"dataframe\">\n",
       "  <thead>\n",
       "    <tr style=\"text-align: right;\">\n",
       "      <th></th>\n",
       "      <th>PassengerId</th>\n",
       "      <th>Survived</th>\n",
       "    </tr>\n",
       "  </thead>\n",
       "  <tbody>\n",
       "    <tr>\n",
       "      <th>0</th>\n",
       "      <td>892</td>\n",
       "      <td>0</td>\n",
       "    </tr>\n",
       "    <tr>\n",
       "      <th>1</th>\n",
       "      <td>893</td>\n",
       "      <td>0</td>\n",
       "    </tr>\n",
       "    <tr>\n",
       "      <th>2</th>\n",
       "      <td>894</td>\n",
       "      <td>0</td>\n",
       "    </tr>\n",
       "    <tr>\n",
       "      <th>3</th>\n",
       "      <td>895</td>\n",
       "      <td>0</td>\n",
       "    </tr>\n",
       "    <tr>\n",
       "      <th>4</th>\n",
       "      <td>896</td>\n",
       "      <td>0</td>\n",
       "    </tr>\n",
       "    <tr>\n",
       "      <th>5</th>\n",
       "      <td>897</td>\n",
       "      <td>0</td>\n",
       "    </tr>\n",
       "    <tr>\n",
       "      <th>6</th>\n",
       "      <td>898</td>\n",
       "      <td>0</td>\n",
       "    </tr>\n",
       "    <tr>\n",
       "      <th>7</th>\n",
       "      <td>899</td>\n",
       "      <td>0</td>\n",
       "    </tr>\n",
       "    <tr>\n",
       "      <th>8</th>\n",
       "      <td>900</td>\n",
       "      <td>0</td>\n",
       "    </tr>\n",
       "    <tr>\n",
       "      <th>9</th>\n",
       "      <td>901</td>\n",
       "      <td>0</td>\n",
       "    </tr>\n",
       "  </tbody>\n",
       "</table>\n",
       "</div>"
      ],
      "text/plain": [
       "   PassengerId  Survived\n",
       "0          892         0\n",
       "1          893         0\n",
       "2          894         0\n",
       "3          895         0\n",
       "4          896         0\n",
       "5          897         0\n",
       "6          898         0\n",
       "7          899         0\n",
       "8          900         0\n",
       "9          901         0"
      ]
     },
     "execution_count": 110,
     "metadata": {},
     "output_type": "execute_result"
    }
   ],
   "source": [
    "stack_output = pd.DataFrame({ 'PassengerId' : df_test['PassengerId'], 'Survived': stack_pred })\n",
    "stack_output.head(10)"
   ]
  },
  {
   "cell_type": "code",
   "execution_count": 111,
   "metadata": {},
   "outputs": [],
   "source": [
    "soft_output.to_csv('data/sub_titanic_ens_soft.csv', index = False)\n",
    "stack_output.to_csv('data/sub_titanic_ens_stack.csv', index = False)"
   ]
  },
  {
   "cell_type": "markdown",
   "metadata": {},
   "source": [
    "<p>kaggle score</p>\n",
    "\n",
    "<p>soft vote: 0.76</p>\n",
    "\n",
    "<p>stacking: 0.71</p>\n",
    "\n",
    "<p>need further investigation</p>\n"
   ]
  },
  {
   "cell_type": "markdown",
   "metadata": {},
   "source": [
    "<h2 id=\"Reference\">Reference</h2>\n",
    "\n",
    "<p><a href=\"https://www.kaggle.com/guidant/corvus-part-1-top-15-combining-5-models\">https://www.kaggle.com/guidant/corvus-part-1-top-15-combining-5-models</a></p>\n",
    "\n",
    "<p><a href=\"https://scikit-learn.org/stable/modules/ensemble.html#voting-classifier\">https://scikit-learn.org/stable/modules/ensemble.html#voting-classifier</a></p>\n",
    "\n",
    "<p><a href=\"https://setscholars.net/wp-content/uploads/2019/02/find-optimal-parameters-for-CatBoost-using-GridSearchCV-for-Classification-in-Python.html\" target=\"_blank\">https://setscholars.net/wp-content/uploads/2019/02/find-optimal-parameters-for-CatBoost-using-GridSearchCV-for-Classification-in-Python.html</a></p>\n",
    "\n",
    "<p>&nbsp;</p>\n",
    "\n",
    "<p>&nbsp;</p>\n",
    "\n",
    "<p>&nbsp;</p>\n"
   ]
  }
 ],
 "metadata": {
  "kernelspec": {
   "display_name": "Python 3",
   "language": "python",
   "name": "python3"
  },
  "language_info": {
   "codemirror_mode": {
    "name": "ipython",
    "version": 3
   },
   "file_extension": ".py",
   "mimetype": "text/x-python",
   "name": "python",
   "nbconvert_exporter": "python",
   "pygments_lexer": "ipython3",
   "version": "3.6.7"
  }
 },
 "nbformat": 4,
 "nbformat_minor": 1
}
